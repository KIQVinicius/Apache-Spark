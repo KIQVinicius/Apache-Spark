{
  "nbformat": 4,
  "nbformat_minor": 0,
  "metadata": {
    "colab": {
      "name": "LP4.ipynb",
      "provenance": [],
      "collapsed_sections": [],
      "mount_file_id": "1YgXNiW_X8c9OVFLTP4o3-GM2ah0JtjFo",
      "authorship_tag": "ABX9TyP0VDkPUq2+xZcGbGaEX6ZO",
      "include_colab_link": true
    },
    "kernelspec": {
      "name": "python3",
      "display_name": "Python 3"
    }
  },
  "cells": [
    {
      "cell_type": "markdown",
      "metadata": {
        "id": "view-in-github",
        "colab_type": "text"
      },
      "source": [
        "<a href=\"https://colab.research.google.com/github/KIQVinicius/Apache-Spark/blob/master/LP4.ipynb\" target=\"_parent\"><img src=\"https://colab.research.google.com/assets/colab-badge.svg\" alt=\"Open In Colab\"/></a>"
      ]
    },
    {
      "cell_type": "code",
      "metadata": {
        "id": "gqwibt5gowTr",
        "colab_type": "code",
        "colab": {
          "base_uri": "https://localhost:8080/",
          "height": 717
        },
        "outputId": "9369d30c-fc65-4f2a-fbe7-7cfc7d44949b"
      },
      "source": [
        "!pip install country-converter\n",
        "!pip install pycountry-convert\n",
        "!pip install tpot"
      ],
      "execution_count": 1,
      "outputs": [
        {
          "output_type": "stream",
          "text": [
            "Requirement already satisfied: country-converter in /usr/local/lib/python3.6/dist-packages (0.6.7)\n",
            "Requirement already satisfied: pandas>=0.17.0 in /usr/local/lib/python3.6/dist-packages (from country-converter) (1.0.5)\n",
            "Requirement already satisfied: python-dateutil>=2.6.1 in /usr/local/lib/python3.6/dist-packages (from pandas>=0.17.0->country-converter) (2.8.1)\n",
            "Requirement already satisfied: numpy>=1.13.3 in /usr/local/lib/python3.6/dist-packages (from pandas>=0.17.0->country-converter) (1.18.5)\n",
            "Requirement already satisfied: pytz>=2017.2 in /usr/local/lib/python3.6/dist-packages (from pandas>=0.17.0->country-converter) (2018.9)\n",
            "Requirement already satisfied: six>=1.5 in /usr/local/lib/python3.6/dist-packages (from python-dateutil>=2.6.1->pandas>=0.17.0->country-converter) (1.15.0)\n",
            "Requirement already satisfied: pycountry-convert in /usr/local/lib/python3.6/dist-packages (0.7.2)\n",
            "Requirement already satisfied: pytest-mock>=1.6.3 in /usr/local/lib/python3.6/dist-packages (from pycountry-convert) (3.3.1)\n",
            "Requirement already satisfied: pycountry>=16.11.27.1 in /usr/local/lib/python3.6/dist-packages (from pycountry-convert) (20.7.3)\n",
            "Requirement already satisfied: pytest>=3.4.0 in /usr/local/lib/python3.6/dist-packages (from pycountry-convert) (3.6.4)\n",
            "Requirement already satisfied: repoze.lru>=0.7 in /usr/local/lib/python3.6/dist-packages (from pycountry-convert) (0.7)\n",
            "Requirement already satisfied: pprintpp>=0.3.0 in /usr/local/lib/python3.6/dist-packages (from pycountry-convert) (0.4.0)\n",
            "Requirement already satisfied: wheel>=0.30.0 in /usr/local/lib/python3.6/dist-packages (from pycountry-convert) (0.35.1)\n",
            "Requirement already satisfied: pytest-cov>=2.5.1 in /usr/local/lib/python3.6/dist-packages (from pycountry-convert) (2.10.1)\n",
            "Requirement already satisfied: attrs>=17.4.0 in /usr/local/lib/python3.6/dist-packages (from pytest>=3.4.0->pycountry-convert) (20.1.0)\n",
            "Requirement already satisfied: six>=1.10.0 in /usr/local/lib/python3.6/dist-packages (from pytest>=3.4.0->pycountry-convert) (1.15.0)\n",
            "Requirement already satisfied: setuptools in /usr/local/lib/python3.6/dist-packages (from pytest>=3.4.0->pycountry-convert) (49.6.0)\n",
            "Requirement already satisfied: pluggy<0.8,>=0.5 in /usr/local/lib/python3.6/dist-packages (from pytest>=3.4.0->pycountry-convert) (0.7.1)\n",
            "Requirement already satisfied: more-itertools>=4.0.0 in /usr/local/lib/python3.6/dist-packages (from pytest>=3.4.0->pycountry-convert) (8.4.0)\n",
            "Requirement already satisfied: atomicwrites>=1.0 in /usr/local/lib/python3.6/dist-packages (from pytest>=3.4.0->pycountry-convert) (1.4.0)\n",
            "Requirement already satisfied: py>=1.5.0 in /usr/local/lib/python3.6/dist-packages (from pytest>=3.4.0->pycountry-convert) (1.9.0)\n",
            "Requirement already satisfied: coverage>=4.4 in /usr/local/lib/python3.6/dist-packages (from pytest-cov>=2.5.1->pycountry-convert) (5.2.1)\n",
            "Requirement already satisfied: tpot in /usr/local/lib/python3.6/dist-packages (0.11.5)\n",
            "Requirement already satisfied: scikit-learn>=0.22.0 in /usr/local/lib/python3.6/dist-packages (from tpot) (0.22.2.post1)\n",
            "Requirement already satisfied: scipy>=1.3.1 in /usr/local/lib/python3.6/dist-packages (from tpot) (1.4.1)\n",
            "Requirement already satisfied: joblib>=0.13.2 in /usr/local/lib/python3.6/dist-packages (from tpot) (0.16.0)\n",
            "Requirement already satisfied: numpy>=1.16.3 in /usr/local/lib/python3.6/dist-packages (from tpot) (1.18.5)\n",
            "Requirement already satisfied: update-checker>=0.16 in /usr/local/lib/python3.6/dist-packages (from tpot) (0.18.0)\n",
            "Requirement already satisfied: pandas>=0.24.2 in /usr/local/lib/python3.6/dist-packages (from tpot) (1.0.5)\n",
            "Requirement already satisfied: deap>=1.2 in /usr/local/lib/python3.6/dist-packages (from tpot) (1.3.1)\n",
            "Requirement already satisfied: tqdm>=4.36.1 in /usr/local/lib/python3.6/dist-packages (from tpot) (4.41.1)\n",
            "Requirement already satisfied: stopit>=1.1.1 in /usr/local/lib/python3.6/dist-packages (from tpot) (1.1.2)\n",
            "Requirement already satisfied: requests>=2.3.0 in /usr/local/lib/python3.6/dist-packages (from update-checker>=0.16->tpot) (2.23.0)\n",
            "Requirement already satisfied: python-dateutil>=2.6.1 in /usr/local/lib/python3.6/dist-packages (from pandas>=0.24.2->tpot) (2.8.1)\n",
            "Requirement already satisfied: pytz>=2017.2 in /usr/local/lib/python3.6/dist-packages (from pandas>=0.24.2->tpot) (2018.9)\n",
            "Requirement already satisfied: urllib3!=1.25.0,!=1.25.1,<1.26,>=1.21.1 in /usr/local/lib/python3.6/dist-packages (from requests>=2.3.0->update-checker>=0.16->tpot) (1.24.3)\n",
            "Requirement already satisfied: idna<3,>=2.5 in /usr/local/lib/python3.6/dist-packages (from requests>=2.3.0->update-checker>=0.16->tpot) (2.10)\n",
            "Requirement already satisfied: certifi>=2017.4.17 in /usr/local/lib/python3.6/dist-packages (from requests>=2.3.0->update-checker>=0.16->tpot) (2020.6.20)\n",
            "Requirement already satisfied: chardet<4,>=3.0.2 in /usr/local/lib/python3.6/dist-packages (from requests>=2.3.0->update-checker>=0.16->tpot) (3.0.4)\n",
            "Requirement already satisfied: six>=1.5 in /usr/local/lib/python3.6/dist-packages (from python-dateutil>=2.6.1->pandas>=0.24.2->tpot) (1.15.0)\n"
          ],
          "name": "stdout"
        }
      ]
    },
    {
      "cell_type": "code",
      "metadata": {
        "id": "J3Zep9ocxwcr",
        "colab_type": "code",
        "colab": {
          "base_uri": "https://localhost:8080/",
          "height": 71
        },
        "outputId": "8196b792-14cd-46ba-d22b-2224257a8116"
      },
      "source": [
        "import pandas as pd\n",
        "import seaborn as sns\n",
        "import matplotlib.pyplot as plt\n",
        "import numpy as np\n",
        "from sklearn.model_selection import train_test_split\n",
        "from sklearn.svm import LinearSVC\n",
        "from sklearn.svm import SVC\n",
        "from sklearn.metrics import accuracy_score\n",
        "from sklearn.naive_bayes import GaussianNB\n",
        "from sklearn.preprocessing import StandardScaler\n",
        "from sklearn.preprocessing import StandardScaler\n",
        "from sklearn.model_selection import train_test_split\n",
        "from sklearn.tree import DecisionTreeClassifier\n",
        "from tpot import TPOTClassifier\n",
        "from sklearn.metrics import accuracy_score\n",
        "from sklearn.tree import export_graphviz\n",
        "import graphviz\n",
        "import numpy as np\n",
        "import seaborn as sns\n",
        "import country_converter as coco\n",
        "import pycountry_convert as pycoco\n"
      ],
      "execution_count": 2,
      "outputs": [
        {
          "output_type": "stream",
          "text": [
            "/usr/local/lib/python3.6/dist-packages/statsmodels/tools/_testing.py:19: FutureWarning: pandas.util.testing is deprecated. Use the functions in the public API at pandas.testing instead.\n",
            "  import pandas.util.testing as tm\n"
          ],
          "name": "stderr"
        }
      ]
    },
    {
      "cell_type": "code",
      "metadata": {
        "id": "mLJdyq16XzIo",
        "colab_type": "code",
        "colab": {}
      },
      "source": [
        "def KMeansOtimization(num_clusters, classe):\n",
        "  model = KMeans(n_clusters = num_clusters)\n",
        "  model.fit(classe)\n",
        "  return [num_clusters, model.inertia_]"
      ],
      "execution_count": 3,
      "outputs": []
    },
    {
      "cell_type": "code",
      "metadata": {
        "id": "PKw8kul9x1Fo",
        "colab_type": "code",
        "colab": {
          "base_uri": "https://localhost:8080/",
          "height": 423
        },
        "outputId": "b56a5cc0-eb3e-41c1-8c31-3701c33ffe6a"
      },
      "source": [
        "data = pd.read_csv('/content/drive/My Drive/LP4/data-final.csv', sep = \"\\t\", nrows = 100000)\n",
        "#data_final = data_final.head(10000)\n",
        "data.head()\n"
      ],
      "execution_count": 4,
      "outputs": [
        {
          "output_type": "execute_result",
          "data": {
            "text/html": [
              "<div>\n",
              "<style scoped>\n",
              "    .dataframe tbody tr th:only-of-type {\n",
              "        vertical-align: middle;\n",
              "    }\n",
              "\n",
              "    .dataframe tbody tr th {\n",
              "        vertical-align: top;\n",
              "    }\n",
              "\n",
              "    .dataframe thead th {\n",
              "        text-align: right;\n",
              "    }\n",
              "</style>\n",
              "<table border=\"1\" class=\"dataframe\">\n",
              "  <thead>\n",
              "    <tr style=\"text-align: right;\">\n",
              "      <th></th>\n",
              "      <th>EXT1</th>\n",
              "      <th>EXT2</th>\n",
              "      <th>EXT3</th>\n",
              "      <th>EXT4</th>\n",
              "      <th>EXT5</th>\n",
              "      <th>EXT6</th>\n",
              "      <th>EXT7</th>\n",
              "      <th>EXT8</th>\n",
              "      <th>EXT9</th>\n",
              "      <th>EXT10</th>\n",
              "      <th>EST1</th>\n",
              "      <th>EST2</th>\n",
              "      <th>EST3</th>\n",
              "      <th>EST4</th>\n",
              "      <th>EST5</th>\n",
              "      <th>EST6</th>\n",
              "      <th>EST7</th>\n",
              "      <th>EST8</th>\n",
              "      <th>EST9</th>\n",
              "      <th>EST10</th>\n",
              "      <th>AGR1</th>\n",
              "      <th>AGR2</th>\n",
              "      <th>AGR3</th>\n",
              "      <th>AGR4</th>\n",
              "      <th>AGR5</th>\n",
              "      <th>AGR6</th>\n",
              "      <th>AGR7</th>\n",
              "      <th>AGR8</th>\n",
              "      <th>AGR9</th>\n",
              "      <th>AGR10</th>\n",
              "      <th>CSN1</th>\n",
              "      <th>CSN2</th>\n",
              "      <th>CSN3</th>\n",
              "      <th>CSN4</th>\n",
              "      <th>CSN5</th>\n",
              "      <th>CSN6</th>\n",
              "      <th>CSN7</th>\n",
              "      <th>CSN8</th>\n",
              "      <th>CSN9</th>\n",
              "      <th>CSN10</th>\n",
              "      <th>...</th>\n",
              "      <th>AGR1_E</th>\n",
              "      <th>AGR2_E</th>\n",
              "      <th>AGR3_E</th>\n",
              "      <th>AGR4_E</th>\n",
              "      <th>AGR5_E</th>\n",
              "      <th>AGR6_E</th>\n",
              "      <th>AGR7_E</th>\n",
              "      <th>AGR8_E</th>\n",
              "      <th>AGR9_E</th>\n",
              "      <th>AGR10_E</th>\n",
              "      <th>CSN1_E</th>\n",
              "      <th>CSN2_E</th>\n",
              "      <th>CSN3_E</th>\n",
              "      <th>CSN4_E</th>\n",
              "      <th>CSN5_E</th>\n",
              "      <th>CSN6_E</th>\n",
              "      <th>CSN7_E</th>\n",
              "      <th>CSN8_E</th>\n",
              "      <th>CSN9_E</th>\n",
              "      <th>CSN10_E</th>\n",
              "      <th>OPN1_E</th>\n",
              "      <th>OPN2_E</th>\n",
              "      <th>OPN3_E</th>\n",
              "      <th>OPN4_E</th>\n",
              "      <th>OPN5_E</th>\n",
              "      <th>OPN6_E</th>\n",
              "      <th>OPN7_E</th>\n",
              "      <th>OPN8_E</th>\n",
              "      <th>OPN9_E</th>\n",
              "      <th>OPN10_E</th>\n",
              "      <th>dateload</th>\n",
              "      <th>screenw</th>\n",
              "      <th>screenh</th>\n",
              "      <th>introelapse</th>\n",
              "      <th>testelapse</th>\n",
              "      <th>endelapse</th>\n",
              "      <th>IPC</th>\n",
              "      <th>country</th>\n",
              "      <th>lat_appx_lots_of_err</th>\n",
              "      <th>long_appx_lots_of_err</th>\n",
              "    </tr>\n",
              "  </thead>\n",
              "  <tbody>\n",
              "    <tr>\n",
              "      <th>0</th>\n",
              "      <td>4.0</td>\n",
              "      <td>1.0</td>\n",
              "      <td>5.0</td>\n",
              "      <td>2.0</td>\n",
              "      <td>5.0</td>\n",
              "      <td>1.0</td>\n",
              "      <td>5.0</td>\n",
              "      <td>2.0</td>\n",
              "      <td>4.0</td>\n",
              "      <td>1.0</td>\n",
              "      <td>1.0</td>\n",
              "      <td>4.0</td>\n",
              "      <td>4.0</td>\n",
              "      <td>2.0</td>\n",
              "      <td>2.0</td>\n",
              "      <td>2.0</td>\n",
              "      <td>2.0</td>\n",
              "      <td>2.0</td>\n",
              "      <td>3.0</td>\n",
              "      <td>2.0</td>\n",
              "      <td>2.0</td>\n",
              "      <td>5.0</td>\n",
              "      <td>2.0</td>\n",
              "      <td>4.0</td>\n",
              "      <td>2.0</td>\n",
              "      <td>3.0</td>\n",
              "      <td>2.0</td>\n",
              "      <td>4.0</td>\n",
              "      <td>3.0</td>\n",
              "      <td>4.0</td>\n",
              "      <td>3.0</td>\n",
              "      <td>4.0</td>\n",
              "      <td>3.0</td>\n",
              "      <td>2.0</td>\n",
              "      <td>2.0</td>\n",
              "      <td>4.0</td>\n",
              "      <td>4.0</td>\n",
              "      <td>2.0</td>\n",
              "      <td>4.0</td>\n",
              "      <td>4.0</td>\n",
              "      <td>...</td>\n",
              "      <td>4750.0</td>\n",
              "      <td>5475.0</td>\n",
              "      <td>11641.0</td>\n",
              "      <td>3115.0</td>\n",
              "      <td>3207.0</td>\n",
              "      <td>3260.0</td>\n",
              "      <td>10235.0</td>\n",
              "      <td>5897.0</td>\n",
              "      <td>1758.0</td>\n",
              "      <td>3081.0</td>\n",
              "      <td>6602.0</td>\n",
              "      <td>5457.0</td>\n",
              "      <td>1569.0</td>\n",
              "      <td>2129.0</td>\n",
              "      <td>3762.0</td>\n",
              "      <td>4420.0</td>\n",
              "      <td>9382.0</td>\n",
              "      <td>5286.0</td>\n",
              "      <td>4983.0</td>\n",
              "      <td>6339.0</td>\n",
              "      <td>3146.0</td>\n",
              "      <td>4067.0</td>\n",
              "      <td>2959.0</td>\n",
              "      <td>3411.0</td>\n",
              "      <td>2170.0</td>\n",
              "      <td>4920.0</td>\n",
              "      <td>4436.0</td>\n",
              "      <td>3116.0</td>\n",
              "      <td>2992.0</td>\n",
              "      <td>4354.0</td>\n",
              "      <td>2016-03-03 02:01:01</td>\n",
              "      <td>768</td>\n",
              "      <td>1024</td>\n",
              "      <td>9</td>\n",
              "      <td>234.0</td>\n",
              "      <td>6</td>\n",
              "      <td>1</td>\n",
              "      <td>GB</td>\n",
              "      <td>51.5448</td>\n",
              "      <td>0.1991</td>\n",
              "    </tr>\n",
              "    <tr>\n",
              "      <th>1</th>\n",
              "      <td>3.0</td>\n",
              "      <td>5.0</td>\n",
              "      <td>3.0</td>\n",
              "      <td>4.0</td>\n",
              "      <td>3.0</td>\n",
              "      <td>3.0</td>\n",
              "      <td>2.0</td>\n",
              "      <td>5.0</td>\n",
              "      <td>1.0</td>\n",
              "      <td>5.0</td>\n",
              "      <td>2.0</td>\n",
              "      <td>3.0</td>\n",
              "      <td>4.0</td>\n",
              "      <td>1.0</td>\n",
              "      <td>3.0</td>\n",
              "      <td>1.0</td>\n",
              "      <td>2.0</td>\n",
              "      <td>1.0</td>\n",
              "      <td>3.0</td>\n",
              "      <td>1.0</td>\n",
              "      <td>1.0</td>\n",
              "      <td>4.0</td>\n",
              "      <td>1.0</td>\n",
              "      <td>5.0</td>\n",
              "      <td>1.0</td>\n",
              "      <td>5.0</td>\n",
              "      <td>3.0</td>\n",
              "      <td>4.0</td>\n",
              "      <td>5.0</td>\n",
              "      <td>3.0</td>\n",
              "      <td>3.0</td>\n",
              "      <td>2.0</td>\n",
              "      <td>5.0</td>\n",
              "      <td>3.0</td>\n",
              "      <td>3.0</td>\n",
              "      <td>1.0</td>\n",
              "      <td>3.0</td>\n",
              "      <td>3.0</td>\n",
              "      <td>5.0</td>\n",
              "      <td>3.0</td>\n",
              "      <td>...</td>\n",
              "      <td>2158.0</td>\n",
              "      <td>2090.0</td>\n",
              "      <td>2143.0</td>\n",
              "      <td>2807.0</td>\n",
              "      <td>3422.0</td>\n",
              "      <td>5324.0</td>\n",
              "      <td>4494.0</td>\n",
              "      <td>3627.0</td>\n",
              "      <td>1850.0</td>\n",
              "      <td>1747.0</td>\n",
              "      <td>5163.0</td>\n",
              "      <td>5240.0</td>\n",
              "      <td>7208.0</td>\n",
              "      <td>2783.0</td>\n",
              "      <td>4103.0</td>\n",
              "      <td>3431.0</td>\n",
              "      <td>3347.0</td>\n",
              "      <td>2399.0</td>\n",
              "      <td>3360.0</td>\n",
              "      <td>5595.0</td>\n",
              "      <td>2624.0</td>\n",
              "      <td>4985.0</td>\n",
              "      <td>1684.0</td>\n",
              "      <td>3026.0</td>\n",
              "      <td>4742.0</td>\n",
              "      <td>3336.0</td>\n",
              "      <td>2718.0</td>\n",
              "      <td>3374.0</td>\n",
              "      <td>3096.0</td>\n",
              "      <td>3019.0</td>\n",
              "      <td>2016-03-03 02:01:20</td>\n",
              "      <td>1360</td>\n",
              "      <td>768</td>\n",
              "      <td>12</td>\n",
              "      <td>179.0</td>\n",
              "      <td>11</td>\n",
              "      <td>1</td>\n",
              "      <td>MY</td>\n",
              "      <td>3.1698</td>\n",
              "      <td>101.706</td>\n",
              "    </tr>\n",
              "    <tr>\n",
              "      <th>2</th>\n",
              "      <td>2.0</td>\n",
              "      <td>3.0</td>\n",
              "      <td>4.0</td>\n",
              "      <td>4.0</td>\n",
              "      <td>3.0</td>\n",
              "      <td>2.0</td>\n",
              "      <td>1.0</td>\n",
              "      <td>3.0</td>\n",
              "      <td>2.0</td>\n",
              "      <td>5.0</td>\n",
              "      <td>4.0</td>\n",
              "      <td>4.0</td>\n",
              "      <td>4.0</td>\n",
              "      <td>2.0</td>\n",
              "      <td>2.0</td>\n",
              "      <td>2.0</td>\n",
              "      <td>2.0</td>\n",
              "      <td>2.0</td>\n",
              "      <td>1.0</td>\n",
              "      <td>3.0</td>\n",
              "      <td>1.0</td>\n",
              "      <td>4.0</td>\n",
              "      <td>1.0</td>\n",
              "      <td>4.0</td>\n",
              "      <td>2.0</td>\n",
              "      <td>4.0</td>\n",
              "      <td>1.0</td>\n",
              "      <td>4.0</td>\n",
              "      <td>4.0</td>\n",
              "      <td>3.0</td>\n",
              "      <td>4.0</td>\n",
              "      <td>2.0</td>\n",
              "      <td>2.0</td>\n",
              "      <td>2.0</td>\n",
              "      <td>3.0</td>\n",
              "      <td>3.0</td>\n",
              "      <td>4.0</td>\n",
              "      <td>2.0</td>\n",
              "      <td>4.0</td>\n",
              "      <td>2.0</td>\n",
              "      <td>...</td>\n",
              "      <td>1089.0</td>\n",
              "      <td>2203.0</td>\n",
              "      <td>3386.0</td>\n",
              "      <td>1464.0</td>\n",
              "      <td>2562.0</td>\n",
              "      <td>1493.0</td>\n",
              "      <td>3067.0</td>\n",
              "      <td>13719.0</td>\n",
              "      <td>3892.0</td>\n",
              "      <td>4100.0</td>\n",
              "      <td>4286.0</td>\n",
              "      <td>4775.0</td>\n",
              "      <td>2713.0</td>\n",
              "      <td>2813.0</td>\n",
              "      <td>4237.0</td>\n",
              "      <td>6308.0</td>\n",
              "      <td>2690.0</td>\n",
              "      <td>1516.0</td>\n",
              "      <td>2379.0</td>\n",
              "      <td>2983.0</td>\n",
              "      <td>1930.0</td>\n",
              "      <td>1470.0</td>\n",
              "      <td>1644.0</td>\n",
              "      <td>1683.0</td>\n",
              "      <td>2229.0</td>\n",
              "      <td>8114.0</td>\n",
              "      <td>2043.0</td>\n",
              "      <td>6295.0</td>\n",
              "      <td>1585.0</td>\n",
              "      <td>2529.0</td>\n",
              "      <td>2016-03-03 02:01:56</td>\n",
              "      <td>1366</td>\n",
              "      <td>768</td>\n",
              "      <td>3</td>\n",
              "      <td>186.0</td>\n",
              "      <td>7</td>\n",
              "      <td>1</td>\n",
              "      <td>GB</td>\n",
              "      <td>54.9119</td>\n",
              "      <td>-1.3833</td>\n",
              "    </tr>\n",
              "    <tr>\n",
              "      <th>3</th>\n",
              "      <td>2.0</td>\n",
              "      <td>2.0</td>\n",
              "      <td>2.0</td>\n",
              "      <td>3.0</td>\n",
              "      <td>4.0</td>\n",
              "      <td>2.0</td>\n",
              "      <td>2.0</td>\n",
              "      <td>4.0</td>\n",
              "      <td>1.0</td>\n",
              "      <td>4.0</td>\n",
              "      <td>3.0</td>\n",
              "      <td>3.0</td>\n",
              "      <td>3.0</td>\n",
              "      <td>2.0</td>\n",
              "      <td>3.0</td>\n",
              "      <td>2.0</td>\n",
              "      <td>2.0</td>\n",
              "      <td>2.0</td>\n",
              "      <td>4.0</td>\n",
              "      <td>3.0</td>\n",
              "      <td>2.0</td>\n",
              "      <td>4.0</td>\n",
              "      <td>3.0</td>\n",
              "      <td>4.0</td>\n",
              "      <td>2.0</td>\n",
              "      <td>4.0</td>\n",
              "      <td>2.0</td>\n",
              "      <td>4.0</td>\n",
              "      <td>3.0</td>\n",
              "      <td>4.0</td>\n",
              "      <td>2.0</td>\n",
              "      <td>4.0</td>\n",
              "      <td>4.0</td>\n",
              "      <td>4.0</td>\n",
              "      <td>1.0</td>\n",
              "      <td>2.0</td>\n",
              "      <td>2.0</td>\n",
              "      <td>3.0</td>\n",
              "      <td>1.0</td>\n",
              "      <td>4.0</td>\n",
              "      <td>...</td>\n",
              "      <td>6062.0</td>\n",
              "      <td>11952.0</td>\n",
              "      <td>1040.0</td>\n",
              "      <td>2264.0</td>\n",
              "      <td>3664.0</td>\n",
              "      <td>3049.0</td>\n",
              "      <td>4912.0</td>\n",
              "      <td>7545.0</td>\n",
              "      <td>4632.0</td>\n",
              "      <td>6896.0</td>\n",
              "      <td>2824.0</td>\n",
              "      <td>520.0</td>\n",
              "      <td>2368.0</td>\n",
              "      <td>3225.0</td>\n",
              "      <td>2848.0</td>\n",
              "      <td>6264.0</td>\n",
              "      <td>3760.0</td>\n",
              "      <td>10472.0</td>\n",
              "      <td>3192.0</td>\n",
              "      <td>7704.0</td>\n",
              "      <td>3456.0</td>\n",
              "      <td>6665.0</td>\n",
              "      <td>1977.0</td>\n",
              "      <td>3728.0</td>\n",
              "      <td>4128.0</td>\n",
              "      <td>3776.0</td>\n",
              "      <td>2984.0</td>\n",
              "      <td>4192.0</td>\n",
              "      <td>3480.0</td>\n",
              "      <td>3257.0</td>\n",
              "      <td>2016-03-03 02:02:02</td>\n",
              "      <td>1920</td>\n",
              "      <td>1200</td>\n",
              "      <td>186</td>\n",
              "      <td>219.0</td>\n",
              "      <td>7</td>\n",
              "      <td>1</td>\n",
              "      <td>GB</td>\n",
              "      <td>51.75</td>\n",
              "      <td>-1.25</td>\n",
              "    </tr>\n",
              "    <tr>\n",
              "      <th>4</th>\n",
              "      <td>3.0</td>\n",
              "      <td>3.0</td>\n",
              "      <td>3.0</td>\n",
              "      <td>3.0</td>\n",
              "      <td>5.0</td>\n",
              "      <td>3.0</td>\n",
              "      <td>3.0</td>\n",
              "      <td>5.0</td>\n",
              "      <td>3.0</td>\n",
              "      <td>4.0</td>\n",
              "      <td>1.0</td>\n",
              "      <td>5.0</td>\n",
              "      <td>5.0</td>\n",
              "      <td>3.0</td>\n",
              "      <td>1.0</td>\n",
              "      <td>1.0</td>\n",
              "      <td>1.0</td>\n",
              "      <td>1.0</td>\n",
              "      <td>3.0</td>\n",
              "      <td>2.0</td>\n",
              "      <td>1.0</td>\n",
              "      <td>5.0</td>\n",
              "      <td>1.0</td>\n",
              "      <td>5.0</td>\n",
              "      <td>1.0</td>\n",
              "      <td>3.0</td>\n",
              "      <td>1.0</td>\n",
              "      <td>5.0</td>\n",
              "      <td>5.0</td>\n",
              "      <td>3.0</td>\n",
              "      <td>5.0</td>\n",
              "      <td>1.0</td>\n",
              "      <td>5.0</td>\n",
              "      <td>1.0</td>\n",
              "      <td>3.0</td>\n",
              "      <td>1.0</td>\n",
              "      <td>5.0</td>\n",
              "      <td>1.0</td>\n",
              "      <td>5.0</td>\n",
              "      <td>5.0</td>\n",
              "      <td>...</td>\n",
              "      <td>6771.0</td>\n",
              "      <td>2819.0</td>\n",
              "      <td>3682.0</td>\n",
              "      <td>2511.0</td>\n",
              "      <td>16204.0</td>\n",
              "      <td>1736.0</td>\n",
              "      <td>28983.0</td>\n",
              "      <td>1612.0</td>\n",
              "      <td>2437.0</td>\n",
              "      <td>4532.0</td>\n",
              "      <td>3843.0</td>\n",
              "      <td>7019.0</td>\n",
              "      <td>3102.0</td>\n",
              "      <td>3153.0</td>\n",
              "      <td>2869.0</td>\n",
              "      <td>6550.0</td>\n",
              "      <td>1811.0</td>\n",
              "      <td>3682.0</td>\n",
              "      <td>21500.0</td>\n",
              "      <td>20587.0</td>\n",
              "      <td>8458.0</td>\n",
              "      <td>3510.0</td>\n",
              "      <td>17042.0</td>\n",
              "      <td>7029.0</td>\n",
              "      <td>2327.0</td>\n",
              "      <td>5835.0</td>\n",
              "      <td>6846.0</td>\n",
              "      <td>5320.0</td>\n",
              "      <td>11401.0</td>\n",
              "      <td>8642.0</td>\n",
              "      <td>2016-03-03 02:02:57</td>\n",
              "      <td>1366</td>\n",
              "      <td>768</td>\n",
              "      <td>8</td>\n",
              "      <td>315.0</td>\n",
              "      <td>17</td>\n",
              "      <td>2</td>\n",
              "      <td>KE</td>\n",
              "      <td>1.0</td>\n",
              "      <td>38.0</td>\n",
              "    </tr>\n",
              "  </tbody>\n",
              "</table>\n",
              "<p>5 rows × 110 columns</p>\n",
              "</div>"
            ],
            "text/plain": [
              "   EXT1  EXT2  EXT3  ...  country  lat_appx_lots_of_err  long_appx_lots_of_err\n",
              "0   4.0   1.0   5.0  ...       GB               51.5448                 0.1991\n",
              "1   3.0   5.0   3.0  ...       MY                3.1698                101.706\n",
              "2   2.0   3.0   4.0  ...       GB               54.9119                -1.3833\n",
              "3   2.0   2.0   2.0  ...       GB                 51.75                  -1.25\n",
              "4   3.0   3.0   3.0  ...       KE                   1.0                   38.0\n",
              "\n",
              "[5 rows x 110 columns]"
            ]
          },
          "metadata": {
            "tags": []
          },
          "execution_count": 4
        }
      ]
    },
    {
      "cell_type": "code",
      "metadata": {
        "id": "tX6LQZtOUUBd",
        "colab_type": "code",
        "colab": {}
      },
      "source": [
        "data.dropna(inplace=True)"
      ],
      "execution_count": 5,
      "outputs": []
    },
    {
      "cell_type": "code",
      "metadata": {
        "id": "uZUXMs1HPLIq",
        "colab_type": "code",
        "colab": {
          "base_uri": "https://localhost:8080/",
          "height": 51
        },
        "outputId": "94d2013c-dba2-4a69-e35b-61e6ead6ff7e"
      },
      "source": [
        "iso2 = list(data[\"country\"].unique())\n",
        "\n",
        "unknown_iso2 = [\"NONE\", \"SX\", \"TL\", \"AQ\"]\n",
        "\n",
        "iso3 = coco.convert(names = iso2, to = \"ISO3\")\n",
        "continent = pd.Series(iso2)[~pd.Series(iso2).isin(unknown_iso2)]\n",
        "list_continent=[]\n",
        "for i in continent:\n",
        "  list_continent.append(pycoco.country_alpha2_to_continent_code(i))\n",
        "continent = pd.Series(list_continent)\n",
        "short_name = coco.convert(names = iso2, to = \"name_short\")\n",
        "continent = pd.Series(list_continent)\n",
        "dict_continent_name = {\n",
        "    'NA': 1, #'North America'\n",
        "    'SA': 2,#'South America', \n",
        "    'AS': 3,#'Asia',\n",
        "    'OC': 4,#'Oceania',\n",
        "    'EU': 5,#'Europe',\n",
        "    'AF': 6 #'Africa'\n",
        "}\n",
        "\n",
        "continent = continent.replace(dict_continent_name)\n",
        "dict_country = dict(zip(iso2, iso3))\n",
        "dict_short_name = dict(zip(iso3, short_name))\n",
        "dict_continent = dict(zip(iso2, continent))\n",
        "\n",
        "data[\"country_iso2\"] = data[\"country\"].replace(dict_country)\n",
        "data[\"country_iso3\"] = data[\"country\"].replace(dict_country)\n",
        "data[\"country_name\"] = data[\"country_iso3\"].replace(dict_short_name)\n",
        "data[\"continent\"] = data[\"country\"].replace(dict_continent)\n"
      ],
      "execution_count": 6,
      "outputs": [
        {
          "output_type": "stream",
          "text": [
            "WARNING:root:NONE not found in regex\n",
            "WARNING:root:NONE not found in regex\n"
          ],
          "name": "stderr"
        }
      ]
    },
    {
      "cell_type": "code",
      "metadata": {
        "id": "tsR1GbSvA8it",
        "colab_type": "code",
        "colab": {}
      },
      "source": [
        "frequency = pd.DataFrame(data['country_name'].value_counts())\n",
        "frequency.reset_index(inplace=True)\n",
        "frequency.columns = ['country_name', 'Frequencia']\n",
        "frequency = frequency.query(\"Frequencia > 1000\")\n",
        "data = data[data['country_name'].isin(frequency['country_name'])]\n",
        "data = data.query(\"country_name != 'not found'\")\n",
        "#x = data[['EXT1',\t'EXT2',\t'EXT3',\t'EXT4',\t'EXT5',\t'EXT6',\t'EXT7',\t'EXT8',\t'EXT9',\t'EXT10',\t'EST1',\t'EST2',\t'EST3',\t'EST4',\t'EST5',\t'EST6',\t'EST7',\t'EST8',\t'EST9',\t'EST10',\t'AGR1',\t'AGR2',\t'AGR3',\t'AGR4',\t'AGR5',\t'AGR6',\t'AGR7',\t'AGR8',\t'AGR9',\t'AGR10',\t'CSN1',\t'CSN2',\t'CSN3',\t'CSN4',\t'CSN5',\t'CSN6',\t'CSN7',\t'CSN8',\t'CSN9',\t'CSN10','OPN1','OPN2','OPN3','OPN4','OPN5','OPN6','OPN7','OPN8','OPN9','OPN10']]\n"
      ],
      "execution_count": 51,
      "outputs": []
    },
    {
      "cell_type": "code",
      "metadata": {
        "id": "WWcIoC4dDN8r",
        "colab_type": "code",
        "colab": {
          "base_uri": "https://localhost:8080/",
          "height": 204
        },
        "outputId": "a1b62a93-cafd-4a38-e922-31ed00c87d1e"
      },
      "source": [
        "x = data[['EXT1',\t'EXT2',\t'EXT3',\t'EXT4',\t'EXT5',\t'EXT6',\t'EXT7',\t'EXT8',\t'EXT9',\t'EXT10']]\n",
        "y = data['country_name']\n",
        "list_classes = y.unique()\n",
        "data['country_name'].value_counts()"
      ],
      "execution_count": 52,
      "outputs": [
        {
          "output_type": "execute_result",
          "data": {
            "text/plain": [
              "United Kingdom    7165\n",
              "Canada            5799\n",
              "Australia         5430\n",
              "India             2519\n",
              "Philippines       1902\n",
              "New Zealand       1429\n",
              "Germany           1352\n",
              "Netherlands       1322\n",
              "Sweden            1253\n",
              "Malaysia          1162\n",
              "Name: country_name, dtype: int64"
            ]
          },
          "metadata": {
            "tags": []
          },
          "execution_count": 52
        }
      ]
    },
    {
      "cell_type": "code",
      "metadata": {
        "id": "s1E6bg4i_GWl",
        "colab_type": "code",
        "colab": {}
      },
      "source": [
        "import pandas as pd\n",
        "import numpy as np\n",
        "from sklearn.cluster import KMeans\n",
        "from sklearn.preprocessing import LabelEncoder\n",
        "from sklearn.preprocessing import MinMaxScaler\n",
        "import seaborn as sns\n",
        "import matplotlib.pyplot as plt\n"
      ],
      "execution_count": 53,
      "outputs": []
    },
    {
      "cell_type": "code",
      "metadata": {
        "id": "3mFMsweQHT9x",
        "colab_type": "code",
        "colab": {}
      },
      "source": [
        "scaler = StandardScaler()\n",
        "scaled_x = scaler.fit_transform(x)\n",
        "scaled_x = pd.DataFrame(scaled_x, columns=x.columns)\n",
        "scaled_x = x"
      ],
      "execution_count": 54,
      "outputs": []
    },
    {
      "cell_type": "code",
      "metadata": {
        "id": "eQ52z7u0b3uY",
        "colab_type": "code",
        "colab": {}
      },
      "source": [
        "#result = [KMeansOtimization(clusters,scaled_x) for clusters in range(1, 20)]"
      ],
      "execution_count": 55,
      "outputs": []
    },
    {
      "cell_type": "code",
      "metadata": {
        "id": "BkgixuUkYSzA",
        "colab_type": "code",
        "colab": {}
      },
      "source": [
        "#result = pd.DataFrame(result,columns=['Cluster', 'Erro'])"
      ],
      "execution_count": 56,
      "outputs": []
    },
    {
      "cell_type": "code",
      "metadata": {
        "id": "ATOHLcb3i1wu",
        "colab_type": "code",
        "colab": {}
      },
      "source": [
        "#result['Erro'].plot(xticks =result['Cluster'])"
      ],
      "execution_count": 57,
      "outputs": []
    },
    {
      "cell_type": "code",
      "metadata": {
        "id": "Wz2At-jG_xMN",
        "colab_type": "code",
        "colab": {
          "base_uri": "https://localhost:8080/",
          "height": 1000
        },
        "outputId": "fe5a5a57-bdae-44a4-862f-76a383d30a30"
      },
      "source": [
        "kmeans = KMeans(n_clusters=6)\n",
        "kmeans.fit(scaled_x)\n",
        "groups = pd.DataFrame(kmeans.cluster_centers_, columns = scaled_x.columns)\n",
        "groups.plot.bar(subplots = True, figsize = (30, 20), sharex =False ,rot = 0 )\n",
        "\n"
      ],
      "execution_count": 58,
      "outputs": [
        {
          "output_type": "execute_result",
          "data": {
            "text/plain": [
              "array([<matplotlib.axes._subplots.AxesSubplot object at 0x7efc486f2668>,\n",
              "       <matplotlib.axes._subplots.AxesSubplot object at 0x7efc48a40940>,\n",
              "       <matplotlib.axes._subplots.AxesSubplot object at 0x7efc4881e2b0>,\n",
              "       <matplotlib.axes._subplots.AxesSubplot object at 0x7efc487fee48>,\n",
              "       <matplotlib.axes._subplots.AxesSubplot object at 0x7efc487b67f0>,\n",
              "       <matplotlib.axes._subplots.AxesSubplot object at 0x7efc48638a58>,\n",
              "       <matplotlib.axes._subplots.AxesSubplot object at 0x7efc485f70f0>,\n",
              "       <matplotlib.axes._subplots.AxesSubplot object at 0x7efc48627710>,\n",
              "       <matplotlib.axes._subplots.AxesSubplot object at 0x7efc48627780>,\n",
              "       <matplotlib.axes._subplots.AxesSubplot object at 0x7efc48594438>],\n",
              "      dtype=object)"
            ]
          },
          "metadata": {
            "tags": []
          },
          "execution_count": 58
        },
        {
          "output_type": "display_data",
          "data": {
            "image/png": "[encoded data removed]",
            "text/plain": [
              "<Figure size 2160x1440 with 10 Axes>"
            ]
          },
          "metadata": {
            "tags": []
          }
        }
      ]
    },
    {
      "cell_type": "code",
      "metadata": {
        "id": "UXBZ18hCUIMp",
        "colab_type": "code",
        "colab": {
          "base_uri": "https://localhost:8080/",
          "height": 221
        },
        "outputId": "4a254445-15bc-4471-9093-83ac846047c0"
      },
      "source": [
        "scaled_x['Cluster'] =kmeans.labels_\n",
        "scaled_x['continent'] = data[['continent']]"
      ],
      "execution_count": 59,
      "outputs": [
        {
          "output_type": "stream",
          "text": [
            "/usr/local/lib/python3.6/dist-packages/ipykernel_launcher.py:1: SettingWithCopyWarning: \n",
            "A value is trying to be set on a copy of a slice from a DataFrame.\n",
            "Try using .loc[row_indexer,col_indexer] = value instead\n",
            "\n",
            "See the caveats in the documentation: https://pandas.pydata.org/pandas-docs/stable/user_guide/indexing.html#returning-a-view-versus-a-copy\n",
            "  \"\"\"Entry point for launching an IPython kernel.\n",
            "/usr/local/lib/python3.6/dist-packages/ipykernel_launcher.py:2: SettingWithCopyWarning: \n",
            "A value is trying to be set on a copy of a slice from a DataFrame.\n",
            "Try using .loc[row_indexer,col_indexer] = value instead\n",
            "\n",
            "See the caveats in the documentation: https://pandas.pydata.org/pandas-docs/stable/user_guide/indexing.html#returning-a-view-versus-a-copy\n",
            "  \n"
          ],
          "name": "stderr"
        }
      ]
    },
    {
      "cell_type": "code",
      "metadata": {
        "id": "w4ke5w6SLlrh",
        "colab_type": "code",
        "colab": {}
      },
      "source": [
        "from sklearn.manifold import TSNE\n",
        "tsne = TSNE()"
      ],
      "execution_count": 43,
      "outputs": []
    },
    {
      "cell_type": "code",
      "metadata": {
        "id": "FvwLegNGJdFc",
        "colab_type": "code",
        "colab": {}
      },
      "source": [
        "#visualizacao = tsne.fit_transform(scaled_x)\n",
        "#visualizacao"
      ],
      "execution_count": 44,
      "outputs": []
    },
    {
      "cell_type": "code",
      "metadata": {
        "id": "9od5saT8G45m",
        "colab_type": "code",
        "colab": {}
      },
      "source": [
        "#sns.set(rc={'figure.figsize': (13, 13)})\n",
        "#sns.scatterplot(x = visualizacao[:,0], y = visualizacao[:,1], hue =kmeans.labels_, palette=sns.color_palette('Set1', 6) )"
      ],
      "execution_count": 45,
      "outputs": []
    },
    {
      "cell_type": "code",
      "metadata": {
        "id": "b7dTzUCuCfJy",
        "colab_type": "code",
        "colab": {
          "base_uri": "https://localhost:8080/",
          "height": 340
        },
        "outputId": "83ed78a2-0b19-4538-d3f0-f687d121cd88"
      },
      "source": [
        "#x['continent'] = pd.to_numeric(x['continent'])\n",
        "scaled_x.info()"
      ],
      "execution_count": 46,
      "outputs": [
        {
          "output_type": "stream",
          "text": [
            "<class 'pandas.core.frame.DataFrame'>\n",
            "Int64Index: 29333 entries, 0 to 99998\n",
            "Data columns (total 12 columns):\n",
            " #   Column     Non-Null Count  Dtype  \n",
            "---  ------     --------------  -----  \n",
            " 0   EXT1       29333 non-null  float64\n",
            " 1   EXT2       29333 non-null  float64\n",
            " 2   EXT3       29333 non-null  float64\n",
            " 3   EXT4       29333 non-null  float64\n",
            " 4   EXT5       29333 non-null  float64\n",
            " 5   EXT6       29333 non-null  float64\n",
            " 6   EXT7       29333 non-null  float64\n",
            " 7   EXT8       29333 non-null  float64\n",
            " 8   EXT9       29333 non-null  float64\n",
            " 9   EXT10      29333 non-null  float64\n",
            " 10  Cluster    29333 non-null  int32  \n",
            " 11  continent  29333 non-null  object \n",
            "dtypes: float64(10), int32(1), object(1)\n",
            "memory usage: 2.8+ MB\n"
          ],
          "name": "stdout"
        }
      ]
    },
    {
      "cell_type": "code",
      "metadata": {
        "id": "xf4z_dZP_MtA",
        "colab_type": "code",
        "colab": {
          "base_uri": "https://localhost:8080/",
          "height": 390
        },
        "outputId": "452fe49e-e559-421e-b360-022ea6a4dd95"
      },
      "source": [
        "corr = scaled_x.corr()\n",
        "corr"
      ],
      "execution_count": 47,
      "outputs": [
        {
          "output_type": "execute_result",
          "data": {
            "text/html": [
              "<div>\n",
              "<style scoped>\n",
              "    .dataframe tbody tr th:only-of-type {\n",
              "        vertical-align: middle;\n",
              "    }\n",
              "\n",
              "    .dataframe tbody tr th {\n",
              "        vertical-align: top;\n",
              "    }\n",
              "\n",
              "    .dataframe thead th {\n",
              "        text-align: right;\n",
              "    }\n",
              "</style>\n",
              "<table border=\"1\" class=\"dataframe\">\n",
              "  <thead>\n",
              "    <tr style=\"text-align: right;\">\n",
              "      <th></th>\n",
              "      <th>EXT1</th>\n",
              "      <th>EXT2</th>\n",
              "      <th>EXT3</th>\n",
              "      <th>EXT4</th>\n",
              "      <th>EXT5</th>\n",
              "      <th>EXT6</th>\n",
              "      <th>EXT7</th>\n",
              "      <th>EXT8</th>\n",
              "      <th>EXT9</th>\n",
              "      <th>EXT10</th>\n",
              "      <th>Cluster</th>\n",
              "    </tr>\n",
              "  </thead>\n",
              "  <tbody>\n",
              "    <tr>\n",
              "      <th>EXT1</th>\n",
              "      <td>1.000000</td>\n",
              "      <td>-0.408096</td>\n",
              "      <td>0.452337</td>\n",
              "      <td>-0.455161</td>\n",
              "      <td>0.459797</td>\n",
              "      <td>-0.319093</td>\n",
              "      <td>0.563092</td>\n",
              "      <td>-0.355406</td>\n",
              "      <td>0.447194</td>\n",
              "      <td>-0.380121</td>\n",
              "      <td>-0.245873</td>\n",
              "    </tr>\n",
              "    <tr>\n",
              "      <th>EXT2</th>\n",
              "      <td>-0.408096</td>\n",
              "      <td>1.000000</td>\n",
              "      <td>-0.386628</td>\n",
              "      <td>0.541011</td>\n",
              "      <td>-0.485820</td>\n",
              "      <td>0.547721</td>\n",
              "      <td>-0.415940</td>\n",
              "      <td>0.392344</td>\n",
              "      <td>-0.343138</td>\n",
              "      <td>0.473825</td>\n",
              "      <td>0.490742</td>\n",
              "    </tr>\n",
              "    <tr>\n",
              "      <th>EXT3</th>\n",
              "      <td>0.452337</td>\n",
              "      <td>-0.386628</td>\n",
              "      <td>1.000000</td>\n",
              "      <td>-0.398814</td>\n",
              "      <td>0.537855</td>\n",
              "      <td>-0.310086</td>\n",
              "      <td>0.520539</td>\n",
              "      <td>-0.282991</td>\n",
              "      <td>0.416659</td>\n",
              "      <td>-0.402396</td>\n",
              "      <td>-0.288737</td>\n",
              "    </tr>\n",
              "    <tr>\n",
              "      <th>EXT4</th>\n",
              "      <td>-0.455161</td>\n",
              "      <td>0.541011</td>\n",
              "      <td>-0.398814</td>\n",
              "      <td>1.000000</td>\n",
              "      <td>-0.428603</td>\n",
              "      <td>0.469232</td>\n",
              "      <td>-0.423555</td>\n",
              "      <td>0.480126</td>\n",
              "      <td>-0.403580</td>\n",
              "      <td>0.516721</td>\n",
              "      <td>0.339192</td>\n",
              "    </tr>\n",
              "    <tr>\n",
              "      <th>EXT5</th>\n",
              "      <td>0.459797</td>\n",
              "      <td>-0.485820</td>\n",
              "      <td>0.537855</td>\n",
              "      <td>-0.428603</td>\n",
              "      <td>1.000000</td>\n",
              "      <td>-0.401000</td>\n",
              "      <td>0.578140</td>\n",
              "      <td>-0.296556</td>\n",
              "      <td>0.409684</td>\n",
              "      <td>-0.457595</td>\n",
              "      <td>-0.393200</td>\n",
              "    </tr>\n",
              "    <tr>\n",
              "      <th>EXT6</th>\n",
              "      <td>-0.319093</td>\n",
              "      <td>0.547721</td>\n",
              "      <td>-0.310086</td>\n",
              "      <td>0.469232</td>\n",
              "      <td>-0.401000</td>\n",
              "      <td>1.000000</td>\n",
              "      <td>-0.330085</td>\n",
              "      <td>0.347060</td>\n",
              "      <td>-0.287377</td>\n",
              "      <td>0.411330</td>\n",
              "      <td>0.496656</td>\n",
              "    </tr>\n",
              "    <tr>\n",
              "      <th>EXT7</th>\n",
              "      <td>0.563092</td>\n",
              "      <td>-0.415940</td>\n",
              "      <td>0.520539</td>\n",
              "      <td>-0.423555</td>\n",
              "      <td>0.578140</td>\n",
              "      <td>-0.330085</td>\n",
              "      <td>1.000000</td>\n",
              "      <td>-0.293848</td>\n",
              "      <td>0.416712</td>\n",
              "      <td>-0.453828</td>\n",
              "      <td>-0.297308</td>\n",
              "    </tr>\n",
              "    <tr>\n",
              "      <th>EXT8</th>\n",
              "      <td>-0.355406</td>\n",
              "      <td>0.392344</td>\n",
              "      <td>-0.282991</td>\n",
              "      <td>0.480126</td>\n",
              "      <td>-0.296556</td>\n",
              "      <td>0.347060</td>\n",
              "      <td>-0.293848</td>\n",
              "      <td>1.000000</td>\n",
              "      <td>-0.449625</td>\n",
              "      <td>0.413707</td>\n",
              "      <td>0.181316</td>\n",
              "    </tr>\n",
              "    <tr>\n",
              "      <th>EXT9</th>\n",
              "      <td>0.447194</td>\n",
              "      <td>-0.343138</td>\n",
              "      <td>0.416659</td>\n",
              "      <td>-0.403580</td>\n",
              "      <td>0.409684</td>\n",
              "      <td>-0.287377</td>\n",
              "      <td>0.416712</td>\n",
              "      <td>-0.449625</td>\n",
              "      <td>1.000000</td>\n",
              "      <td>-0.310637</td>\n",
              "      <td>-0.131190</td>\n",
              "    </tr>\n",
              "    <tr>\n",
              "      <th>EXT10</th>\n",
              "      <td>-0.380121</td>\n",
              "      <td>0.473825</td>\n",
              "      <td>-0.402396</td>\n",
              "      <td>0.516721</td>\n",
              "      <td>-0.457595</td>\n",
              "      <td>0.411330</td>\n",
              "      <td>-0.453828</td>\n",
              "      <td>0.413707</td>\n",
              "      <td>-0.310637</td>\n",
              "      <td>1.000000</td>\n",
              "      <td>0.298286</td>\n",
              "    </tr>\n",
              "    <tr>\n",
              "      <th>Cluster</th>\n",
              "      <td>-0.245873</td>\n",
              "      <td>0.490742</td>\n",
              "      <td>-0.288737</td>\n",
              "      <td>0.339192</td>\n",
              "      <td>-0.393200</td>\n",
              "      <td>0.496656</td>\n",
              "      <td>-0.297308</td>\n",
              "      <td>0.181316</td>\n",
              "      <td>-0.131190</td>\n",
              "      <td>0.298286</td>\n",
              "      <td>1.000000</td>\n",
              "    </tr>\n",
              "  </tbody>\n",
              "</table>\n",
              "</div>"
            ],
            "text/plain": [
              "             EXT1      EXT2      EXT3  ...      EXT9     EXT10   Cluster\n",
              "EXT1     1.000000 -0.408096  0.452337  ...  0.447194 -0.380121 -0.245873\n",
              "EXT2    -0.408096  1.000000 -0.386628  ... -0.343138  0.473825  0.490742\n",
              "EXT3     0.452337 -0.386628  1.000000  ...  0.416659 -0.402396 -0.288737\n",
              "EXT4    -0.455161  0.541011 -0.398814  ... -0.403580  0.516721  0.339192\n",
              "EXT5     0.459797 -0.485820  0.537855  ...  0.409684 -0.457595 -0.393200\n",
              "EXT6    -0.319093  0.547721 -0.310086  ... -0.287377  0.411330  0.496656\n",
              "EXT7     0.563092 -0.415940  0.520539  ...  0.416712 -0.453828 -0.297308\n",
              "EXT8    -0.355406  0.392344 -0.282991  ... -0.449625  0.413707  0.181316\n",
              "EXT9     0.447194 -0.343138  0.416659  ...  1.000000 -0.310637 -0.131190\n",
              "EXT10   -0.380121  0.473825 -0.402396  ... -0.310637  1.000000  0.298286\n",
              "Cluster -0.245873  0.490742 -0.288737  ... -0.131190  0.298286  1.000000\n",
              "\n",
              "[11 rows x 11 columns]"
            ]
          },
          "metadata": {
            "tags": []
          },
          "execution_count": 47
        }
      ]
    },
    {
      "cell_type": "code",
      "metadata": {
        "id": "w2U9qekv_lCf",
        "colab_type": "code",
        "colab": {
          "base_uri": "https://localhost:8080/",
          "height": 737
        },
        "outputId": "efdfd467-82e4-4f41-f052-6ee767c57a17"
      },
      "source": [
        "  mask = np.triu(np.ones_like(corr, dtype=np.bool))\n",
        "  f, ax = plt.subplots(figsize=(15, 13))\n",
        "  cmap = sns.diverging_palette(240, 10, as_cmap=True)\n",
        "  sns.heatmap(corr, mask=mask, cmap=cmap, center=0,\n",
        "                square=True, linewidths=.5, cbar_kws={\"shrink\": .5})"
      ],
      "execution_count": 48,
      "outputs": [
        {
          "output_type": "execute_result",
          "data": {
            "text/plain": [
              "<matplotlib.axes._subplots.AxesSubplot at 0x7efc493da9e8>"
            ]
          },
          "metadata": {
            "tags": []
          },
          "execution_count": 48
        },
        {
          "output_type": "display_data",
          "data": {
            "image/png": "[encoded data removed]",
            "text/plain": [
              "<Figure size 1080x936 with 2 Axes>"
            ]
          },
          "metadata": {
            "tags": []
          }
        }
      ]
    },
    {
      "cell_type": "code",
      "metadata": {
        "id": "yeIuvMZbVZy5",
        "colab_type": "code",
        "colab": {}
      },
      "source": [
        "#raw_treino_x, raw_teste_x, treino_y, teste_y = train_test_split(x, y,\n",
        "#                                                         test_size = 0.25,\n",
        "#                                                         stratify = y)\n",
        "#\n",
        "#print(\"Treinaremos com %d elementos e testaremos com %d elementos\" % (len(raw_treino_x), len(raw_teste_x)))\n",
        "#\n",
        "#modelo = TPOTClassifier(verbosity = 2, generations=5, n_jobs=-1, config_dict=\"TPOT light\")\n",
        "#modelo.fit(raw_treino_x, treino_y)"
      ],
      "execution_count": 49,
      "outputs": []
    },
    {
      "cell_type": "code",
      "metadata": {
        "id": "CkjU2UHZhkPh",
        "colab_type": "code",
        "colab": {
          "base_uri": "https://localhost:8080/",
          "height": 51
        },
        "outputId": "58ce1d19-3b58-4f0a-9bae-bc84ec13b4c2"
      },
      "source": [
        "raw_treino_x, raw_teste_x, treino_y, teste_y = train_test_split(scaled_x, y,\n",
        "                                                         test_size = 0.25,\n",
        "                                                         stratify = y)\n",
        "\n",
        "print(\"Treinaremos com %d elementos e testaremos com %d elementos\" % (len(raw_treino_x), len(raw_teste_x)))\n",
        "\n",
        "modelo = DecisionTreeClassifier(max_depth=6)\n",
        "modelo.fit(raw_treino_x, treino_y)\n",
        "previsoes_SVC = modelo.predict(raw_teste_x)\n",
        "acuracia = accuracy_score(teste_y, previsoes_SVC) * 100\n",
        "print(\"A acurácia foi %.2f%%\" % acuracia)\n",
        "\n",
        "    \n",
        "dot_data = export_graphviz(modelo, out_file=None,  feature_names = scaled_x.columns, filled=True, rounded=True, class_names=list_classes )\n",
        "grafico = graphviz.Source(dot_data)"
      ],
      "execution_count": 50,
      "outputs": [
        {
          "output_type": "stream",
          "text": [
            "Treinaremos com 21999 elementos e testaremos com 7334 elementos\n",
            "A acurácia foi 71.61%\n"
          ],
          "name": "stdout"
        }
      ]
    },
    {
      "cell_type": "code",
      "metadata": {
        "id": "ZtGyk1TKPhF-",
        "colab_type": "code",
        "colab": {
          "base_uri": "https://localhost:8080/",
          "height": 1000
        },
        "outputId": "1c9ec3a5-08c0-4ba6-aed9-46fb5913a3cf"
      },
      "source": [
        "grafico"
      ],
      "execution_count": 26,
      "outputs": [
        {
          "output_type": "execute_result",
          "data": {
            "text/plain": [
              "<graphviz.files.Source at 0x7efc5759cc88>"
            ],
            "image/svg+xml": "<?xml version=\"1.0\" encoding=\"UTF-8\" standalone=\"no\"?>\n<!DOCTYPE svg PUBLIC \"-//W3C//DTD SVG 1.1//EN\"\n \"http://www.w3.org/Graphics/SVG/1.1/DTD/svg11.dtd\">\n<!-- Generated by graphviz version 2.40.1 (20161225.0304)\n -->\n<!-- Title: Tree Pages: 1 -->\n<svg width=\"16352pt\" height=\"820pt\"\n viewBox=\"0.00 0.00 16352.00 820.00\" xmlns=\"http://www.w3.org/2000/svg\" xmlns:xlink=\"http://www.w3.org/1999/xlink\">\n<g id=\"graph0\" class=\"graph\" transform=\"scale(1 1) rotate(0) translate(4 816)\">\n<title>Tree</title>\n<polygon fill=\"#ffffff\" stroke=\"transparent\" points=\"-4,4 -4,-816 16348,-816 16348,4 -4,4\"/>\n<!-- 0 -->\n<g id=\"node1\" class=\"node\">\n<title>0</title>\n<path fill=\"#ef8694\" stroke=\"#000000\" d=\"M9078,-812C9078,-812 8698,-812 8698,-812 8692,-812 8686,-806 8686,-800 8686,-800 8686,-726 8686,-726 8686,-720 8692,-714 8698,-714 8698,-714 9078,-714 9078,-714 9084,-714 9090,-720 9090,-726 9090,-726 9090,-800 9090,-800 9090,-806 9084,-812 9078,-812\"/>\n<text text-anchor=\"middle\" x=\"8888\" y=\"-796.8\" font-family=\"Helvetica,sans-Serif\" font-size=\"14.00\" fill=\"#000000\">continent &lt;= 2.0</text>\n<text text-anchor=\"middle\" x=\"8888\" y=\"-781.8\" font-family=\"Helvetica,sans-Serif\" font-size=\"14.00\" fill=\"#000000\">gini = 0.563</text>\n<text text-anchor=\"middle\" x=\"8888\" y=\"-766.8\" font-family=\"Helvetica,sans-Serif\" font-size=\"14.00\" fill=\"#000000\">samples = 62256</text>\n<text text-anchor=\"middle\" x=\"8888\" y=\"-751.8\" font-family=\"Helvetica,sans-Serif\" font-size=\"14.00\" fill=\"#000000\">value = [4072, 4349, 1014, 1889, 872, 991, 1072, 1426, 940</text>\n<text text-anchor=\"middle\" x=\"8888\" y=\"-736.8\" font-family=\"Helvetica,sans-Serif\" font-size=\"14.00\" fill=\"#000000\">5374, 40257]</text>\n<text text-anchor=\"middle\" x=\"8888\" y=\"-721.8\" font-family=\"Helvetica,sans-Serif\" font-size=\"14.00\" fill=\"#000000\">class = New Zealand</text>\n</g>\n<!-- 1 -->\n<g id=\"node2\" class=\"node\">\n<title>1</title>\n<path fill=\"#e84e63\" stroke=\"#000000\" d=\"M7123.5,-670.5C7123.5,-670.5 6848.5,-670.5 6848.5,-670.5 6842.5,-670.5 6836.5,-664.5 6836.5,-658.5 6836.5,-658.5 6836.5,-599.5 6836.5,-599.5 6836.5,-593.5 6842.5,-587.5 6848.5,-587.5 6848.5,-587.5 7123.5,-587.5 7123.5,-587.5 7129.5,-587.5 7135.5,-593.5 7135.5,-599.5 7135.5,-599.5 7135.5,-658.5 7135.5,-658.5 7135.5,-664.5 7129.5,-670.5 7123.5,-670.5\"/>\n<text text-anchor=\"middle\" x=\"6986\" y=\"-655.3\" font-family=\"Helvetica,sans-Serif\" font-size=\"14.00\" fill=\"#000000\">EXT9 &lt;= 3.5</text>\n<text text-anchor=\"middle\" x=\"6986\" y=\"-640.3\" font-family=\"Helvetica,sans-Serif\" font-size=\"14.00\" fill=\"#000000\">gini = 0.176</text>\n<text text-anchor=\"middle\" x=\"6986\" y=\"-625.3\" font-family=\"Helvetica,sans-Serif\" font-size=\"14.00\" fill=\"#000000\">samples = 44606</text>\n<text text-anchor=\"middle\" x=\"6986\" y=\"-610.3\" font-family=\"Helvetica,sans-Serif\" font-size=\"14.00\" fill=\"#000000\">value = [0, 4349, 0, 0, 0, 0, 0, 0, 0, 0, 40257]</text>\n<text text-anchor=\"middle\" x=\"6986\" y=\"-595.3\" font-family=\"Helvetica,sans-Serif\" font-size=\"14.00\" fill=\"#000000\">class = New Zealand</text>\n</g>\n<!-- 0&#45;&gt;1 -->\n<g id=\"edge1\" class=\"edge\">\n<title>0&#45;&gt;1</title>\n<path fill=\"none\" stroke=\"#000000\" d=\"M8685.8038,-748.7548C8305.4681,-721.9594 7490.8525,-664.5679 7145.7496,-640.2547\"/>\n<polygon fill=\"#000000\" stroke=\"#000000\" points=\"7145.8985,-636.7566 7135.6773,-639.5451 7145.4065,-643.7393 7145.8985,-636.7566\"/>\n<text text-anchor=\"middle\" x=\"7152.0689\" y=\"-654.7214\" font-family=\"Helvetica,sans-Serif\" font-size=\"14.00\" fill=\"#000000\">True</text>\n</g>\n<!-- 64 -->\n<g id=\"node65\" class=\"node\">\n<title>64</title>\n<path fill=\"#fdecf7\" stroke=\"#000000\" d=\"M10520.5,-678C10520.5,-678 10125.5,-678 10125.5,-678 10119.5,-678 10113.5,-672 10113.5,-666 10113.5,-666 10113.5,-592 10113.5,-592 10113.5,-586 10119.5,-580 10125.5,-580 10125.5,-580 10520.5,-580 10520.5,-580 10526.5,-580 10532.5,-586 10532.5,-592 10532.5,-592 10532.5,-666 10532.5,-666 10532.5,-672 10526.5,-678 10520.5,-678\"/>\n<text text-anchor=\"middle\" x=\"10323\" y=\"-662.8\" font-family=\"Helvetica,sans-Serif\" font-size=\"14.00\" fill=\"#000000\">continent &lt;= 4.5</text>\n<text text-anchor=\"middle\" x=\"10323\" y=\"-647.8\" font-family=\"Helvetica,sans-Serif\" font-size=\"14.00\" fill=\"#000000\">gini = 0.821</text>\n<text text-anchor=\"middle\" x=\"10323\" y=\"-632.8\" font-family=\"Helvetica,sans-Serif\" font-size=\"14.00\" fill=\"#000000\">samples = 17650</text>\n<text text-anchor=\"middle\" x=\"10323\" y=\"-617.8\" font-family=\"Helvetica,sans-Serif\" font-size=\"14.00\" fill=\"#000000\">value = [4072, 0, 1014, 1889, 872, 991, 1072, 1426, 940, 5374</text>\n<text text-anchor=\"middle\" x=\"10323\" y=\"-602.8\" font-family=\"Helvetica,sans-Serif\" font-size=\"14.00\" fill=\"#000000\">0]</text>\n<text text-anchor=\"middle\" x=\"10323\" y=\"-587.8\" font-family=\"Helvetica,sans-Serif\" font-size=\"14.00\" fill=\"#000000\">class = Germany</text>\n</g>\n<!-- 0&#45;&gt;64 -->\n<g id=\"edge64\" class=\"edge\">\n<title>0&#45;&gt;64</title>\n<path fill=\"none\" stroke=\"#000000\" d=\"M9090.1777,-744.1207C9357.6498,-719.1442 9827.3849,-675.2804 10103.3466,-649.5112\"/>\n<polygon fill=\"#000000\" stroke=\"#000000\" points=\"10103.8567,-652.9789 10113.488,-648.5642 10103.2058,-646.0092 10103.8567,-652.9789\"/>\n<text text-anchor=\"middle\" x=\"10097.5305\" y=\"-664.1089\" font-family=\"Helvetica,sans-Serif\" font-size=\"14.00\" fill=\"#000000\">False</text>\n</g>\n<!-- 2 -->\n<g id=\"node3\" class=\"node\">\n<title>2</title>\n<path fill=\"#e84d62\" stroke=\"#000000\" d=\"M3620.5,-544C3620.5,-544 3345.5,-544 3345.5,-544 3339.5,-544 3333.5,-538 3333.5,-532 3333.5,-532 3333.5,-473 3333.5,-473 3333.5,-467 3339.5,-461 3345.5,-461 3345.5,-461 3620.5,-461 3620.5,-461 3626.5,-461 3632.5,-467 3632.5,-473 3632.5,-473 3632.5,-532 3632.5,-532 3632.5,-538 3626.5,-544 3620.5,-544\"/>\n<text text-anchor=\"middle\" x=\"3483\" y=\"-528.8\" font-family=\"Helvetica,sans-Serif\" font-size=\"14.00\" fill=\"#000000\">EXT4 &lt;= 3.5</text>\n<text text-anchor=\"middle\" x=\"3483\" y=\"-513.8\" font-family=\"Helvetica,sans-Serif\" font-size=\"14.00\" fill=\"#000000\">gini = 0.169</text>\n<text text-anchor=\"middle\" x=\"3483\" y=\"-498.8\" font-family=\"Helvetica,sans-Serif\" font-size=\"14.00\" fill=\"#000000\">samples = 26799</text>\n<text text-anchor=\"middle\" x=\"3483\" y=\"-483.8\" font-family=\"Helvetica,sans-Serif\" font-size=\"14.00\" fill=\"#000000\">value = [0, 2502, 0, 0, 0, 0, 0, 0, 0, 0, 24297]</text>\n<text text-anchor=\"middle\" x=\"3483\" y=\"-468.8\" font-family=\"Helvetica,sans-Serif\" font-size=\"14.00\" fill=\"#000000\">class = New Zealand</text>\n</g>\n<!-- 1&#45;&gt;2 -->\n<g id=\"edge2\" class=\"edge\">\n<title>1&#45;&gt;2</title>\n<path fill=\"none\" stroke=\"#000000\" d=\"M6836.3213,-623.5948C6265.8267,-602.9932 4230.3345,-529.4877 3642.825,-508.2716\"/>\n<polygon fill=\"#000000\" stroke=\"#000000\" points=\"3642.7082,-504.7652 3632.5883,-507.9019 3642.4555,-511.7606 3642.7082,-504.7652\"/>\n</g>\n<!-- 33 -->\n<g id=\"node34\" class=\"node\">\n<title>33</title>\n<path fill=\"#e85064\" stroke=\"#000000\" d=\"M7123.5,-544C7123.5,-544 6848.5,-544 6848.5,-544 6842.5,-544 6836.5,-538 6836.5,-532 6836.5,-532 6836.5,-473 6836.5,-473 6836.5,-467 6842.5,-461 6848.5,-461 6848.5,-461 7123.5,-461 7123.5,-461 7129.5,-461 7135.5,-467 7135.5,-473 7135.5,-473 7135.5,-532 7135.5,-532 7135.5,-538 7129.5,-544 7123.5,-544\"/>\n<text text-anchor=\"middle\" x=\"6986\" y=\"-528.8\" font-family=\"Helvetica,sans-Serif\" font-size=\"14.00\" fill=\"#000000\">EXT3 &lt;= 4.5</text>\n<text text-anchor=\"middle\" x=\"6986\" y=\"-513.8\" font-family=\"Helvetica,sans-Serif\" font-size=\"14.00\" fill=\"#000000\">gini = 0.186</text>\n<text text-anchor=\"middle\" x=\"6986\" y=\"-498.8\" font-family=\"Helvetica,sans-Serif\" font-size=\"14.00\" fill=\"#000000\">samples = 17807</text>\n<text text-anchor=\"middle\" x=\"6986\" y=\"-483.8\" font-family=\"Helvetica,sans-Serif\" font-size=\"14.00\" fill=\"#000000\">value = [0, 1847, 0, 0, 0, 0, 0, 0, 0, 0, 15960]</text>\n<text text-anchor=\"middle\" x=\"6986\" y=\"-468.8\" font-family=\"Helvetica,sans-Serif\" font-size=\"14.00\" fill=\"#000000\">class = New Zealand</text>\n</g>\n<!-- 1&#45;&gt;33 -->\n<g id=\"edge33\" class=\"edge\">\n<title>1&#45;&gt;33</title>\n<path fill=\"none\" stroke=\"#000000\" d=\"M6986,-587.2286C6986,-576.7575 6986,-565.3953 6986,-554.494\"/>\n<polygon fill=\"#000000\" stroke=\"#000000\" points=\"6989.5001,-554.2275 6986,-544.2276 6982.5001,-554.2276 6989.5001,-554.2275\"/>\n</g>\n<!-- 3 -->\n<g id=\"node4\" class=\"node\">\n<title>3</title>\n<path fill=\"#e74b60\" stroke=\"#000000\" d=\"M1834.5,-425C1834.5,-425 1559.5,-425 1559.5,-425 1553.5,-425 1547.5,-419 1547.5,-413 1547.5,-413 1547.5,-354 1547.5,-354 1547.5,-348 1553.5,-342 1559.5,-342 1559.5,-342 1834.5,-342 1834.5,-342 1840.5,-342 1846.5,-348 1846.5,-354 1846.5,-354 1846.5,-413 1846.5,-413 1846.5,-419 1840.5,-425 1834.5,-425\"/>\n<text text-anchor=\"middle\" x=\"1697\" y=\"-409.8\" font-family=\"Helvetica,sans-Serif\" font-size=\"14.00\" fill=\"#000000\">EXT9 &lt;= 1.5</text>\n<text text-anchor=\"middle\" x=\"1697\" y=\"-394.8\" font-family=\"Helvetica,sans-Serif\" font-size=\"14.00\" fill=\"#000000\">gini = 0.155</text>\n<text text-anchor=\"middle\" x=\"1697\" y=\"-379.8\" font-family=\"Helvetica,sans-Serif\" font-size=\"14.00\" fill=\"#000000\">samples = 12280</text>\n<text text-anchor=\"middle\" x=\"1697\" y=\"-364.8\" font-family=\"Helvetica,sans-Serif\" font-size=\"14.00\" fill=\"#000000\">value = [0, 1039, 0, 0, 0, 0, 0, 0, 0, 0, 11241]</text>\n<text text-anchor=\"middle\" x=\"1697\" y=\"-349.8\" font-family=\"Helvetica,sans-Serif\" font-size=\"14.00\" fill=\"#000000\">class = New Zealand</text>\n</g>\n<!-- 2&#45;&gt;3 -->\n<g id=\"edge3\" class=\"edge\">\n<title>2&#45;&gt;3</title>\n<path fill=\"none\" stroke=\"#000000\" d=\"M3333.416,-492.5333C3000.1484,-470.3279 2199.0829,-416.9535 1856.6319,-394.1362\"/>\n<polygon fill=\"#000000\" stroke=\"#000000\" points=\"1856.8455,-390.6427 1846.6349,-393.4701 1856.3801,-397.6272 1856.8455,-390.6427\"/>\n</g>\n<!-- 18 -->\n<g id=\"node19\" class=\"node\">\n<title>18</title>\n<path fill=\"#e84f64\" stroke=\"#000000\" d=\"M3620.5,-425C3620.5,-425 3345.5,-425 3345.5,-425 3339.5,-425 3333.5,-419 3333.5,-413 3333.5,-413 3333.5,-354 3333.5,-354 3333.5,-348 3339.5,-342 3345.5,-342 3345.5,-342 3620.5,-342 3620.5,-342 3626.5,-342 3632.5,-348 3632.5,-354 3632.5,-354 3632.5,-413 3632.5,-413 3632.5,-419 3626.5,-425 3620.5,-425\"/>\n<text text-anchor=\"middle\" x=\"3483\" y=\"-409.8\" font-family=\"Helvetica,sans-Serif\" font-size=\"14.00\" fill=\"#000000\">EXT8 &lt;= 4.5</text>\n<text text-anchor=\"middle\" x=\"3483\" y=\"-394.8\" font-family=\"Helvetica,sans-Serif\" font-size=\"14.00\" fill=\"#000000\">gini = 0.181</text>\n<text text-anchor=\"middle\" x=\"3483\" y=\"-379.8\" font-family=\"Helvetica,sans-Serif\" font-size=\"14.00\" fill=\"#000000\">samples = 14519</text>\n<text text-anchor=\"middle\" x=\"3483\" y=\"-364.8\" font-family=\"Helvetica,sans-Serif\" font-size=\"14.00\" fill=\"#000000\">value = [0, 1463, 0, 0, 0, 0, 0, 0, 0, 0, 13056]</text>\n<text text-anchor=\"middle\" x=\"3483\" y=\"-349.8\" font-family=\"Helvetica,sans-Serif\" font-size=\"14.00\" fill=\"#000000\">class = New Zealand</text>\n</g>\n<!-- 2&#45;&gt;18 -->\n<g id=\"edge18\" class=\"edge\">\n<title>2&#45;&gt;18</title>\n<path fill=\"none\" stroke=\"#000000\" d=\"M3483,-460.8796C3483,-452.6838 3483,-443.9891 3483,-435.5013\"/>\n<polygon fill=\"#000000\" stroke=\"#000000\" points=\"3486.5001,-435.298 3483,-425.2981 3479.5001,-435.2981 3486.5001,-435.298\"/>\n</g>\n<!-- 4 -->\n<g id=\"node5\" class=\"node\">\n<title>4</title>\n<path fill=\"#e7485d\" stroke=\"#000000\" d=\"M970,-306C970,-306 712,-306 712,-306 706,-306 700,-300 700,-294 700,-294 700,-235 700,-235 700,-229 706,-223 712,-223 712,-223 970,-223 970,-223 976,-223 982,-229 982,-235 982,-235 982,-294 982,-294 982,-300 976,-306 970,-306\"/>\n<text text-anchor=\"middle\" x=\"841\" y=\"-290.8\" font-family=\"Helvetica,sans-Serif\" font-size=\"14.00\" fill=\"#000000\">EXT3 &lt;= 3.5</text>\n<text text-anchor=\"middle\" x=\"841\" y=\"-275.8\" font-family=\"Helvetica,sans-Serif\" font-size=\"14.00\" fill=\"#000000\">gini = 0.13</text>\n<text text-anchor=\"middle\" x=\"841\" y=\"-260.8\" font-family=\"Helvetica,sans-Serif\" font-size=\"14.00\" fill=\"#000000\">samples = 2009</text>\n<text text-anchor=\"middle\" x=\"841\" y=\"-245.8\" font-family=\"Helvetica,sans-Serif\" font-size=\"14.00\" fill=\"#000000\">value = [0, 140, 0, 0, 0, 0, 0, 0, 0, 0, 1869]</text>\n<text text-anchor=\"middle\" x=\"841\" y=\"-230.8\" font-family=\"Helvetica,sans-Serif\" font-size=\"14.00\" fill=\"#000000\">class = New Zealand</text>\n</g>\n<!-- 3&#45;&gt;4 -->\n<g id=\"edge4\" class=\"edge\">\n<title>3&#45;&gt;4</title>\n<path fill=\"none\" stroke=\"#000000\" d=\"M1547.4067,-362.7037C1391.5982,-341.0434 1148.835,-307.2948 992.3695,-285.5432\"/>\n<polygon fill=\"#000000\" stroke=\"#000000\" points=\"992.5768,-282.0384 982.1901,-284.1281 991.6128,-288.9717 992.5768,-282.0384\"/>\n</g>\n<!-- 11 -->\n<g id=\"node12\" class=\"node\">\n<title>11</title>\n<path fill=\"#e74c61\" stroke=\"#000000\" d=\"M1826,-306C1826,-306 1568,-306 1568,-306 1562,-306 1556,-300 1556,-294 1556,-294 1556,-235 1556,-235 1556,-229 1562,-223 1568,-223 1568,-223 1826,-223 1826,-223 1832,-223 1838,-229 1838,-235 1838,-235 1838,-294 1838,-294 1838,-300 1832,-306 1826,-306\"/>\n<text text-anchor=\"middle\" x=\"1697\" y=\"-290.8\" font-family=\"Helvetica,sans-Serif\" font-size=\"14.00\" fill=\"#000000\">EXT1 &lt;= 1.5</text>\n<text text-anchor=\"middle\" x=\"1697\" y=\"-275.8\" font-family=\"Helvetica,sans-Serif\" font-size=\"14.00\" fill=\"#000000\">gini = 0.16</text>\n<text text-anchor=\"middle\" x=\"1697\" y=\"-260.8\" font-family=\"Helvetica,sans-Serif\" font-size=\"14.00\" fill=\"#000000\">samples = 10271</text>\n<text text-anchor=\"middle\" x=\"1697\" y=\"-245.8\" font-family=\"Helvetica,sans-Serif\" font-size=\"14.00\" fill=\"#000000\">value = [0, 899, 0, 0, 0, 0, 0, 0, 0, 0, 9372]</text>\n<text text-anchor=\"middle\" x=\"1697\" y=\"-230.8\" font-family=\"Helvetica,sans-Serif\" font-size=\"14.00\" fill=\"#000000\">class = New Zealand</text>\n</g>\n<!-- 3&#45;&gt;11 -->\n<g id=\"edge11\" class=\"edge\">\n<title>3&#45;&gt;11</title>\n<path fill=\"none\" stroke=\"#000000\" d=\"M1697,-341.8796C1697,-333.6838 1697,-324.9891 1697,-316.5013\"/>\n<polygon fill=\"#000000\" stroke=\"#000000\" points=\"1700.5001,-316.298 1697,-306.2981 1693.5001,-316.2981 1700.5001,-316.298\"/>\n</g>\n<!-- 5 -->\n<g id=\"node6\" class=\"node\">\n<title>5</title>\n<path fill=\"#e7465b\" stroke=\"#000000\" d=\"M542,-187C542,-187 292,-187 292,-187 286,-187 280,-181 280,-175 280,-175 280,-116 280,-116 280,-110 286,-104 292,-104 292,-104 542,-104 542,-104 548,-104 554,-110 554,-116 554,-116 554,-175 554,-175 554,-181 548,-187 542,-187\"/>\n<text text-anchor=\"middle\" x=\"417\" y=\"-171.8\" font-family=\"Helvetica,sans-Serif\" font-size=\"14.00\" fill=\"#000000\">EXT4 &lt;= 2.5</text>\n<text text-anchor=\"middle\" x=\"417\" y=\"-156.8\" font-family=\"Helvetica,sans-Serif\" font-size=\"14.00\" fill=\"#000000\">gini = 0.112</text>\n<text text-anchor=\"middle\" x=\"417\" y=\"-141.8\" font-family=\"Helvetica,sans-Serif\" font-size=\"14.00\" fill=\"#000000\">samples = 1227</text>\n<text text-anchor=\"middle\" x=\"417\" y=\"-126.8\" font-family=\"Helvetica,sans-Serif\" font-size=\"14.00\" fill=\"#000000\">value = [0, 73, 0, 0, 0, 0, 0, 0, 0, 0, 1154]</text>\n<text text-anchor=\"middle\" x=\"417\" y=\"-111.8\" font-family=\"Helvetica,sans-Serif\" font-size=\"14.00\" fill=\"#000000\">class = New Zealand</text>\n</g>\n<!-- 4&#45;&gt;5 -->\n<g id=\"edge5\" class=\"edge\">\n<title>4&#45;&gt;5</title>\n<path fill=\"none\" stroke=\"#000000\" d=\"M699.8141,-224.8747C656.2532,-212.6489 608.1857,-199.1583 564.2282,-186.8211\"/>\n<polygon fill=\"#000000\" stroke=\"#000000\" points=\"564.9027,-183.3753 554.3289,-184.0428 563.0111,-190.1149 564.9027,-183.3753\"/>\n</g>\n<!-- 8 -->\n<g id=\"node9\" class=\"node\">\n<title>8</title>\n<path fill=\"#e74c60\" stroke=\"#000000\" d=\"M962,-187C962,-187 720,-187 720,-187 714,-187 708,-181 708,-175 708,-175 708,-116 708,-116 708,-110 714,-104 720,-104 720,-104 962,-104 962,-104 968,-104 974,-110 974,-116 974,-116 974,-175 974,-175 974,-181 968,-187 962,-187\"/>\n<text text-anchor=\"middle\" x=\"841\" y=\"-171.8\" font-family=\"Helvetica,sans-Serif\" font-size=\"14.00\" fill=\"#000000\">Cluster &lt;= 2.5</text>\n<text text-anchor=\"middle\" x=\"841\" y=\"-156.8\" font-family=\"Helvetica,sans-Serif\" font-size=\"14.00\" fill=\"#000000\">gini = 0.157</text>\n<text text-anchor=\"middle\" x=\"841\" y=\"-141.8\" font-family=\"Helvetica,sans-Serif\" font-size=\"14.00\" fill=\"#000000\">samples = 782</text>\n<text text-anchor=\"middle\" x=\"841\" y=\"-126.8\" font-family=\"Helvetica,sans-Serif\" font-size=\"14.00\" fill=\"#000000\">value = [0, 67, 0, 0, 0, 0, 0, 0, 0, 0, 715]</text>\n<text text-anchor=\"middle\" x=\"841\" y=\"-111.8\" font-family=\"Helvetica,sans-Serif\" font-size=\"14.00\" fill=\"#000000\">class = New Zealand</text>\n</g>\n<!-- 4&#45;&gt;8 -->\n<g id=\"edge8\" class=\"edge\">\n<title>4&#45;&gt;8</title>\n<path fill=\"none\" stroke=\"#000000\" d=\"M841,-222.8796C841,-214.6838 841,-205.9891 841,-197.5013\"/>\n<polygon fill=\"#000000\" stroke=\"#000000\" points=\"844.5001,-197.298 841,-187.2981 837.5001,-197.2981 844.5001,-197.298\"/>\n</g>\n<!-- 6 -->\n<g id=\"node7\" class=\"node\">\n<title>6</title>\n<path fill=\"#e74a5f\" stroke=\"#000000\" d=\"M254,-68C254,-68 12,-68 12,-68 6,-68 0,-62 0,-56 0,-56 0,-12 0,-12 0,-6 6,0 12,0 12,0 254,0 254,0 260,0 266,-6 266,-12 266,-12 266,-56 266,-56 266,-62 260,-68 254,-68\"/>\n<text text-anchor=\"middle\" x=\"133\" y=\"-52.8\" font-family=\"Helvetica,sans-Serif\" font-size=\"14.00\" fill=\"#000000\">gini = 0.149</text>\n<text text-anchor=\"middle\" x=\"133\" y=\"-37.8\" font-family=\"Helvetica,sans-Serif\" font-size=\"14.00\" fill=\"#000000\">samples = 444</text>\n<text text-anchor=\"middle\" x=\"133\" y=\"-22.8\" font-family=\"Helvetica,sans-Serif\" font-size=\"14.00\" fill=\"#000000\">value = [0, 36, 0, 0, 0, 0, 0, 0, 0, 0, 408]</text>\n<text text-anchor=\"middle\" x=\"133\" y=\"-7.8\" font-family=\"Helvetica,sans-Serif\" font-size=\"14.00\" fill=\"#000000\">class = New Zealand</text>\n</g>\n<!-- 5&#45;&gt;6 -->\n<g id=\"edge6\" class=\"edge\">\n<title>5&#45;&gt;6</title>\n<path fill=\"none\" stroke=\"#000000\" d=\"M311.2489,-103.9815C284.4217,-93.449 255.7446,-82.1902 229.4082,-71.8504\"/>\n<polygon fill=\"#000000\" stroke=\"#000000\" points=\"230.4064,-68.4823 219.819,-68.0856 227.8482,-74.9981 230.4064,-68.4823\"/>\n</g>\n<!-- 7 -->\n<g id=\"node8\" class=\"node\">\n<title>7</title>\n<path fill=\"#e64359\" stroke=\"#000000\" d=\"M538,-68C538,-68 296,-68 296,-68 290,-68 284,-62 284,-56 284,-56 284,-12 284,-12 284,-6 290,0 296,0 296,0 538,0 538,0 544,0 550,-6 550,-12 550,-12 550,-56 550,-56 550,-62 544,-68 538,-68\"/>\n<text text-anchor=\"middle\" x=\"417\" y=\"-52.8\" font-family=\"Helvetica,sans-Serif\" font-size=\"14.00\" fill=\"#000000\">gini = 0.09</text>\n<text text-anchor=\"middle\" x=\"417\" y=\"-37.8\" font-family=\"Helvetica,sans-Serif\" font-size=\"14.00\" fill=\"#000000\">samples = 783</text>\n<text text-anchor=\"middle\" x=\"417\" y=\"-22.8\" font-family=\"Helvetica,sans-Serif\" font-size=\"14.00\" fill=\"#000000\">value = [0, 37, 0, 0, 0, 0, 0, 0, 0, 0, 746]</text>\n<text text-anchor=\"middle\" x=\"417\" y=\"-7.8\" font-family=\"Helvetica,sans-Serif\" font-size=\"14.00\" fill=\"#000000\">class = New Zealand</text>\n</g>\n<!-- 5&#45;&gt;7 -->\n<g id=\"edge7\" class=\"edge\">\n<title>5&#45;&gt;7</title>\n<path fill=\"none\" stroke=\"#000000\" d=\"M417,-103.9815C417,-95.618 417,-86.7965 417,-78.3409\"/>\n<polygon fill=\"#000000\" stroke=\"#000000\" points=\"420.5001,-78.2636 417,-68.2637 413.5001,-78.2637 420.5001,-78.2636\"/>\n</g>\n<!-- 9 -->\n<g id=\"node10\" class=\"node\">\n<title>9</title>\n<path fill=\"#e64157\" stroke=\"#000000\" d=\"M813.5,-68C813.5,-68 580.5,-68 580.5,-68 574.5,-68 568.5,-62 568.5,-56 568.5,-56 568.5,-12 568.5,-12 568.5,-6 574.5,0 580.5,0 580.5,0 813.5,0 813.5,0 819.5,0 825.5,-6 825.5,-12 825.5,-12 825.5,-56 825.5,-56 825.5,-62 819.5,-68 813.5,-68\"/>\n<text text-anchor=\"middle\" x=\"697\" y=\"-52.8\" font-family=\"Helvetica,sans-Serif\" font-size=\"14.00\" fill=\"#000000\">gini = 0.076</text>\n<text text-anchor=\"middle\" x=\"697\" y=\"-37.8\" font-family=\"Helvetica,sans-Serif\" font-size=\"14.00\" fill=\"#000000\">samples = 126</text>\n<text text-anchor=\"middle\" x=\"697\" y=\"-22.8\" font-family=\"Helvetica,sans-Serif\" font-size=\"14.00\" fill=\"#000000\">value = [0, 5, 0, 0, 0, 0, 0, 0, 0, 0, 121]</text>\n<text text-anchor=\"middle\" x=\"697\" y=\"-7.8\" font-family=\"Helvetica,sans-Serif\" font-size=\"14.00\" fill=\"#000000\">class = New Zealand</text>\n</g>\n<!-- 8&#45;&gt;9 -->\n<g id=\"edge9\" class=\"edge\">\n<title>8&#45;&gt;9</title>\n<path fill=\"none\" stroke=\"#000000\" d=\"M787.3797,-103.9815C774.9167,-94.3313 761.6662,-84.0714 749.2627,-74.4673\"/>\n<polygon fill=\"#000000\" stroke=\"#000000\" points=\"751.3005,-71.6186 741.2508,-68.2637 747.0149,-77.1534 751.3005,-71.6186\"/>\n</g>\n<!-- 10 -->\n<g id=\"node11\" class=\"node\">\n<title>10</title>\n<path fill=\"#e84e62\" stroke=\"#000000\" d=\"M1098,-68C1098,-68 856,-68 856,-68 850,-68 844,-62 844,-56 844,-56 844,-12 844,-12 844,-6 850,0 856,0 856,0 1098,0 1098,0 1104,0 1110,-6 1110,-12 1110,-12 1110,-56 1110,-56 1110,-62 1104,-68 1098,-68\"/>\n<text text-anchor=\"middle\" x=\"977\" y=\"-52.8\" font-family=\"Helvetica,sans-Serif\" font-size=\"14.00\" fill=\"#000000\">gini = 0.171</text>\n<text text-anchor=\"middle\" x=\"977\" y=\"-37.8\" font-family=\"Helvetica,sans-Serif\" font-size=\"14.00\" fill=\"#000000\">samples = 656</text>\n<text text-anchor=\"middle\" x=\"977\" y=\"-22.8\" font-family=\"Helvetica,sans-Serif\" font-size=\"14.00\" fill=\"#000000\">value = [0, 62, 0, 0, 0, 0, 0, 0, 0, 0, 594]</text>\n<text text-anchor=\"middle\" x=\"977\" y=\"-7.8\" font-family=\"Helvetica,sans-Serif\" font-size=\"14.00\" fill=\"#000000\">class = New Zealand</text>\n</g>\n<!-- 8&#45;&gt;10 -->\n<g id=\"edge10\" class=\"edge\">\n<title>8&#45;&gt;10</title>\n<path fill=\"none\" stroke=\"#000000\" d=\"M891.6414,-103.9815C903.2999,-94.4232 915.688,-84.2668 927.3059,-74.7419\"/>\n<polygon fill=\"#000000\" stroke=\"#000000\" points=\"929.6933,-77.3105 935.2075,-68.2637 925.2552,-71.8972 929.6933,-77.3105\"/>\n</g>\n<!-- 12 -->\n<g id=\"node13\" class=\"node\">\n<title>12</title>\n<path fill=\"#e85266\" stroke=\"#000000\" d=\"M1676,-187C1676,-187 1418,-187 1418,-187 1412,-187 1406,-181 1406,-175 1406,-175 1406,-116 1406,-116 1406,-110 1412,-104 1418,-104 1418,-104 1676,-104 1676,-104 1682,-104 1688,-110 1688,-116 1688,-116 1688,-175 1688,-175 1688,-181 1682,-187 1676,-187\"/>\n<text text-anchor=\"middle\" x=\"1547\" y=\"-171.8\" font-family=\"Helvetica,sans-Serif\" font-size=\"14.00\" fill=\"#000000\">EXT10 &lt;= 2.5</text>\n<text text-anchor=\"middle\" x=\"1547\" y=\"-156.8\" font-family=\"Helvetica,sans-Serif\" font-size=\"14.00\" fill=\"#000000\">gini = 0.197</text>\n<text text-anchor=\"middle\" x=\"1547\" y=\"-141.8\" font-family=\"Helvetica,sans-Serif\" font-size=\"14.00\" fill=\"#000000\">samples = 1213</text>\n<text text-anchor=\"middle\" x=\"1547\" y=\"-126.8\" font-family=\"Helvetica,sans-Serif\" font-size=\"14.00\" fill=\"#000000\">value = [0, 134, 0, 0, 0, 0, 0, 0, 0, 0, 1079]</text>\n<text text-anchor=\"middle\" x=\"1547\" y=\"-111.8\" font-family=\"Helvetica,sans-Serif\" font-size=\"14.00\" fill=\"#000000\">class = New Zealand</text>\n</g>\n<!-- 11&#45;&gt;12 -->\n<g id=\"edge12\" class=\"edge\">\n<title>11&#45;&gt;12</title>\n<path fill=\"none\" stroke=\"#000000\" d=\"M1644.5373,-222.8796C1632.5479,-213.368 1619.7113,-203.1843 1607.4184,-193.432\"/>\n<polygon fill=\"#000000\" stroke=\"#000000\" points=\"1609.4425,-190.5701 1599.4331,-187.0969 1605.0919,-196.054 1609.4425,-190.5701\"/>\n</g>\n<!-- 15 -->\n<g id=\"node16\" class=\"node\">\n<title>15</title>\n<path fill=\"#e74b60\" stroke=\"#000000\" d=\"M1976,-187C1976,-187 1718,-187 1718,-187 1712,-187 1706,-181 1706,-175 1706,-175 1706,-116 1706,-116 1706,-110 1712,-104 1718,-104 1718,-104 1976,-104 1976,-104 1982,-104 1988,-110 1988,-116 1988,-116 1988,-175 1988,-175 1988,-181 1982,-187 1976,-187\"/>\n<text text-anchor=\"middle\" x=\"1847\" y=\"-171.8\" font-family=\"Helvetica,sans-Serif\" font-size=\"14.00\" fill=\"#000000\">EXT10 &lt;= 3.5</text>\n<text text-anchor=\"middle\" x=\"1847\" y=\"-156.8\" font-family=\"Helvetica,sans-Serif\" font-size=\"14.00\" fill=\"#000000\">gini = 0.155</text>\n<text text-anchor=\"middle\" x=\"1847\" y=\"-141.8\" font-family=\"Helvetica,sans-Serif\" font-size=\"14.00\" fill=\"#000000\">samples = 9058</text>\n<text text-anchor=\"middle\" x=\"1847\" y=\"-126.8\" font-family=\"Helvetica,sans-Serif\" font-size=\"14.00\" fill=\"#000000\">value = [0, 765, 0, 0, 0, 0, 0, 0, 0, 0, 8293]</text>\n<text text-anchor=\"middle\" x=\"1847\" y=\"-111.8\" font-family=\"Helvetica,sans-Serif\" font-size=\"14.00\" fill=\"#000000\">class = New Zealand</text>\n</g>\n<!-- 11&#45;&gt;15 -->\n<g id=\"edge15\" class=\"edge\">\n<title>11&#45;&gt;15</title>\n<path fill=\"none\" stroke=\"#000000\" d=\"M1749.4627,-222.8796C1761.4521,-213.368 1774.2887,-203.1843 1786.5816,-193.432\"/>\n<polygon fill=\"#000000\" stroke=\"#000000\" points=\"1788.9081,-196.054 1794.5669,-187.0969 1784.5575,-190.5701 1788.9081,-196.054\"/>\n</g>\n<!-- 13 -->\n<g id=\"node14\" class=\"node\">\n<title>13</title>\n<path fill=\"#ea5f72\" stroke=\"#000000\" d=\"M1382,-68C1382,-68 1140,-68 1140,-68 1134,-68 1128,-62 1128,-56 1128,-56 1128,-12 1128,-12 1128,-6 1134,0 1140,0 1140,0 1382,0 1382,0 1388,0 1394,-6 1394,-12 1394,-12 1394,-56 1394,-56 1394,-62 1388,-68 1382,-68\"/>\n<text text-anchor=\"middle\" x=\"1261\" y=\"-52.8\" font-family=\"Helvetica,sans-Serif\" font-size=\"14.00\" fill=\"#000000\">gini = 0.272</text>\n<text text-anchor=\"middle\" x=\"1261\" y=\"-37.8\" font-family=\"Helvetica,sans-Serif\" font-size=\"14.00\" fill=\"#000000\">samples = 191</text>\n<text text-anchor=\"middle\" x=\"1261\" y=\"-22.8\" font-family=\"Helvetica,sans-Serif\" font-size=\"14.00\" fill=\"#000000\">value = [0, 31, 0, 0, 0, 0, 0, 0, 0, 0, 160]</text>\n<text text-anchor=\"middle\" x=\"1261\" y=\"-7.8\" font-family=\"Helvetica,sans-Serif\" font-size=\"14.00\" fill=\"#000000\">class = New Zealand</text>\n</g>\n<!-- 12&#45;&gt;13 -->\n<g id=\"edge13\" class=\"edge\">\n<title>12&#45;&gt;13</title>\n<path fill=\"none\" stroke=\"#000000\" d=\"M1440.5042,-103.9815C1413.488,-93.449 1384.609,-82.1902 1358.0871,-71.8504\"/>\n<polygon fill=\"#000000\" stroke=\"#000000\" points=\"1359.0187,-68.4571 1348.4304,-68.0856 1356.4761,-74.979 1359.0187,-68.4571\"/>\n</g>\n<!-- 14 -->\n<g id=\"node15\" class=\"node\">\n<title>14</title>\n<path fill=\"#e84f64\" stroke=\"#000000\" d=\"M1674,-68C1674,-68 1424,-68 1424,-68 1418,-68 1412,-62 1412,-56 1412,-56 1412,-12 1412,-12 1412,-6 1418,0 1424,0 1424,0 1674,0 1674,0 1680,0 1686,-6 1686,-12 1686,-12 1686,-56 1686,-56 1686,-62 1680,-68 1674,-68\"/>\n<text text-anchor=\"middle\" x=\"1549\" y=\"-52.8\" font-family=\"Helvetica,sans-Serif\" font-size=\"14.00\" fill=\"#000000\">gini = 0.181</text>\n<text text-anchor=\"middle\" x=\"1549\" y=\"-37.8\" font-family=\"Helvetica,sans-Serif\" font-size=\"14.00\" fill=\"#000000\">samples = 1022</text>\n<text text-anchor=\"middle\" x=\"1549\" y=\"-22.8\" font-family=\"Helvetica,sans-Serif\" font-size=\"14.00\" fill=\"#000000\">value = [0, 103, 0, 0, 0, 0, 0, 0, 0, 0, 919]</text>\n<text text-anchor=\"middle\" x=\"1549\" y=\"-7.8\" font-family=\"Helvetica,sans-Serif\" font-size=\"14.00\" fill=\"#000000\">class = New Zealand</text>\n</g>\n<!-- 12&#45;&gt;14 -->\n<g id=\"edge14\" class=\"edge\">\n<title>12&#45;&gt;14</title>\n<path fill=\"none\" stroke=\"#000000\" d=\"M1547.7447,-103.9815C1547.8947,-95.618 1548.053,-86.7965 1548.2046,-78.3409\"/>\n<polygon fill=\"#000000\" stroke=\"#000000\" points=\"1551.7054,-78.3249 1548.3854,-68.2637 1544.7065,-78.1993 1551.7054,-78.3249\"/>\n</g>\n<!-- 16 -->\n<g id=\"node17\" class=\"node\">\n<title>16</title>\n<path fill=\"#e74a5f\" stroke=\"#000000\" d=\"M1974,-68C1974,-68 1716,-68 1716,-68 1710,-68 1704,-62 1704,-56 1704,-56 1704,-12 1704,-12 1704,-6 1710,0 1716,0 1716,0 1974,0 1974,0 1980,0 1986,-6 1986,-12 1986,-12 1986,-56 1986,-56 1986,-62 1980,-68 1974,-68\"/>\n<text text-anchor=\"middle\" x=\"1845\" y=\"-52.8\" font-family=\"Helvetica,sans-Serif\" font-size=\"14.00\" fill=\"#000000\">gini = 0.143</text>\n<text text-anchor=\"middle\" x=\"1845\" y=\"-37.8\" font-family=\"Helvetica,sans-Serif\" font-size=\"14.00\" fill=\"#000000\">samples = 4888</text>\n<text text-anchor=\"middle\" x=\"1845\" y=\"-22.8\" font-family=\"Helvetica,sans-Serif\" font-size=\"14.00\" fill=\"#000000\">value = [0, 378, 0, 0, 0, 0, 0, 0, 0, 0, 4510]</text>\n<text text-anchor=\"middle\" x=\"1845\" y=\"-7.8\" font-family=\"Helvetica,sans-Serif\" font-size=\"14.00\" fill=\"#000000\">class = New Zealand</text>\n</g>\n<!-- 15&#45;&gt;16 -->\n<g id=\"edge16\" class=\"edge\">\n<title>15&#45;&gt;16</title>\n<path fill=\"none\" stroke=\"#000000\" d=\"M1846.2553,-103.9815C1846.1053,-95.618 1845.947,-86.7965 1845.7954,-78.3409\"/>\n<polygon fill=\"#000000\" stroke=\"#000000\" points=\"1849.2935,-78.1993 1845.6146,-68.2637 1842.2946,-78.3249 1849.2935,-78.1993\"/>\n</g>\n<!-- 17 -->\n<g id=\"node18\" class=\"node\">\n<title>17</title>\n<path fill=\"#e84d62\" stroke=\"#000000\" d=\"M2274,-68C2274,-68 2016,-68 2016,-68 2010,-68 2004,-62 2004,-56 2004,-56 2004,-12 2004,-12 2004,-6 2010,0 2016,0 2016,0 2274,0 2274,0 2280,0 2286,-6 2286,-12 2286,-12 2286,-56 2286,-56 2286,-62 2280,-68 2274,-68\"/>\n<text text-anchor=\"middle\" x=\"2145\" y=\"-52.8\" font-family=\"Helvetica,sans-Serif\" font-size=\"14.00\" fill=\"#000000\">gini = 0.168</text>\n<text text-anchor=\"middle\" x=\"2145\" y=\"-37.8\" font-family=\"Helvetica,sans-Serif\" font-size=\"14.00\" fill=\"#000000\">samples = 4170</text>\n<text text-anchor=\"middle\" x=\"2145\" y=\"-22.8\" font-family=\"Helvetica,sans-Serif\" font-size=\"14.00\" fill=\"#000000\">value = [0, 387, 0, 0, 0, 0, 0, 0, 0, 0, 3783]</text>\n<text text-anchor=\"middle\" x=\"2145\" y=\"-7.8\" font-family=\"Helvetica,sans-Serif\" font-size=\"14.00\" fill=\"#000000\">class = New Zealand</text>\n</g>\n<!-- 15&#45;&gt;17 -->\n<g id=\"edge17\" class=\"edge\">\n<title>15&#45;&gt;17</title>\n<path fill=\"none\" stroke=\"#000000\" d=\"M1957.9642,-103.9815C1986.2373,-93.4028 2016.4686,-82.0914 2044.2027,-71.7144\"/>\n<polygon fill=\"#000000\" stroke=\"#000000\" points=\"2045.7619,-74.8681 2053.9012,-68.0856 2043.3088,-68.312 2045.7619,-74.8681\"/>\n</g>\n<!-- 19 -->\n<g id=\"node20\" class=\"node\">\n<title>19</title>\n<path fill=\"#e85165\" stroke=\"#000000\" d=\"M3391,-306C3391,-306 3133,-306 3133,-306 3127,-306 3121,-300 3121,-294 3121,-294 3121,-235 3121,-235 3121,-229 3127,-223 3133,-223 3133,-223 3391,-223 3391,-223 3397,-223 3403,-229 3403,-235 3403,-235 3403,-294 3403,-294 3403,-300 3397,-306 3391,-306\"/>\n<text text-anchor=\"middle\" x=\"3262\" y=\"-290.8\" font-family=\"Helvetica,sans-Serif\" font-size=\"14.00\" fill=\"#000000\">EXT9 &lt;= 2.5</text>\n<text text-anchor=\"middle\" x=\"3262\" y=\"-275.8\" font-family=\"Helvetica,sans-Serif\" font-size=\"14.00\" fill=\"#000000\">gini = 0.192</text>\n<text text-anchor=\"middle\" x=\"3262\" y=\"-260.8\" font-family=\"Helvetica,sans-Serif\" font-size=\"14.00\" fill=\"#000000\">samples = 6965</text>\n<text text-anchor=\"middle\" x=\"3262\" y=\"-245.8\" font-family=\"Helvetica,sans-Serif\" font-size=\"14.00\" fill=\"#000000\">value = [0, 751, 0, 0, 0, 0, 0, 0, 0, 0, 6214]</text>\n<text text-anchor=\"middle\" x=\"3262\" y=\"-230.8\" font-family=\"Helvetica,sans-Serif\" font-size=\"14.00\" fill=\"#000000\">class = New Zealand</text>\n</g>\n<!-- 18&#45;&gt;19 -->\n<g id=\"edge19\" class=\"edge\">\n<title>18&#45;&gt;19</title>\n<path fill=\"none\" stroke=\"#000000\" d=\"M3405.7049,-341.8796C3387.1152,-331.8697 3367.1433,-321.1156 3348.1773,-310.9031\"/>\n<polygon fill=\"#000000\" stroke=\"#000000\" points=\"3349.7155,-307.7563 3339.2514,-306.0969 3346.3968,-313.9196 3349.7155,-307.7563\"/>\n</g>\n<!-- 26 -->\n<g id=\"node27\" class=\"node\">\n<title>26</title>\n<path fill=\"#e84e62\" stroke=\"#000000\" d=\"M3833,-306C3833,-306 3575,-306 3575,-306 3569,-306 3563,-300 3563,-294 3563,-294 3563,-235 3563,-235 3563,-229 3569,-223 3575,-223 3575,-223 3833,-223 3833,-223 3839,-223 3845,-229 3845,-235 3845,-235 3845,-294 3845,-294 3845,-300 3839,-306 3833,-306\"/>\n<text text-anchor=\"middle\" x=\"3704\" y=\"-290.8\" font-family=\"Helvetica,sans-Serif\" font-size=\"14.00\" fill=\"#000000\">EXT3 &lt;= 1.5</text>\n<text text-anchor=\"middle\" x=\"3704\" y=\"-275.8\" font-family=\"Helvetica,sans-Serif\" font-size=\"14.00\" fill=\"#000000\">gini = 0.171</text>\n<text text-anchor=\"middle\" x=\"3704\" y=\"-260.8\" font-family=\"Helvetica,sans-Serif\" font-size=\"14.00\" fill=\"#000000\">samples = 7554</text>\n<text text-anchor=\"middle\" x=\"3704\" y=\"-245.8\" font-family=\"Helvetica,sans-Serif\" font-size=\"14.00\" fill=\"#000000\">value = [0, 712, 0, 0, 0, 0, 0, 0, 0, 0, 6842]</text>\n<text text-anchor=\"middle\" x=\"3704\" y=\"-230.8\" font-family=\"Helvetica,sans-Serif\" font-size=\"14.00\" fill=\"#000000\">class = New Zealand</text>\n</g>\n<!-- 18&#45;&gt;26 -->\n<g id=\"edge26\" class=\"edge\">\n<title>18&#45;&gt;26</title>\n<path fill=\"none\" stroke=\"#000000\" d=\"M3560.2951,-341.8796C3578.8848,-331.8697 3598.8567,-321.1156 3617.8227,-310.9031\"/>\n<polygon fill=\"#000000\" stroke=\"#000000\" points=\"3619.6032,-313.9196 3626.7486,-306.0969 3616.2845,-307.7563 3619.6032,-313.9196\"/>\n</g>\n<!-- 20 -->\n<g id=\"node21\" class=\"node\">\n<title>20</title>\n<path fill=\"#e84f64\" stroke=\"#000000\" d=\"M2874,-187C2874,-187 2616,-187 2616,-187 2610,-187 2604,-181 2604,-175 2604,-175 2604,-116 2604,-116 2604,-110 2610,-104 2616,-104 2616,-104 2874,-104 2874,-104 2880,-104 2886,-110 2886,-116 2886,-116 2886,-175 2886,-175 2886,-181 2880,-187 2874,-187\"/>\n<text text-anchor=\"middle\" x=\"2745\" y=\"-171.8\" font-family=\"Helvetica,sans-Serif\" font-size=\"14.00\" fill=\"#000000\">Cluster &lt;= 0.5</text>\n<text text-anchor=\"middle\" x=\"2745\" y=\"-156.8\" font-family=\"Helvetica,sans-Serif\" font-size=\"14.00\" fill=\"#000000\">gini = 0.183</text>\n<text text-anchor=\"middle\" x=\"2745\" y=\"-141.8\" font-family=\"Helvetica,sans-Serif\" font-size=\"14.00\" fill=\"#000000\">samples = 4630</text>\n<text text-anchor=\"middle\" x=\"2745\" y=\"-126.8\" font-family=\"Helvetica,sans-Serif\" font-size=\"14.00\" fill=\"#000000\">value = [0, 472, 0, 0, 0, 0, 0, 0, 0, 0, 4158]</text>\n<text text-anchor=\"middle\" x=\"2745\" y=\"-111.8\" font-family=\"Helvetica,sans-Serif\" font-size=\"14.00\" fill=\"#000000\">class = New Zealand</text>\n</g>\n<!-- 19&#45;&gt;20 -->\n<g id=\"edge20\" class=\"edge\">\n<title>19&#45;&gt;20</title>\n<path fill=\"none\" stroke=\"#000000\" d=\"M3120.7275,-231.9827C3051.0551,-215.946 2966.9683,-196.5914 2896.0224,-180.2614\"/>\n<polygon fill=\"#000000\" stroke=\"#000000\" points=\"2896.632,-176.8103 2886.1017,-177.978 2895.0618,-183.6319 2896.632,-176.8103\"/>\n</g>\n<!-- 23 -->\n<g id=\"node24\" class=\"node\">\n<title>23</title>\n<path fill=\"#e95468\" stroke=\"#000000\" d=\"M3391,-187C3391,-187 3133,-187 3133,-187 3127,-187 3121,-181 3121,-175 3121,-175 3121,-116 3121,-116 3121,-110 3127,-104 3133,-104 3133,-104 3391,-104 3391,-104 3397,-104 3403,-110 3403,-116 3403,-116 3403,-175 3403,-175 3403,-181 3397,-187 3391,-187\"/>\n<text text-anchor=\"middle\" x=\"3262\" y=\"-171.8\" font-family=\"Helvetica,sans-Serif\" font-size=\"14.00\" fill=\"#000000\">EXT1 &lt;= 3.5</text>\n<text text-anchor=\"middle\" x=\"3262\" y=\"-156.8\" font-family=\"Helvetica,sans-Serif\" font-size=\"14.00\" fill=\"#000000\">gini = 0.21</text>\n<text text-anchor=\"middle\" x=\"3262\" y=\"-141.8\" font-family=\"Helvetica,sans-Serif\" font-size=\"14.00\" fill=\"#000000\">samples = 2335</text>\n<text text-anchor=\"middle\" x=\"3262\" y=\"-126.8\" font-family=\"Helvetica,sans-Serif\" font-size=\"14.00\" fill=\"#000000\">value = [0, 279, 0, 0, 0, 0, 0, 0, 0, 0, 2056]</text>\n<text text-anchor=\"middle\" x=\"3262\" y=\"-111.8\" font-family=\"Helvetica,sans-Serif\" font-size=\"14.00\" fill=\"#000000\">class = New Zealand</text>\n</g>\n<!-- 19&#45;&gt;23 -->\n<g id=\"edge23\" class=\"edge\">\n<title>19&#45;&gt;23</title>\n<path fill=\"none\" stroke=\"#000000\" d=\"M3262,-222.8796C3262,-214.6838 3262,-205.9891 3262,-197.5013\"/>\n<polygon fill=\"#000000\" stroke=\"#000000\" points=\"3265.5001,-197.298 3262,-187.2981 3258.5001,-197.2981 3265.5001,-197.298\"/>\n</g>\n<!-- 21 -->\n<g id=\"node22\" class=\"node\">\n<title>21</title>\n<path fill=\"#e85367\" stroke=\"#000000\" d=\"M2574,-68C2574,-68 2316,-68 2316,-68 2310,-68 2304,-62 2304,-56 2304,-56 2304,-12 2304,-12 2304,-6 2310,0 2316,0 2316,0 2574,0 2574,0 2580,0 2586,-6 2586,-12 2586,-12 2586,-56 2586,-56 2586,-62 2580,-68 2574,-68\"/>\n<text text-anchor=\"middle\" x=\"2445\" y=\"-52.8\" font-family=\"Helvetica,sans-Serif\" font-size=\"14.00\" fill=\"#000000\">gini = 0.204</text>\n<text text-anchor=\"middle\" x=\"2445\" y=\"-37.8\" font-family=\"Helvetica,sans-Serif\" font-size=\"14.00\" fill=\"#000000\">samples = 1676</text>\n<text text-anchor=\"middle\" x=\"2445\" y=\"-22.8\" font-family=\"Helvetica,sans-Serif\" font-size=\"14.00\" fill=\"#000000\">value = [0, 193, 0, 0, 0, 0, 0, 0, 0, 0, 1483]</text>\n<text text-anchor=\"middle\" x=\"2445\" y=\"-7.8\" font-family=\"Helvetica,sans-Serif\" font-size=\"14.00\" fill=\"#000000\">class = New Zealand</text>\n</g>\n<!-- 20&#45;&gt;21 -->\n<g id=\"edge21\" class=\"edge\">\n<title>20&#45;&gt;21</title>\n<path fill=\"none\" stroke=\"#000000\" d=\"M2633.2911,-103.9815C2604.7039,-93.3566 2574.1282,-81.9926 2546.1081,-71.5785\"/>\n<polygon fill=\"#000000\" stroke=\"#000000\" points=\"2547.3031,-68.2888 2536.7102,-68.0856 2544.8644,-74.8503 2547.3031,-68.2888\"/>\n</g>\n<!-- 22 -->\n<g id=\"node23\" class=\"node\">\n<title>22</title>\n<path fill=\"#e84e62\" stroke=\"#000000\" d=\"M2874,-68C2874,-68 2616,-68 2616,-68 2610,-68 2604,-62 2604,-56 2604,-56 2604,-12 2604,-12 2604,-6 2610,0 2616,0 2616,0 2874,0 2874,0 2880,0 2886,-6 2886,-12 2886,-12 2886,-56 2886,-56 2886,-62 2880,-68 2874,-68\"/>\n<text text-anchor=\"middle\" x=\"2745\" y=\"-52.8\" font-family=\"Helvetica,sans-Serif\" font-size=\"14.00\" fill=\"#000000\">gini = 0.171</text>\n<text text-anchor=\"middle\" x=\"2745\" y=\"-37.8\" font-family=\"Helvetica,sans-Serif\" font-size=\"14.00\" fill=\"#000000\">samples = 2954</text>\n<text text-anchor=\"middle\" x=\"2745\" y=\"-22.8\" font-family=\"Helvetica,sans-Serif\" font-size=\"14.00\" fill=\"#000000\">value = [0, 279, 0, 0, 0, 0, 0, 0, 0, 0, 2675]</text>\n<text text-anchor=\"middle\" x=\"2745\" y=\"-7.8\" font-family=\"Helvetica,sans-Serif\" font-size=\"14.00\" fill=\"#000000\">class = New Zealand</text>\n</g>\n<!-- 20&#45;&gt;22 -->\n<g id=\"edge22\" class=\"edge\">\n<title>20&#45;&gt;22</title>\n<path fill=\"none\" stroke=\"#000000\" d=\"M2745,-103.9815C2745,-95.618 2745,-86.7965 2745,-78.3409\"/>\n<polygon fill=\"#000000\" stroke=\"#000000\" points=\"2748.5001,-78.2636 2745,-68.2637 2741.5001,-78.2637 2748.5001,-78.2636\"/>\n</g>\n<!-- 24 -->\n<g id=\"node25\" class=\"node\">\n<title>24</title>\n<path fill=\"#e85367\" stroke=\"#000000\" d=\"M3174,-68C3174,-68 2916,-68 2916,-68 2910,-68 2904,-62 2904,-56 2904,-56 2904,-12 2904,-12 2904,-6 2910,0 2916,0 2916,0 3174,0 3174,0 3180,0 3186,-6 3186,-12 3186,-12 3186,-56 3186,-56 3186,-62 3180,-68 3174,-68\"/>\n<text text-anchor=\"middle\" x=\"3045\" y=\"-52.8\" font-family=\"Helvetica,sans-Serif\" font-size=\"14.00\" fill=\"#000000\">gini = 0.203</text>\n<text text-anchor=\"middle\" x=\"3045\" y=\"-37.8\" font-family=\"Helvetica,sans-Serif\" font-size=\"14.00\" fill=\"#000000\">samples = 2049</text>\n<text text-anchor=\"middle\" x=\"3045\" y=\"-22.8\" font-family=\"Helvetica,sans-Serif\" font-size=\"14.00\" fill=\"#000000\">value = [0, 235, 0, 0, 0, 0, 0, 0, 0, 0, 1814]</text>\n<text text-anchor=\"middle\" x=\"3045\" y=\"-7.8\" font-family=\"Helvetica,sans-Serif\" font-size=\"14.00\" fill=\"#000000\">class = New Zealand</text>\n</g>\n<!-- 23&#45;&gt;24 -->\n<g id=\"edge24\" class=\"edge\">\n<title>23&#45;&gt;24</title>\n<path fill=\"none\" stroke=\"#000000\" d=\"M3181.1972,-103.9815C3161.2384,-93.7262 3139.9395,-82.7823 3120.2564,-72.6686\"/>\n<polygon fill=\"#000000\" stroke=\"#000000\" points=\"3121.8312,-69.5428 3111.337,-68.0856 3118.632,-75.769 3121.8312,-69.5428\"/>\n</g>\n<!-- 25 -->\n<g id=\"node26\" class=\"node\">\n<title>25</title>\n<path fill=\"#ea5d70\" stroke=\"#000000\" d=\"M3458,-68C3458,-68 3216,-68 3216,-68 3210,-68 3204,-62 3204,-56 3204,-56 3204,-12 3204,-12 3204,-6 3210,0 3216,0 3216,0 3458,0 3458,0 3464,0 3470,-6 3470,-12 3470,-12 3470,-56 3470,-56 3470,-62 3464,-68 3458,-68\"/>\n<text text-anchor=\"middle\" x=\"3337\" y=\"-52.8\" font-family=\"Helvetica,sans-Serif\" font-size=\"14.00\" fill=\"#000000\">gini = 0.26</text>\n<text text-anchor=\"middle\" x=\"3337\" y=\"-37.8\" font-family=\"Helvetica,sans-Serif\" font-size=\"14.00\" fill=\"#000000\">samples = 286</text>\n<text text-anchor=\"middle\" x=\"3337\" y=\"-22.8\" font-family=\"Helvetica,sans-Serif\" font-size=\"14.00\" fill=\"#000000\">value = [0, 44, 0, 0, 0, 0, 0, 0, 0, 0, 242]</text>\n<text text-anchor=\"middle\" x=\"3337\" y=\"-7.8\" font-family=\"Helvetica,sans-Serif\" font-size=\"14.00\" fill=\"#000000\">class = New Zealand</text>\n</g>\n<!-- 23&#45;&gt;25 -->\n<g id=\"edge25\" class=\"edge\">\n<title>23&#45;&gt;25</title>\n<path fill=\"none\" stroke=\"#000000\" d=\"M3289.9272,-103.9815C3295.9238,-95.0666 3302.2704,-85.6313 3308.2959,-76.6734\"/>\n<polygon fill=\"#000000\" stroke=\"#000000\" points=\"3311.2755,-78.5147 3313.9527,-68.2637 3305.4672,-74.6078 3311.2755,-78.5147\"/>\n</g>\n<!-- 27 -->\n<g id=\"node28\" class=\"node\">\n<title>27</title>\n<path fill=\"#e85065\" stroke=\"#000000\" d=\"M3833,-187C3833,-187 3575,-187 3575,-187 3569,-187 3563,-181 3563,-175 3563,-175 3563,-116 3563,-116 3563,-110 3569,-104 3575,-104 3575,-104 3833,-104 3833,-104 3839,-104 3845,-110 3845,-116 3845,-116 3845,-175 3845,-175 3845,-181 3839,-187 3833,-187\"/>\n<text text-anchor=\"middle\" x=\"3704\" y=\"-171.8\" font-family=\"Helvetica,sans-Serif\" font-size=\"14.00\" fill=\"#000000\">EXT5 &lt;= 3.5</text>\n<text text-anchor=\"middle\" x=\"3704\" y=\"-156.8\" font-family=\"Helvetica,sans-Serif\" font-size=\"14.00\" fill=\"#000000\">gini = 0.189</text>\n<text text-anchor=\"middle\" x=\"3704\" y=\"-141.8\" font-family=\"Helvetica,sans-Serif\" font-size=\"14.00\" fill=\"#000000\">samples = 1704</text>\n<text text-anchor=\"middle\" x=\"3704\" y=\"-126.8\" font-family=\"Helvetica,sans-Serif\" font-size=\"14.00\" fill=\"#000000\">value = [0, 180, 0, 0, 0, 0, 0, 0, 0, 0, 1524]</text>\n<text text-anchor=\"middle\" x=\"3704\" y=\"-111.8\" font-family=\"Helvetica,sans-Serif\" font-size=\"14.00\" fill=\"#000000\">class = New Zealand</text>\n</g>\n<!-- 26&#45;&gt;27 -->\n<g id=\"edge27\" class=\"edge\">\n<title>26&#45;&gt;27</title>\n<path fill=\"none\" stroke=\"#000000\" d=\"M3704,-222.8796C3704,-214.6838 3704,-205.9891 3704,-197.5013\"/>\n<polygon fill=\"#000000\" stroke=\"#000000\" points=\"3707.5001,-197.298 3704,-187.2981 3700.5001,-197.2981 3707.5001,-197.298\"/>\n</g>\n<!-- 30 -->\n<g id=\"node31\" class=\"node\">\n<title>30</title>\n<path fill=\"#e84d62\" stroke=\"#000000\" d=\"M4309,-187C4309,-187 4051,-187 4051,-187 4045,-187 4039,-181 4039,-175 4039,-175 4039,-116 4039,-116 4039,-110 4045,-104 4051,-104 4051,-104 4309,-104 4309,-104 4315,-104 4321,-110 4321,-116 4321,-116 4321,-175 4321,-175 4321,-181 4315,-187 4309,-187\"/>\n<text text-anchor=\"middle\" x=\"4180\" y=\"-171.8\" font-family=\"Helvetica,sans-Serif\" font-size=\"14.00\" fill=\"#000000\">EXT7 &lt;= 0.5</text>\n<text text-anchor=\"middle\" x=\"4180\" y=\"-156.8\" font-family=\"Helvetica,sans-Serif\" font-size=\"14.00\" fill=\"#000000\">gini = 0.165</text>\n<text text-anchor=\"middle\" x=\"4180\" y=\"-141.8\" font-family=\"Helvetica,sans-Serif\" font-size=\"14.00\" fill=\"#000000\">samples = 5850</text>\n<text text-anchor=\"middle\" x=\"4180\" y=\"-126.8\" font-family=\"Helvetica,sans-Serif\" font-size=\"14.00\" fill=\"#000000\">value = [0, 532, 0, 0, 0, 0, 0, 0, 0, 0, 5318]</text>\n<text text-anchor=\"middle\" x=\"4180\" y=\"-111.8\" font-family=\"Helvetica,sans-Serif\" font-size=\"14.00\" fill=\"#000000\">class = New Zealand</text>\n</g>\n<!-- 26&#45;&gt;30 -->\n<g id=\"edge30\" class=\"edge\">\n<title>26&#45;&gt;30</title>\n<path fill=\"none\" stroke=\"#000000\" d=\"M3845.2052,-229.1987C3903.1051,-214.7237 3970.2176,-197.9456 4029.0851,-183.2287\"/>\n<polygon fill=\"#000000\" stroke=\"#000000\" points=\"4029.9844,-186.6117 4038.8369,-180.7908 4028.2866,-179.8207 4029.9844,-186.6117\"/>\n</g>\n<!-- 28 -->\n<g id=\"node29\" class=\"node\">\n<title>28</title>\n<path fill=\"#e85165\" stroke=\"#000000\" d=\"M3758,-68C3758,-68 3500,-68 3500,-68 3494,-68 3488,-62 3488,-56 3488,-56 3488,-12 3488,-12 3488,-6 3494,0 3500,0 3500,0 3758,0 3758,0 3764,0 3770,-6 3770,-12 3770,-12 3770,-56 3770,-56 3770,-62 3764,-68 3758,-68\"/>\n<text text-anchor=\"middle\" x=\"3629\" y=\"-52.8\" font-family=\"Helvetica,sans-Serif\" font-size=\"14.00\" fill=\"#000000\">gini = 0.194</text>\n<text text-anchor=\"middle\" x=\"3629\" y=\"-37.8\" font-family=\"Helvetica,sans-Serif\" font-size=\"14.00\" fill=\"#000000\">samples = 1608</text>\n<text text-anchor=\"middle\" x=\"3629\" y=\"-22.8\" font-family=\"Helvetica,sans-Serif\" font-size=\"14.00\" fill=\"#000000\">value = [0, 175, 0, 0, 0, 0, 0, 0, 0, 0, 1433]</text>\n<text text-anchor=\"middle\" x=\"3629\" y=\"-7.8\" font-family=\"Helvetica,sans-Serif\" font-size=\"14.00\" fill=\"#000000\">class = New Zealand</text>\n</g>\n<!-- 27&#45;&gt;28 -->\n<g id=\"edge28\" class=\"edge\">\n<title>27&#45;&gt;28</title>\n<path fill=\"none\" stroke=\"#000000\" d=\"M3676.0728,-103.9815C3670.0762,-95.0666 3663.7296,-85.6313 3657.7041,-76.6734\"/>\n<polygon fill=\"#000000\" stroke=\"#000000\" points=\"3660.5328,-74.6078 3652.0473,-68.2637 3654.7245,-78.5147 3660.5328,-74.6078\"/>\n</g>\n<!-- 29 -->\n<g id=\"node30\" class=\"node\">\n<title>29</title>\n<path fill=\"#e6445a\" stroke=\"#000000\" d=\"M4025.5,-68C4025.5,-68 3800.5,-68 3800.5,-68 3794.5,-68 3788.5,-62 3788.5,-56 3788.5,-56 3788.5,-12 3788.5,-12 3788.5,-6 3794.5,0 3800.5,0 3800.5,0 4025.5,0 4025.5,0 4031.5,0 4037.5,-6 4037.5,-12 4037.5,-12 4037.5,-56 4037.5,-56 4037.5,-62 4031.5,-68 4025.5,-68\"/>\n<text text-anchor=\"middle\" x=\"3913\" y=\"-52.8\" font-family=\"Helvetica,sans-Serif\" font-size=\"14.00\" fill=\"#000000\">gini = 0.099</text>\n<text text-anchor=\"middle\" x=\"3913\" y=\"-37.8\" font-family=\"Helvetica,sans-Serif\" font-size=\"14.00\" fill=\"#000000\">samples = 96</text>\n<text text-anchor=\"middle\" x=\"3913\" y=\"-22.8\" font-family=\"Helvetica,sans-Serif\" font-size=\"14.00\" fill=\"#000000\">value = [0, 5, 0, 0, 0, 0, 0, 0, 0, 0, 91]</text>\n<text text-anchor=\"middle\" x=\"3913\" y=\"-7.8\" font-family=\"Helvetica,sans-Serif\" font-size=\"14.00\" fill=\"#000000\">class = New Zealand</text>\n</g>\n<!-- 27&#45;&gt;29 -->\n<g id=\"edge29\" class=\"edge\">\n<title>27&#45;&gt;29</title>\n<path fill=\"none\" stroke=\"#000000\" d=\"M3781.8239,-103.9815C3800.9603,-93.7724 3821.3758,-82.8809 3840.2618,-72.8053\"/>\n<polygon fill=\"#000000\" stroke=\"#000000\" points=\"3841.9331,-75.8807 3849.1086,-68.0856 3838.6381,-69.7046 3841.9331,-75.8807\"/>\n</g>\n<!-- 31 -->\n<g id=\"node32\" class=\"node\">\n<title>31</title>\n<path fill=\"#ec6d7e\" stroke=\"#000000\" d=\"M4292.5,-68C4292.5,-68 4067.5,-68 4067.5,-68 4061.5,-68 4055.5,-62 4055.5,-56 4055.5,-56 4055.5,-12 4055.5,-12 4055.5,-6 4061.5,0 4067.5,0 4067.5,0 4292.5,0 4292.5,0 4298.5,0 4304.5,-6 4304.5,-12 4304.5,-12 4304.5,-56 4304.5,-56 4304.5,-62 4298.5,-68 4292.5,-68\"/>\n<text text-anchor=\"middle\" x=\"4180\" y=\"-52.8\" font-family=\"Helvetica,sans-Serif\" font-size=\"14.00\" fill=\"#000000\">gini = 0.328</text>\n<text text-anchor=\"middle\" x=\"4180\" y=\"-37.8\" font-family=\"Helvetica,sans-Serif\" font-size=\"14.00\" fill=\"#000000\">samples = 29</text>\n<text text-anchor=\"middle\" x=\"4180\" y=\"-22.8\" font-family=\"Helvetica,sans-Serif\" font-size=\"14.00\" fill=\"#000000\">value = [0, 6, 0, 0, 0, 0, 0, 0, 0, 0, 23]</text>\n<text text-anchor=\"middle\" x=\"4180\" y=\"-7.8\" font-family=\"Helvetica,sans-Serif\" font-size=\"14.00\" fill=\"#000000\">class = New Zealand</text>\n</g>\n<!-- 30&#45;&gt;31 -->\n<g id=\"edge31\" class=\"edge\">\n<title>30&#45;&gt;31</title>\n<path fill=\"none\" stroke=\"#000000\" d=\"M4180,-103.9815C4180,-95.618 4180,-86.7965 4180,-78.3409\"/>\n<polygon fill=\"#000000\" stroke=\"#000000\" points=\"4183.5001,-78.2636 4180,-68.2637 4176.5001,-78.2637 4183.5001,-78.2636\"/>\n</g>\n<!-- 32 -->\n<g id=\"node33\" class=\"node\">\n<title>32</title>\n<path fill=\"#e84d61\" stroke=\"#000000\" d=\"M4593,-68C4593,-68 4335,-68 4335,-68 4329,-68 4323,-62 4323,-56 4323,-56 4323,-12 4323,-12 4323,-6 4329,0 4335,0 4335,0 4593,0 4593,0 4599,0 4605,-6 4605,-12 4605,-12 4605,-56 4605,-56 4605,-62 4599,-68 4593,-68\"/>\n<text text-anchor=\"middle\" x=\"4464\" y=\"-52.8\" font-family=\"Helvetica,sans-Serif\" font-size=\"14.00\" fill=\"#000000\">gini = 0.164</text>\n<text text-anchor=\"middle\" x=\"4464\" y=\"-37.8\" font-family=\"Helvetica,sans-Serif\" font-size=\"14.00\" fill=\"#000000\">samples = 5821</text>\n<text text-anchor=\"middle\" x=\"4464\" y=\"-22.8\" font-family=\"Helvetica,sans-Serif\" font-size=\"14.00\" fill=\"#000000\">value = [0, 526, 0, 0, 0, 0, 0, 0, 0, 0, 5295]</text>\n<text text-anchor=\"middle\" x=\"4464\" y=\"-7.8\" font-family=\"Helvetica,sans-Serif\" font-size=\"14.00\" fill=\"#000000\">class = New Zealand</text>\n</g>\n<!-- 30&#45;&gt;32 -->\n<g id=\"edge32\" class=\"edge\">\n<title>30&#45;&gt;32</title>\n<path fill=\"none\" stroke=\"#000000\" d=\"M4285.7511,-103.9815C4312.5783,-93.449 4341.2554,-82.1902 4367.5918,-71.8504\"/>\n<polygon fill=\"#000000\" stroke=\"#000000\" points=\"4369.1518,-74.9981 4377.181,-68.0856 4366.5936,-68.4823 4369.1518,-74.9981\"/>\n</g>\n<!-- 34 -->\n<g id=\"node35\" class=\"node\">\n<title>34</title>\n<path fill=\"#e85166\" stroke=\"#000000\" d=\"M6429.5,-425C6429.5,-425 6154.5,-425 6154.5,-425 6148.5,-425 6142.5,-419 6142.5,-413 6142.5,-413 6142.5,-354 6142.5,-354 6142.5,-348 6148.5,-342 6154.5,-342 6154.5,-342 6429.5,-342 6429.5,-342 6435.5,-342 6441.5,-348 6441.5,-354 6441.5,-354 6441.5,-413 6441.5,-413 6441.5,-419 6435.5,-425 6429.5,-425\"/>\n<text text-anchor=\"middle\" x=\"6292\" y=\"-409.8\" font-family=\"Helvetica,sans-Serif\" font-size=\"14.00\" fill=\"#000000\">EXT5 &lt;= 1.5</text>\n<text text-anchor=\"middle\" x=\"6292\" y=\"-394.8\" font-family=\"Helvetica,sans-Serif\" font-size=\"14.00\" fill=\"#000000\">gini = 0.195</text>\n<text text-anchor=\"middle\" x=\"6292\" y=\"-379.8\" font-family=\"Helvetica,sans-Serif\" font-size=\"14.00\" fill=\"#000000\">samples = 11996</text>\n<text text-anchor=\"middle\" x=\"6292\" y=\"-364.8\" font-family=\"Helvetica,sans-Serif\" font-size=\"14.00\" fill=\"#000000\">value = [0, 1317, 0, 0, 0, 0, 0, 0, 0, 0, 10679]</text>\n<text text-anchor=\"middle\" x=\"6292\" y=\"-349.8\" font-family=\"Helvetica,sans-Serif\" font-size=\"14.00\" fill=\"#000000\">class = New Zealand</text>\n</g>\n<!-- 33&#45;&gt;34 -->\n<g id=\"edge34\" class=\"edge\">\n<title>33&#45;&gt;34</title>\n<path fill=\"none\" stroke=\"#000000\" d=\"M6836.2668,-476.8253C6722.9181,-457.3894 6567.5179,-430.743 6451.7803,-410.8975\"/>\n<polygon fill=\"#000000\" stroke=\"#000000\" points=\"6452.2114,-407.4204 6441.7637,-409.1799 6451.0283,-414.3197 6452.2114,-407.4204\"/>\n</g>\n<!-- 49 -->\n<g id=\"node50\" class=\"node\">\n<title>49</title>\n<path fill=\"#e84d62\" stroke=\"#000000\" d=\"M7514,-425C7514,-425 7256,-425 7256,-425 7250,-425 7244,-419 7244,-413 7244,-413 7244,-354 7244,-354 7244,-348 7250,-342 7256,-342 7256,-342 7514,-342 7514,-342 7520,-342 7526,-348 7526,-354 7526,-354 7526,-413 7526,-413 7526,-419 7520,-425 7514,-425\"/>\n<text text-anchor=\"middle\" x=\"7385\" y=\"-409.8\" font-family=\"Helvetica,sans-Serif\" font-size=\"14.00\" fill=\"#000000\">EXT5 &lt;= 3.5</text>\n<text text-anchor=\"middle\" x=\"7385\" y=\"-394.8\" font-family=\"Helvetica,sans-Serif\" font-size=\"14.00\" fill=\"#000000\">gini = 0.166</text>\n<text text-anchor=\"middle\" x=\"7385\" y=\"-379.8\" font-family=\"Helvetica,sans-Serif\" font-size=\"14.00\" fill=\"#000000\">samples = 5811</text>\n<text text-anchor=\"middle\" x=\"7385\" y=\"-364.8\" font-family=\"Helvetica,sans-Serif\" font-size=\"14.00\" fill=\"#000000\">value = [0, 530, 0, 0, 0, 0, 0, 0, 0, 0, 5281]</text>\n<text text-anchor=\"middle\" x=\"7385\" y=\"-349.8\" font-family=\"Helvetica,sans-Serif\" font-size=\"14.00\" fill=\"#000000\">class = New Zealand</text>\n</g>\n<!-- 33&#45;&gt;49 -->\n<g id=\"edge49\" class=\"edge\">\n<title>33&#45;&gt;49</title>\n<path fill=\"none\" stroke=\"#000000\" d=\"M7125.2707,-460.9631C7161.0766,-450.2842 7199.7387,-438.7534 7236.0154,-427.934\"/>\n<polygon fill=\"#000000\" stroke=\"#000000\" points=\"7237.0972,-431.2638 7245.6798,-425.0516 7235.0966,-424.5558 7237.0972,-431.2638\"/>\n</g>\n<!-- 35 -->\n<g id=\"node36\" class=\"node\">\n<title>35</title>\n<path fill=\"#e95a6d\" stroke=\"#000000\" d=\"M5551,-306C5551,-306 5309,-306 5309,-306 5303,-306 5297,-300 5297,-294 5297,-294 5297,-235 5297,-235 5297,-229 5303,-223 5309,-223 5309,-223 5551,-223 5551,-223 5557,-223 5563,-229 5563,-235 5563,-235 5563,-294 5563,-294 5563,-300 5557,-306 5551,-306\"/>\n<text text-anchor=\"middle\" x=\"5430\" y=\"-290.8\" font-family=\"Helvetica,sans-Serif\" font-size=\"14.00\" fill=\"#000000\">EXT6 &lt;= 1.5</text>\n<text text-anchor=\"middle\" x=\"5430\" y=\"-275.8\" font-family=\"Helvetica,sans-Serif\" font-size=\"14.00\" fill=\"#000000\">gini = 0.246</text>\n<text text-anchor=\"middle\" x=\"5430\" y=\"-260.8\" font-family=\"Helvetica,sans-Serif\" font-size=\"14.00\" fill=\"#000000\">samples = 646</text>\n<text text-anchor=\"middle\" x=\"5430\" y=\"-245.8\" font-family=\"Helvetica,sans-Serif\" font-size=\"14.00\" fill=\"#000000\">value = [0, 93, 0, 0, 0, 0, 0, 0, 0, 0, 553]</text>\n<text text-anchor=\"middle\" x=\"5430\" y=\"-230.8\" font-family=\"Helvetica,sans-Serif\" font-size=\"14.00\" fill=\"#000000\">class = New Zealand</text>\n</g>\n<!-- 34&#45;&gt;35 -->\n<g id=\"edge35\" class=\"edge\">\n<title>34&#45;&gt;35</title>\n<path fill=\"none\" stroke=\"#000000\" d=\"M6142.3434,-362.8397C5982.4179,-340.7619 5730.7098,-306.0133 5573.2774,-284.2796\"/>\n<polygon fill=\"#000000\" stroke=\"#000000\" points=\"5573.4307,-280.7676 5563.046,-282.8671 5572.4733,-287.7019 5573.4307,-280.7676\"/>\n</g>\n<!-- 42 -->\n<g id=\"node43\" class=\"node\">\n<title>42</title>\n<path fill=\"#e85165\" stroke=\"#000000\" d=\"M6429.5,-306C6429.5,-306 6154.5,-306 6154.5,-306 6148.5,-306 6142.5,-300 6142.5,-294 6142.5,-294 6142.5,-235 6142.5,-235 6142.5,-229 6148.5,-223 6154.5,-223 6154.5,-223 6429.5,-223 6429.5,-223 6435.5,-223 6441.5,-229 6441.5,-235 6441.5,-235 6441.5,-294 6441.5,-294 6441.5,-300 6435.5,-306 6429.5,-306\"/>\n<text text-anchor=\"middle\" x=\"6292\" y=\"-290.8\" font-family=\"Helvetica,sans-Serif\" font-size=\"14.00\" fill=\"#000000\">EXT4 &lt;= 4.5</text>\n<text text-anchor=\"middle\" x=\"6292\" y=\"-275.8\" font-family=\"Helvetica,sans-Serif\" font-size=\"14.00\" fill=\"#000000\">gini = 0.192</text>\n<text text-anchor=\"middle\" x=\"6292\" y=\"-260.8\" font-family=\"Helvetica,sans-Serif\" font-size=\"14.00\" fill=\"#000000\">samples = 11350</text>\n<text text-anchor=\"middle\" x=\"6292\" y=\"-245.8\" font-family=\"Helvetica,sans-Serif\" font-size=\"14.00\" fill=\"#000000\">value = [0, 1224, 0, 0, 0, 0, 0, 0, 0, 0, 10126]</text>\n<text text-anchor=\"middle\" x=\"6292\" y=\"-230.8\" font-family=\"Helvetica,sans-Serif\" font-size=\"14.00\" fill=\"#000000\">class = New Zealand</text>\n</g>\n<!-- 34&#45;&gt;42 -->\n<g id=\"edge42\" class=\"edge\">\n<title>34&#45;&gt;42</title>\n<path fill=\"none\" stroke=\"#000000\" d=\"M6292,-341.8796C6292,-333.6838 6292,-324.9891 6292,-316.5013\"/>\n<polygon fill=\"#000000\" stroke=\"#000000\" points=\"6295.5001,-316.298 6292,-306.2981 6288.5001,-316.2981 6295.5001,-316.298\"/>\n</g>\n<!-- 36 -->\n<g id=\"node37\" class=\"node\">\n<title>36</title>\n<path fill=\"#e84e63\" stroke=\"#000000\" d=\"M5137,-187C5137,-187 4895,-187 4895,-187 4889,-187 4883,-181 4883,-175 4883,-175 4883,-116 4883,-116 4883,-110 4889,-104 4895,-104 4895,-104 5137,-104 5137,-104 5143,-104 5149,-110 5149,-116 5149,-116 5149,-175 5149,-175 5149,-181 5143,-187 5137,-187\"/>\n<text text-anchor=\"middle\" x=\"5016\" y=\"-171.8\" font-family=\"Helvetica,sans-Serif\" font-size=\"14.00\" fill=\"#000000\">EXT2 &lt;= 0.5</text>\n<text text-anchor=\"middle\" x=\"5016\" y=\"-156.8\" font-family=\"Helvetica,sans-Serif\" font-size=\"14.00\" fill=\"#000000\">gini = 0.177</text>\n<text text-anchor=\"middle\" x=\"5016\" y=\"-141.8\" font-family=\"Helvetica,sans-Serif\" font-size=\"14.00\" fill=\"#000000\">samples = 143</text>\n<text text-anchor=\"middle\" x=\"5016\" y=\"-126.8\" font-family=\"Helvetica,sans-Serif\" font-size=\"14.00\" fill=\"#000000\">value = [0, 14, 0, 0, 0, 0, 0, 0, 0, 0, 129]</text>\n<text text-anchor=\"middle\" x=\"5016\" y=\"-111.8\" font-family=\"Helvetica,sans-Serif\" font-size=\"14.00\" fill=\"#000000\">class = New Zealand</text>\n</g>\n<!-- 35&#45;&gt;36 -->\n<g id=\"edge36\" class=\"edge\">\n<title>35&#45;&gt;36</title>\n<path fill=\"none\" stroke=\"#000000\" d=\"M5296.729,-226.1926C5252.6851,-213.5327 5203.5188,-199.4003 5158.7915,-186.5439\"/>\n<polygon fill=\"#000000\" stroke=\"#000000\" points=\"5159.5991,-183.1344 5149.0213,-183.7356 5157.6653,-189.862 5159.5991,-183.1344\"/>\n</g>\n<!-- 39 -->\n<g id=\"node40\" class=\"node\">\n<title>39</title>\n<path fill=\"#ea5e71\" stroke=\"#000000\" d=\"M5551,-187C5551,-187 5309,-187 5309,-187 5303,-187 5297,-181 5297,-175 5297,-175 5297,-116 5297,-116 5297,-110 5303,-104 5309,-104 5309,-104 5551,-104 5551,-104 5557,-104 5563,-110 5563,-116 5563,-116 5563,-175 5563,-175 5563,-181 5557,-187 5551,-187\"/>\n<text text-anchor=\"middle\" x=\"5430\" y=\"-171.8\" font-family=\"Helvetica,sans-Serif\" font-size=\"14.00\" fill=\"#000000\">EXT4 &lt;= 0.5</text>\n<text text-anchor=\"middle\" x=\"5430\" y=\"-156.8\" font-family=\"Helvetica,sans-Serif\" font-size=\"14.00\" fill=\"#000000\">gini = 0.265</text>\n<text text-anchor=\"middle\" x=\"5430\" y=\"-141.8\" font-family=\"Helvetica,sans-Serif\" font-size=\"14.00\" fill=\"#000000\">samples = 503</text>\n<text text-anchor=\"middle\" x=\"5430\" y=\"-126.8\" font-family=\"Helvetica,sans-Serif\" font-size=\"14.00\" fill=\"#000000\">value = [0, 79, 0, 0, 0, 0, 0, 0, 0, 0, 424]</text>\n<text text-anchor=\"middle\" x=\"5430\" y=\"-111.8\" font-family=\"Helvetica,sans-Serif\" font-size=\"14.00\" fill=\"#000000\">class = New Zealand</text>\n</g>\n<!-- 35&#45;&gt;39 -->\n<g id=\"edge39\" class=\"edge\">\n<title>35&#45;&gt;39</title>\n<path fill=\"none\" stroke=\"#000000\" d=\"M5430,-222.8796C5430,-214.6838 5430,-205.9891 5430,-197.5013\"/>\n<polygon fill=\"#000000\" stroke=\"#000000\" points=\"5433.5001,-197.298 5430,-187.2981 5426.5001,-197.2981 5433.5001,-197.298\"/>\n</g>\n<!-- 37 -->\n<g id=\"node38\" class=\"node\">\n<title>37</title>\n<path fill=\"#ffffff\" stroke=\"#000000\" d=\"M4852.5,-68C4852.5,-68 4635.5,-68 4635.5,-68 4629.5,-68 4623.5,-62 4623.5,-56 4623.5,-56 4623.5,-12 4623.5,-12 4623.5,-6 4629.5,0 4635.5,0 4635.5,0 4852.5,0 4852.5,0 4858.5,0 4864.5,-6 4864.5,-12 4864.5,-12 4864.5,-56 4864.5,-56 4864.5,-62 4858.5,-68 4852.5,-68\"/>\n<text text-anchor=\"middle\" x=\"4744\" y=\"-52.8\" font-family=\"Helvetica,sans-Serif\" font-size=\"14.00\" fill=\"#000000\">gini = 0.5</text>\n<text text-anchor=\"middle\" x=\"4744\" y=\"-37.8\" font-family=\"Helvetica,sans-Serif\" font-size=\"14.00\" fill=\"#000000\">samples = 2</text>\n<text text-anchor=\"middle\" x=\"4744\" y=\"-22.8\" font-family=\"Helvetica,sans-Serif\" font-size=\"14.00\" fill=\"#000000\">value = [0, 1, 0, 0, 0, 0, 0, 0, 0, 0, 1]</text>\n<text text-anchor=\"middle\" x=\"4744\" y=\"-7.8\" font-family=\"Helvetica,sans-Serif\" font-size=\"14.00\" fill=\"#000000\">class = Malaysia</text>\n</g>\n<!-- 36&#45;&gt;37 -->\n<g id=\"edge37\" class=\"edge\">\n<title>36&#45;&gt;37</title>\n<path fill=\"none\" stroke=\"#000000\" d=\"M4914.7172,-103.9815C4889.1363,-93.4952 4861.7991,-82.289 4836.6666,-71.9865\"/>\n<polygon fill=\"#000000\" stroke=\"#000000\" points=\"4837.7309,-68.6402 4827.1506,-68.0856 4835.0758,-75.1171 4837.7309,-68.6402\"/>\n</g>\n<!-- 38 -->\n<g id=\"node39\" class=\"node\">\n<title>38</title>\n<path fill=\"#e84d62\" stroke=\"#000000\" d=\"M5137,-68C5137,-68 4895,-68 4895,-68 4889,-68 4883,-62 4883,-56 4883,-56 4883,-12 4883,-12 4883,-6 4889,0 4895,0 4895,0 5137,0 5137,0 5143,0 5149,-6 5149,-12 5149,-12 5149,-56 5149,-56 5149,-62 5143,-68 5137,-68\"/>\n<text text-anchor=\"middle\" x=\"5016\" y=\"-52.8\" font-family=\"Helvetica,sans-Serif\" font-size=\"14.00\" fill=\"#000000\">gini = 0.167</text>\n<text text-anchor=\"middle\" x=\"5016\" y=\"-37.8\" font-family=\"Helvetica,sans-Serif\" font-size=\"14.00\" fill=\"#000000\">samples = 141</text>\n<text text-anchor=\"middle\" x=\"5016\" y=\"-22.8\" font-family=\"Helvetica,sans-Serif\" font-size=\"14.00\" fill=\"#000000\">value = [0, 13, 0, 0, 0, 0, 0, 0, 0, 0, 128]</text>\n<text text-anchor=\"middle\" x=\"5016\" y=\"-7.8\" font-family=\"Helvetica,sans-Serif\" font-size=\"14.00\" fill=\"#000000\">class = New Zealand</text>\n</g>\n<!-- 36&#45;&gt;38 -->\n<g id=\"edge38\" class=\"edge\">\n<title>36&#45;&gt;38</title>\n<path fill=\"none\" stroke=\"#000000\" d=\"M5016,-103.9815C5016,-95.618 5016,-86.7965 5016,-78.3409\"/>\n<polygon fill=\"#000000\" stroke=\"#000000\" points=\"5019.5001,-78.2636 5016,-68.2637 5012.5001,-78.2637 5019.5001,-78.2636\"/>\n</g>\n<!-- 40 -->\n<g id=\"node41\" class=\"node\">\n<title>40</title>\n<path fill=\"#e5dc39\" stroke=\"#000000\" d=\"M5396.5,-68C5396.5,-68 5179.5,-68 5179.5,-68 5173.5,-68 5167.5,-62 5167.5,-56 5167.5,-56 5167.5,-12 5167.5,-12 5167.5,-6 5173.5,0 5179.5,0 5179.5,0 5396.5,0 5396.5,0 5402.5,0 5408.5,-6 5408.5,-12 5408.5,-12 5408.5,-56 5408.5,-56 5408.5,-62 5402.5,-68 5396.5,-68\"/>\n<text text-anchor=\"middle\" x=\"5288\" y=\"-52.8\" font-family=\"Helvetica,sans-Serif\" font-size=\"14.00\" fill=\"#000000\">gini = 0.0</text>\n<text text-anchor=\"middle\" x=\"5288\" y=\"-37.8\" font-family=\"Helvetica,sans-Serif\" font-size=\"14.00\" fill=\"#000000\">samples = 1</text>\n<text text-anchor=\"middle\" x=\"5288\" y=\"-22.8\" font-family=\"Helvetica,sans-Serif\" font-size=\"14.00\" fill=\"#000000\">value = [0, 1, 0, 0, 0, 0, 0, 0, 0, 0, 0]</text>\n<text text-anchor=\"middle\" x=\"5288\" y=\"-7.8\" font-family=\"Helvetica,sans-Serif\" font-size=\"14.00\" fill=\"#000000\">class = Malaysia</text>\n</g>\n<!-- 39&#45;&gt;40 -->\n<g id=\"edge40\" class=\"edge\">\n<title>39&#45;&gt;40</title>\n<path fill=\"none\" stroke=\"#000000\" d=\"M5377.1244,-103.9815C5364.8345,-94.3313 5351.7681,-84.0714 5339.5368,-74.4673\"/>\n<polygon fill=\"#000000\" stroke=\"#000000\" points=\"5341.6629,-71.6867 5331.6362,-68.2637 5337.3398,-77.1923 5341.6629,-71.6867\"/>\n</g>\n<!-- 41 -->\n<g id=\"node42\" class=\"node\">\n<title>41</title>\n<path fill=\"#ea5d70\" stroke=\"#000000\" d=\"M5681,-68C5681,-68 5439,-68 5439,-68 5433,-68 5427,-62 5427,-56 5427,-56 5427,-12 5427,-12 5427,-6 5433,0 5439,0 5439,0 5681,0 5681,0 5687,0 5693,-6 5693,-12 5693,-12 5693,-56 5693,-56 5693,-62 5687,-68 5681,-68\"/>\n<text text-anchor=\"middle\" x=\"5560\" y=\"-52.8\" font-family=\"Helvetica,sans-Serif\" font-size=\"14.00\" fill=\"#000000\">gini = 0.262</text>\n<text text-anchor=\"middle\" x=\"5560\" y=\"-37.8\" font-family=\"Helvetica,sans-Serif\" font-size=\"14.00\" fill=\"#000000\">samples = 502</text>\n<text text-anchor=\"middle\" x=\"5560\" y=\"-22.8\" font-family=\"Helvetica,sans-Serif\" font-size=\"14.00\" fill=\"#000000\">value = [0, 78, 0, 0, 0, 0, 0, 0, 0, 0, 424]</text>\n<text text-anchor=\"middle\" x=\"5560\" y=\"-7.8\" font-family=\"Helvetica,sans-Serif\" font-size=\"14.00\" fill=\"#000000\">class = New Zealand</text>\n</g>\n<!-- 39&#45;&gt;41 -->\n<g id=\"edge41\" class=\"edge\">\n<title>39&#45;&gt;41</title>\n<path fill=\"none\" stroke=\"#000000\" d=\"M5478.4072,-103.9815C5489.4442,-94.5151 5501.1653,-84.462 5512.1777,-75.0168\"/>\n<polygon fill=\"#000000\" stroke=\"#000000\" points=\"5514.7394,-77.4307 5520.0513,-68.2637 5510.1822,-72.1173 5514.7394,-77.4307\"/>\n</g>\n<!-- 43 -->\n<g id=\"node44\" class=\"node\">\n<title>43</title>\n<path fill=\"#e85165\" stroke=\"#000000\" d=\"M6277,-187C6277,-187 6011,-187 6011,-187 6005,-187 5999,-181 5999,-175 5999,-175 5999,-116 5999,-116 5999,-110 6005,-104 6011,-104 6011,-104 6277,-104 6277,-104 6283,-104 6289,-110 6289,-116 6289,-116 6289,-175 6289,-175 6289,-181 6283,-187 6277,-187\"/>\n<text text-anchor=\"middle\" x=\"6144\" y=\"-171.8\" font-family=\"Helvetica,sans-Serif\" font-size=\"14.00\" fill=\"#000000\">Cluster &lt;= 2.5</text>\n<text text-anchor=\"middle\" x=\"6144\" y=\"-156.8\" font-family=\"Helvetica,sans-Serif\" font-size=\"14.00\" fill=\"#000000\">gini = 0.195</text>\n<text text-anchor=\"middle\" x=\"6144\" y=\"-141.8\" font-family=\"Helvetica,sans-Serif\" font-size=\"14.00\" fill=\"#000000\">samples = 10739</text>\n<text text-anchor=\"middle\" x=\"6144\" y=\"-126.8\" font-family=\"Helvetica,sans-Serif\" font-size=\"14.00\" fill=\"#000000\">value = [0, 1174, 0, 0, 0, 0, 0, 0, 0, 0, 9565]</text>\n<text text-anchor=\"middle\" x=\"6144\" y=\"-111.8\" font-family=\"Helvetica,sans-Serif\" font-size=\"14.00\" fill=\"#000000\">class = New Zealand</text>\n</g>\n<!-- 42&#45;&gt;43 -->\n<g id=\"edge43\" class=\"edge\">\n<title>42&#45;&gt;43</title>\n<path fill=\"none\" stroke=\"#000000\" d=\"M6240.2368,-222.8796C6228.4072,-213.368 6215.7419,-203.1843 6203.6129,-193.432\"/>\n<polygon fill=\"#000000\" stroke=\"#000000\" points=\"6205.7204,-190.6355 6195.734,-187.0969 6201.3341,-196.0908 6205.7204,-190.6355\"/>\n</g>\n<!-- 46 -->\n<g id=\"node47\" class=\"node\">\n<title>46</title>\n<path fill=\"#e74b60\" stroke=\"#000000\" d=\"M6561,-187C6561,-187 6319,-187 6319,-187 6313,-187 6307,-181 6307,-175 6307,-175 6307,-116 6307,-116 6307,-110 6313,-104 6319,-104 6319,-104 6561,-104 6561,-104 6567,-104 6573,-110 6573,-116 6573,-116 6573,-175 6573,-175 6573,-181 6567,-187 6561,-187\"/>\n<text text-anchor=\"middle\" x=\"6440\" y=\"-171.8\" font-family=\"Helvetica,sans-Serif\" font-size=\"14.00\" fill=\"#000000\">EXT6 &lt;= 0.5</text>\n<text text-anchor=\"middle\" x=\"6440\" y=\"-156.8\" font-family=\"Helvetica,sans-Serif\" font-size=\"14.00\" fill=\"#000000\">gini = 0.15</text>\n<text text-anchor=\"middle\" x=\"6440\" y=\"-141.8\" font-family=\"Helvetica,sans-Serif\" font-size=\"14.00\" fill=\"#000000\">samples = 611</text>\n<text text-anchor=\"middle\" x=\"6440\" y=\"-126.8\" font-family=\"Helvetica,sans-Serif\" font-size=\"14.00\" fill=\"#000000\">value = [0, 50, 0, 0, 0, 0, 0, 0, 0, 0, 561]</text>\n<text text-anchor=\"middle\" x=\"6440\" y=\"-111.8\" font-family=\"Helvetica,sans-Serif\" font-size=\"14.00\" fill=\"#000000\">class = New Zealand</text>\n</g>\n<!-- 42&#45;&gt;46 -->\n<g id=\"edge46\" class=\"edge\">\n<title>42&#45;&gt;46</title>\n<path fill=\"none\" stroke=\"#000000\" d=\"M6343.7632,-222.8796C6355.5928,-213.368 6368.2581,-203.1843 6380.3871,-193.432\"/>\n<polygon fill=\"#000000\" stroke=\"#000000\" points=\"6382.6659,-196.0908 6388.266,-187.0969 6378.2796,-190.6355 6382.6659,-196.0908\"/>\n</g>\n<!-- 44 -->\n<g id=\"node45\" class=\"node\">\n<title>44</title>\n<path fill=\"#e85064\" stroke=\"#000000\" d=\"M5981,-68C5981,-68 5723,-68 5723,-68 5717,-68 5711,-62 5711,-56 5711,-56 5711,-12 5711,-12 5711,-6 5717,0 5723,0 5723,0 5981,0 5981,0 5987,0 5993,-6 5993,-12 5993,-12 5993,-56 5993,-56 5993,-62 5987,-68 5981,-68\"/>\n<text text-anchor=\"middle\" x=\"5852\" y=\"-52.8\" font-family=\"Helvetica,sans-Serif\" font-size=\"14.00\" fill=\"#000000\">gini = 0.185</text>\n<text text-anchor=\"middle\" x=\"5852\" y=\"-37.8\" font-family=\"Helvetica,sans-Serif\" font-size=\"14.00\" fill=\"#000000\">samples = 6112</text>\n<text text-anchor=\"middle\" x=\"5852\" y=\"-22.8\" font-family=\"Helvetica,sans-Serif\" font-size=\"14.00\" fill=\"#000000\">value = [0, 632, 0, 0, 0, 0, 0, 0, 0, 0, 5480]</text>\n<text text-anchor=\"middle\" x=\"5852\" y=\"-7.8\" font-family=\"Helvetica,sans-Serif\" font-size=\"14.00\" fill=\"#000000\">class = New Zealand</text>\n</g>\n<!-- 43&#45;&gt;44 -->\n<g id=\"edge44\" class=\"edge\">\n<title>43&#45;&gt;44</title>\n<path fill=\"none\" stroke=\"#000000\" d=\"M6035.27,-103.9815C6007.5661,-93.4028 5977.9435,-82.0914 5950.7678,-71.7144\"/>\n<polygon fill=\"#000000\" stroke=\"#000000\" points=\"5951.8553,-68.3832 5941.2646,-68.0856 5949.3581,-74.9227 5951.8553,-68.3832\"/>\n</g>\n<!-- 45 -->\n<g id=\"node46\" class=\"node\">\n<title>45</title>\n<path fill=\"#e85367\" stroke=\"#000000\" d=\"M6281,-68C6281,-68 6023,-68 6023,-68 6017,-68 6011,-62 6011,-56 6011,-56 6011,-12 6011,-12 6011,-6 6017,0 6023,0 6023,0 6281,0 6281,0 6287,0 6293,-6 6293,-12 6293,-12 6293,-56 6293,-56 6293,-62 6287,-68 6281,-68\"/>\n<text text-anchor=\"middle\" x=\"6152\" y=\"-52.8\" font-family=\"Helvetica,sans-Serif\" font-size=\"14.00\" fill=\"#000000\">gini = 0.207</text>\n<text text-anchor=\"middle\" x=\"6152\" y=\"-37.8\" font-family=\"Helvetica,sans-Serif\" font-size=\"14.00\" fill=\"#000000\">samples = 4627</text>\n<text text-anchor=\"middle\" x=\"6152\" y=\"-22.8\" font-family=\"Helvetica,sans-Serif\" font-size=\"14.00\" fill=\"#000000\">value = [0, 542, 0, 0, 0, 0, 0, 0, 0, 0, 4085]</text>\n<text text-anchor=\"middle\" x=\"6152\" y=\"-7.8\" font-family=\"Helvetica,sans-Serif\" font-size=\"14.00\" fill=\"#000000\">class = New Zealand</text>\n</g>\n<!-- 43&#45;&gt;45 -->\n<g id=\"edge45\" class=\"edge\">\n<title>43&#45;&gt;45</title>\n<path fill=\"none\" stroke=\"#000000\" d=\"M6146.9789,-103.9815C6147.579,-95.618 6148.2119,-86.7965 6148.8186,-78.3409\"/>\n<polygon fill=\"#000000\" stroke=\"#000000\" points=\"6152.3169,-78.4885 6149.5416,-68.2637 6145.3349,-77.9875 6152.3169,-78.4885\"/>\n</g>\n<!-- 47 -->\n<g id=\"node48\" class=\"node\">\n<title>47</title>\n<path fill=\"#ffffff\" stroke=\"#000000\" d=\"M6540.5,-68C6540.5,-68 6323.5,-68 6323.5,-68 6317.5,-68 6311.5,-62 6311.5,-56 6311.5,-56 6311.5,-12 6311.5,-12 6311.5,-6 6317.5,0 6323.5,0 6323.5,0 6540.5,0 6540.5,0 6546.5,0 6552.5,-6 6552.5,-12 6552.5,-12 6552.5,-56 6552.5,-56 6552.5,-62 6546.5,-68 6540.5,-68\"/>\n<text text-anchor=\"middle\" x=\"6432\" y=\"-52.8\" font-family=\"Helvetica,sans-Serif\" font-size=\"14.00\" fill=\"#000000\">gini = 0.5</text>\n<text text-anchor=\"middle\" x=\"6432\" y=\"-37.8\" font-family=\"Helvetica,sans-Serif\" font-size=\"14.00\" fill=\"#000000\">samples = 2</text>\n<text text-anchor=\"middle\" x=\"6432\" y=\"-22.8\" font-family=\"Helvetica,sans-Serif\" font-size=\"14.00\" fill=\"#000000\">value = [0, 1, 0, 0, 0, 0, 0, 0, 0, 0, 1]</text>\n<text text-anchor=\"middle\" x=\"6432\" y=\"-7.8\" font-family=\"Helvetica,sans-Serif\" font-size=\"14.00\" fill=\"#000000\">class = Malaysia</text>\n</g>\n<!-- 46&#45;&gt;47 -->\n<g id=\"edge47\" class=\"edge\">\n<title>46&#45;&gt;47</title>\n<path fill=\"none\" stroke=\"#000000\" d=\"M6437.0211,-103.9815C6436.421,-95.618 6435.7881,-86.7965 6435.1814,-78.3409\"/>\n<polygon fill=\"#000000\" stroke=\"#000000\" points=\"6438.6651,-77.9875 6434.4584,-68.2637 6431.6831,-78.4885 6438.6651,-77.9875\"/>\n</g>\n<!-- 48 -->\n<g id=\"node49\" class=\"node\">\n<title>48</title>\n<path fill=\"#e74a5f\" stroke=\"#000000\" d=\"M6825,-68C6825,-68 6583,-68 6583,-68 6577,-68 6571,-62 6571,-56 6571,-56 6571,-12 6571,-12 6571,-6 6577,0 6583,0 6583,0 6825,0 6825,0 6831,0 6837,-6 6837,-12 6837,-12 6837,-56 6837,-56 6837,-62 6831,-68 6825,-68\"/>\n<text text-anchor=\"middle\" x=\"6704\" y=\"-52.8\" font-family=\"Helvetica,sans-Serif\" font-size=\"14.00\" fill=\"#000000\">gini = 0.148</text>\n<text text-anchor=\"middle\" x=\"6704\" y=\"-37.8\" font-family=\"Helvetica,sans-Serif\" font-size=\"14.00\" fill=\"#000000\">samples = 609</text>\n<text text-anchor=\"middle\" x=\"6704\" y=\"-22.8\" font-family=\"Helvetica,sans-Serif\" font-size=\"14.00\" fill=\"#000000\">value = [0, 49, 0, 0, 0, 0, 0, 0, 0, 0, 560]</text>\n<text text-anchor=\"middle\" x=\"6704\" y=\"-7.8\" font-family=\"Helvetica,sans-Serif\" font-size=\"14.00\" fill=\"#000000\">class = New Zealand</text>\n</g>\n<!-- 46&#45;&gt;48 -->\n<g id=\"edge48\" class=\"edge\">\n<title>46&#45;&gt;48</title>\n<path fill=\"none\" stroke=\"#000000\" d=\"M6538.3039,-103.9815C6563.1324,-93.4952 6589.6656,-82.289 6614.0588,-71.9865\"/>\n<polygon fill=\"#000000\" stroke=\"#000000\" points=\"6615.4447,-75.2006 6623.295,-68.0856 6612.7212,-68.7522 6615.4447,-75.2006\"/>\n</g>\n<!-- 50 -->\n<g id=\"node51\" class=\"node\">\n<title>50</title>\n<path fill=\"#e85367\" stroke=\"#000000\" d=\"M7506,-306C7506,-306 7264,-306 7264,-306 7258,-306 7252,-300 7252,-294 7252,-294 7252,-235 7252,-235 7252,-229 7258,-223 7264,-223 7264,-223 7506,-223 7506,-223 7512,-223 7518,-229 7518,-235 7518,-235 7518,-294 7518,-294 7518,-300 7512,-306 7506,-306\"/>\n<text text-anchor=\"middle\" x=\"7385\" y=\"-290.8\" font-family=\"Helvetica,sans-Serif\" font-size=\"14.00\" fill=\"#000000\">EXT1 &lt;= 1.5</text>\n<text text-anchor=\"middle\" x=\"7385\" y=\"-275.8\" font-family=\"Helvetica,sans-Serif\" font-size=\"14.00\" fill=\"#000000\">gini = 0.207</text>\n<text text-anchor=\"middle\" x=\"7385\" y=\"-260.8\" font-family=\"Helvetica,sans-Serif\" font-size=\"14.00\" fill=\"#000000\">samples = 604</text>\n<text text-anchor=\"middle\" x=\"7385\" y=\"-245.8\" font-family=\"Helvetica,sans-Serif\" font-size=\"14.00\" fill=\"#000000\">value = [0, 71, 0, 0, 0, 0, 0, 0, 0, 0, 533]</text>\n<text text-anchor=\"middle\" x=\"7385\" y=\"-230.8\" font-family=\"Helvetica,sans-Serif\" font-size=\"14.00\" fill=\"#000000\">class = New Zealand</text>\n</g>\n<!-- 49&#45;&gt;50 -->\n<g id=\"edge50\" class=\"edge\">\n<title>49&#45;&gt;50</title>\n<path fill=\"none\" stroke=\"#000000\" d=\"M7385,-341.8796C7385,-333.6838 7385,-324.9891 7385,-316.5013\"/>\n<polygon fill=\"#000000\" stroke=\"#000000\" points=\"7388.5001,-316.298 7385,-306.2981 7381.5001,-316.2981 7388.5001,-316.298\"/>\n</g>\n<!-- 57 -->\n<g id=\"node58\" class=\"node\">\n<title>57</title>\n<path fill=\"#e84c61\" stroke=\"#000000\" d=\"M8339,-306C8339,-306 8081,-306 8081,-306 8075,-306 8069,-300 8069,-294 8069,-294 8069,-235 8069,-235 8069,-229 8075,-223 8081,-223 8081,-223 8339,-223 8339,-223 8345,-223 8351,-229 8351,-235 8351,-235 8351,-294 8351,-294 8351,-300 8345,-306 8339,-306\"/>\n<text text-anchor=\"middle\" x=\"8210\" y=\"-290.8\" font-family=\"Helvetica,sans-Serif\" font-size=\"14.00\" fill=\"#000000\">EXT4 &lt;= 1.5</text>\n<text text-anchor=\"middle\" x=\"8210\" y=\"-275.8\" font-family=\"Helvetica,sans-Serif\" font-size=\"14.00\" fill=\"#000000\">gini = 0.161</text>\n<text text-anchor=\"middle\" x=\"8210\" y=\"-260.8\" font-family=\"Helvetica,sans-Serif\" font-size=\"14.00\" fill=\"#000000\">samples = 5207</text>\n<text text-anchor=\"middle\" x=\"8210\" y=\"-245.8\" font-family=\"Helvetica,sans-Serif\" font-size=\"14.00\" fill=\"#000000\">value = [0, 459, 0, 0, 0, 0, 0, 0, 0, 0, 4748]</text>\n<text text-anchor=\"middle\" x=\"8210\" y=\"-230.8\" font-family=\"Helvetica,sans-Serif\" font-size=\"14.00\" fill=\"#000000\">class = New Zealand</text>\n</g>\n<!-- 49&#45;&gt;57 -->\n<g id=\"edge57\" class=\"edge\">\n<title>49&#45;&gt;57</title>\n<path fill=\"none\" stroke=\"#000000\" d=\"M7526.3536,-363.1108C7674.5546,-341.7339 7906.5847,-308.2654 8058.486,-286.3547\"/>\n<polygon fill=\"#000000\" stroke=\"#000000\" points=\"8059.43,-289.7549 8068.8279,-284.863 8058.4306,-282.8266 8059.43,-289.7549\"/>\n</g>\n<!-- 51 -->\n<g id=\"node52\" class=\"node\">\n<title>51</title>\n<path fill=\"#e63f55\" stroke=\"#000000\" d=\"M7359.5,-187C7359.5,-187 7134.5,-187 7134.5,-187 7128.5,-187 7122.5,-181 7122.5,-175 7122.5,-175 7122.5,-116 7122.5,-116 7122.5,-110 7128.5,-104 7134.5,-104 7134.5,-104 7359.5,-104 7359.5,-104 7365.5,-104 7371.5,-110 7371.5,-116 7371.5,-116 7371.5,-175 7371.5,-175 7371.5,-181 7365.5,-187 7359.5,-187\"/>\n<text text-anchor=\"middle\" x=\"7247\" y=\"-171.8\" font-family=\"Helvetica,sans-Serif\" font-size=\"14.00\" fill=\"#000000\">EXT9 &lt;= 4.5</text>\n<text text-anchor=\"middle\" x=\"7247\" y=\"-156.8\" font-family=\"Helvetica,sans-Serif\" font-size=\"14.00\" fill=\"#000000\">gini = 0.053</text>\n<text text-anchor=\"middle\" x=\"7247\" y=\"-141.8\" font-family=\"Helvetica,sans-Serif\" font-size=\"14.00\" fill=\"#000000\">samples = 73</text>\n<text text-anchor=\"middle\" x=\"7247\" y=\"-126.8\" font-family=\"Helvetica,sans-Serif\" font-size=\"14.00\" fill=\"#000000\">value = [0, 2, 0, 0, 0, 0, 0, 0, 0, 0, 71]</text>\n<text text-anchor=\"middle\" x=\"7247\" y=\"-111.8\" font-family=\"Helvetica,sans-Serif\" font-size=\"14.00\" fill=\"#000000\">class = New Zealand</text>\n</g>\n<!-- 50&#45;&gt;51 -->\n<g id=\"edge51\" class=\"edge\">\n<title>50&#45;&gt;51</title>\n<path fill=\"none\" stroke=\"#000000\" d=\"M7336.7343,-222.8796C7325.8722,-213.513 7314.2544,-203.4948 7303.1027,-193.8784\"/>\n<polygon fill=\"#000000\" stroke=\"#000000\" points=\"7305.3306,-191.178 7295.4717,-187.2981 7300.7592,-196.4792 7305.3306,-191.178\"/>\n</g>\n<!-- 54 -->\n<g id=\"node55\" class=\"node\">\n<title>54</title>\n<path fill=\"#e9576a\" stroke=\"#000000\" d=\"M7644,-187C7644,-187 7402,-187 7402,-187 7396,-187 7390,-181 7390,-175 7390,-175 7390,-116 7390,-116 7390,-110 7396,-104 7402,-104 7402,-104 7644,-104 7644,-104 7650,-104 7656,-110 7656,-116 7656,-116 7656,-175 7656,-175 7656,-181 7650,-187 7644,-187\"/>\n<text text-anchor=\"middle\" x=\"7523\" y=\"-171.8\" font-family=\"Helvetica,sans-Serif\" font-size=\"14.00\" fill=\"#000000\">EXT4 &lt;= 4.5</text>\n<text text-anchor=\"middle\" x=\"7523\" y=\"-156.8\" font-family=\"Helvetica,sans-Serif\" font-size=\"14.00\" fill=\"#000000\">gini = 0.226</text>\n<text text-anchor=\"middle\" x=\"7523\" y=\"-141.8\" font-family=\"Helvetica,sans-Serif\" font-size=\"14.00\" fill=\"#000000\">samples = 531</text>\n<text text-anchor=\"middle\" x=\"7523\" y=\"-126.8\" font-family=\"Helvetica,sans-Serif\" font-size=\"14.00\" fill=\"#000000\">value = [0, 69, 0, 0, 0, 0, 0, 0, 0, 0, 462]</text>\n<text text-anchor=\"middle\" x=\"7523\" y=\"-111.8\" font-family=\"Helvetica,sans-Serif\" font-size=\"14.00\" fill=\"#000000\">class = New Zealand</text>\n</g>\n<!-- 50&#45;&gt;54 -->\n<g id=\"edge54\" class=\"edge\">\n<title>50&#45;&gt;54</title>\n<path fill=\"none\" stroke=\"#000000\" d=\"M7433.2657,-222.8796C7444.1278,-213.513 7455.7456,-203.4948 7466.8973,-193.8784\"/>\n<polygon fill=\"#000000\" stroke=\"#000000\" points=\"7469.2408,-196.4792 7474.5283,-187.2981 7464.6694,-191.178 7469.2408,-196.4792\"/>\n</g>\n<!-- 52 -->\n<g id=\"node53\" class=\"node\">\n<title>52</title>\n<path fill=\"#e7495f\" stroke=\"#000000\" d=\"M7092.5,-68C7092.5,-68 6867.5,-68 6867.5,-68 6861.5,-68 6855.5,-62 6855.5,-56 6855.5,-56 6855.5,-12 6855.5,-12 6855.5,-6 6861.5,0 6867.5,0 6867.5,0 7092.5,0 7092.5,0 7098.5,0 7104.5,-6 7104.5,-12 7104.5,-12 7104.5,-56 7104.5,-56 7104.5,-62 7098.5,-68 7092.5,-68\"/>\n<text text-anchor=\"middle\" x=\"6980\" y=\"-52.8\" font-family=\"Helvetica,sans-Serif\" font-size=\"14.00\" fill=\"#000000\">gini = 0.142</text>\n<text text-anchor=\"middle\" x=\"6980\" y=\"-37.8\" font-family=\"Helvetica,sans-Serif\" font-size=\"14.00\" fill=\"#000000\">samples = 26</text>\n<text text-anchor=\"middle\" x=\"6980\" y=\"-22.8\" font-family=\"Helvetica,sans-Serif\" font-size=\"14.00\" fill=\"#000000\">value = [0, 2, 0, 0, 0, 0, 0, 0, 0, 0, 24]</text>\n<text text-anchor=\"middle\" x=\"6980\" y=\"-7.8\" font-family=\"Helvetica,sans-Serif\" font-size=\"14.00\" fill=\"#000000\">class = New Zealand</text>\n</g>\n<!-- 51&#45;&gt;52 -->\n<g id=\"edge52\" class=\"edge\">\n<title>51&#45;&gt;52</title>\n<path fill=\"none\" stroke=\"#000000\" d=\"M7147.5791,-103.9815C7122.4683,-93.4952 7095.6337,-82.289 7070.9632,-71.9865\"/>\n<polygon fill=\"#000000\" stroke=\"#000000\" points=\"7072.1985,-68.7095 7061.6221,-68.0856 7069.501,-75.1689 7072.1985,-68.7095\"/>\n</g>\n<!-- 53 -->\n<g id=\"node54\" class=\"node\">\n<title>53</title>\n<path fill=\"#e53950\" stroke=\"#000000\" d=\"M7359.5,-68C7359.5,-68 7134.5,-68 7134.5,-68 7128.5,-68 7122.5,-62 7122.5,-56 7122.5,-56 7122.5,-12 7122.5,-12 7122.5,-6 7128.5,0 7134.5,0 7134.5,0 7359.5,0 7359.5,0 7365.5,0 7371.5,-6 7371.5,-12 7371.5,-12 7371.5,-56 7371.5,-56 7371.5,-62 7365.5,-68 7359.5,-68\"/>\n<text text-anchor=\"middle\" x=\"7247\" y=\"-52.8\" font-family=\"Helvetica,sans-Serif\" font-size=\"14.00\" fill=\"#000000\">gini = 0.0</text>\n<text text-anchor=\"middle\" x=\"7247\" y=\"-37.8\" font-family=\"Helvetica,sans-Serif\" font-size=\"14.00\" fill=\"#000000\">samples = 47</text>\n<text text-anchor=\"middle\" x=\"7247\" y=\"-22.8\" font-family=\"Helvetica,sans-Serif\" font-size=\"14.00\" fill=\"#000000\">value = [0, 0, 0, 0, 0, 0, 0, 0, 0, 0, 47]</text>\n<text text-anchor=\"middle\" x=\"7247\" y=\"-7.8\" font-family=\"Helvetica,sans-Serif\" font-size=\"14.00\" fill=\"#000000\">class = New Zealand</text>\n</g>\n<!-- 51&#45;&gt;53 -->\n<g id=\"edge53\" class=\"edge\">\n<title>51&#45;&gt;53</title>\n<path fill=\"none\" stroke=\"#000000\" d=\"M7247,-103.9815C7247,-95.618 7247,-86.7965 7247,-78.3409\"/>\n<polygon fill=\"#000000\" stroke=\"#000000\" points=\"7250.5001,-78.2636 7247,-68.2637 7243.5001,-78.2637 7250.5001,-78.2636\"/>\n</g>\n<!-- 55 -->\n<g id=\"node56\" class=\"node\">\n<title>55</title>\n<path fill=\"#e85467\" stroke=\"#000000\" d=\"M7644,-68C7644,-68 7402,-68 7402,-68 7396,-68 7390,-62 7390,-56 7390,-56 7390,-12 7390,-12 7390,-6 7396,0 7402,0 7402,0 7644,0 7644,0 7650,0 7656,-6 7656,-12 7656,-12 7656,-56 7656,-56 7656,-62 7650,-68 7644,-68\"/>\n<text text-anchor=\"middle\" x=\"7523\" y=\"-52.8\" font-family=\"Helvetica,sans-Serif\" font-size=\"14.00\" fill=\"#000000\">gini = 0.209</text>\n<text text-anchor=\"middle\" x=\"7523\" y=\"-37.8\" font-family=\"Helvetica,sans-Serif\" font-size=\"14.00\" fill=\"#000000\">samples = 499</text>\n<text text-anchor=\"middle\" x=\"7523\" y=\"-22.8\" font-family=\"Helvetica,sans-Serif\" font-size=\"14.00\" fill=\"#000000\">value = [0, 59, 0, 0, 0, 0, 0, 0, 0, 0, 440]</text>\n<text text-anchor=\"middle\" x=\"7523\" y=\"-7.8\" font-family=\"Helvetica,sans-Serif\" font-size=\"14.00\" fill=\"#000000\">class = New Zealand</text>\n</g>\n<!-- 54&#45;&gt;55 -->\n<g id=\"edge55\" class=\"edge\">\n<title>54&#45;&gt;55</title>\n<path fill=\"none\" stroke=\"#000000\" d=\"M7523,-103.9815C7523,-95.618 7523,-86.7965 7523,-78.3409\"/>\n<polygon fill=\"#000000\" stroke=\"#000000\" points=\"7526.5001,-78.2636 7523,-68.2637 7519.5001,-78.2637 7526.5001,-78.2636\"/>\n</g>\n<!-- 56 -->\n<g id=\"node57\" class=\"node\">\n<title>56</title>\n<path fill=\"#f193a0\" stroke=\"#000000\" d=\"M7919.5,-68C7919.5,-68 7686.5,-68 7686.5,-68 7680.5,-68 7674.5,-62 7674.5,-56 7674.5,-56 7674.5,-12 7674.5,-12 7674.5,-6 7680.5,0 7686.5,0 7686.5,0 7919.5,0 7919.5,0 7925.5,0 7931.5,-6 7931.5,-12 7931.5,-12 7931.5,-56 7931.5,-56 7931.5,-62 7925.5,-68 7919.5,-68\"/>\n<text text-anchor=\"middle\" x=\"7803\" y=\"-52.8\" font-family=\"Helvetica,sans-Serif\" font-size=\"14.00\" fill=\"#000000\">gini = 0.43</text>\n<text text-anchor=\"middle\" x=\"7803\" y=\"-37.8\" font-family=\"Helvetica,sans-Serif\" font-size=\"14.00\" fill=\"#000000\">samples = 32</text>\n<text text-anchor=\"middle\" x=\"7803\" y=\"-22.8\" font-family=\"Helvetica,sans-Serif\" font-size=\"14.00\" fill=\"#000000\">value = [0, 10, 0, 0, 0, 0, 0, 0, 0, 0, 22]</text>\n<text text-anchor=\"middle\" x=\"7803\" y=\"-7.8\" font-family=\"Helvetica,sans-Serif\" font-size=\"14.00\" fill=\"#000000\">class = New Zealand</text>\n</g>\n<!-- 54&#45;&gt;56 -->\n<g id=\"edge56\" class=\"edge\">\n<title>54&#45;&gt;56</title>\n<path fill=\"none\" stroke=\"#000000\" d=\"M7627.2617,-103.9815C7653.711,-93.449 7681.9842,-82.1902 7707.9497,-71.8504\"/>\n<polygon fill=\"#000000\" stroke=\"#000000\" points=\"7709.4082,-75.037 7717.4038,-68.0856 7706.8184,-68.5336 7709.4082,-75.037\"/>\n</g>\n<!-- 58 -->\n<g id=\"node59\" class=\"node\">\n<title>58</title>\n<path fill=\"#e74a5f\" stroke=\"#000000\" d=\"M8339,-187C8339,-187 8081,-187 8081,-187 8075,-187 8069,-181 8069,-175 8069,-175 8069,-116 8069,-116 8069,-110 8075,-104 8081,-104 8081,-104 8339,-104 8339,-104 8345,-104 8351,-110 8351,-116 8351,-116 8351,-175 8351,-175 8351,-181 8345,-187 8339,-187\"/>\n<text text-anchor=\"middle\" x=\"8210\" y=\"-171.8\" font-family=\"Helvetica,sans-Serif\" font-size=\"14.00\" fill=\"#000000\">EXT8 &lt;= 0.5</text>\n<text text-anchor=\"middle\" x=\"8210\" y=\"-156.8\" font-family=\"Helvetica,sans-Serif\" font-size=\"14.00\" fill=\"#000000\">gini = 0.144</text>\n<text text-anchor=\"middle\" x=\"8210\" y=\"-141.8\" font-family=\"Helvetica,sans-Serif\" font-size=\"14.00\" fill=\"#000000\">samples = 2291</text>\n<text text-anchor=\"middle\" x=\"8210\" y=\"-126.8\" font-family=\"Helvetica,sans-Serif\" font-size=\"14.00\" fill=\"#000000\">value = [0, 179, 0, 0, 0, 0, 0, 0, 0, 0, 2112]</text>\n<text text-anchor=\"middle\" x=\"8210\" y=\"-111.8\" font-family=\"Helvetica,sans-Serif\" font-size=\"14.00\" fill=\"#000000\">class = New Zealand</text>\n</g>\n<!-- 57&#45;&gt;58 -->\n<g id=\"edge58\" class=\"edge\">\n<title>57&#45;&gt;58</title>\n<path fill=\"none\" stroke=\"#000000\" d=\"M8210,-222.8796C8210,-214.6838 8210,-205.9891 8210,-197.5013\"/>\n<polygon fill=\"#000000\" stroke=\"#000000\" points=\"8213.5001,-197.298 8210,-187.2981 8206.5001,-197.2981 8213.5001,-197.298\"/>\n</g>\n<!-- 61 -->\n<g id=\"node62\" class=\"node\">\n<title>61</title>\n<path fill=\"#e84e63\" stroke=\"#000000\" d=\"M8779,-187C8779,-187 8521,-187 8521,-187 8515,-187 8509,-181 8509,-175 8509,-175 8509,-116 8509,-116 8509,-110 8515,-104 8521,-104 8521,-104 8779,-104 8779,-104 8785,-104 8791,-110 8791,-116 8791,-116 8791,-175 8791,-175 8791,-181 8785,-187 8779,-187\"/>\n<text text-anchor=\"middle\" x=\"8650\" y=\"-171.8\" font-family=\"Helvetica,sans-Serif\" font-size=\"14.00\" fill=\"#000000\">EXT8 &lt;= 2.5</text>\n<text text-anchor=\"middle\" x=\"8650\" y=\"-156.8\" font-family=\"Helvetica,sans-Serif\" font-size=\"14.00\" fill=\"#000000\">gini = 0.174</text>\n<text text-anchor=\"middle\" x=\"8650\" y=\"-141.8\" font-family=\"Helvetica,sans-Serif\" font-size=\"14.00\" fill=\"#000000\">samples = 2916</text>\n<text text-anchor=\"middle\" x=\"8650\" y=\"-126.8\" font-family=\"Helvetica,sans-Serif\" font-size=\"14.00\" fill=\"#000000\">value = [0, 280, 0, 0, 0, 0, 0, 0, 0, 0, 2636]</text>\n<text text-anchor=\"middle\" x=\"8650\" y=\"-111.8\" font-family=\"Helvetica,sans-Serif\" font-size=\"14.00\" fill=\"#000000\">class = New Zealand</text>\n</g>\n<!-- 57&#45;&gt;61 -->\n<g id=\"edge61\" class=\"edge\">\n<title>57&#45;&gt;61</title>\n<path fill=\"none\" stroke=\"#000000\" d=\"M8351.0343,-226.3566C8398.1844,-213.6047 8450.914,-199.3437 8498.8062,-186.391\"/>\n<polygon fill=\"#000000\" stroke=\"#000000\" points=\"8499.893,-189.723 8508.6324,-183.7335 8498.0654,-182.9657 8499.893,-189.723\"/>\n</g>\n<!-- 59 -->\n<g id=\"node60\" class=\"node\">\n<title>59</title>\n<path fill=\"#f2ee9c\" stroke=\"#000000\" d=\"M8178.5,-68C8178.5,-68 7961.5,-68 7961.5,-68 7955.5,-68 7949.5,-62 7949.5,-56 7949.5,-56 7949.5,-12 7949.5,-12 7949.5,-6 7955.5,0 7961.5,0 7961.5,0 8178.5,0 8178.5,0 8184.5,0 8190.5,-6 8190.5,-12 8190.5,-12 8190.5,-56 8190.5,-56 8190.5,-62 8184.5,-68 8178.5,-68\"/>\n<text text-anchor=\"middle\" x=\"8070\" y=\"-52.8\" font-family=\"Helvetica,sans-Serif\" font-size=\"14.00\" fill=\"#000000\">gini = 0.444</text>\n<text text-anchor=\"middle\" x=\"8070\" y=\"-37.8\" font-family=\"Helvetica,sans-Serif\" font-size=\"14.00\" fill=\"#000000\">samples = 3</text>\n<text text-anchor=\"middle\" x=\"8070\" y=\"-22.8\" font-family=\"Helvetica,sans-Serif\" font-size=\"14.00\" fill=\"#000000\">value = [0, 2, 0, 0, 0, 0, 0, 0, 0, 0, 1]</text>\n<text text-anchor=\"middle\" x=\"8070\" y=\"-7.8\" font-family=\"Helvetica,sans-Serif\" font-size=\"14.00\" fill=\"#000000\">class = Malaysia</text>\n</g>\n<!-- 58&#45;&gt;59 -->\n<g id=\"edge59\" class=\"edge\">\n<title>58&#45;&gt;59</title>\n<path fill=\"none\" stroke=\"#000000\" d=\"M8157.8692,-103.9815C8145.8677,-94.4232 8133.1152,-84.2668 8121.1557,-74.7419\"/>\n<polygon fill=\"#000000\" stroke=\"#000000\" points=\"8123.0244,-71.7558 8113.0217,-68.2637 8118.6635,-77.2314 8123.0244,-71.7558\"/>\n</g>\n<!-- 60 -->\n<g id=\"node61\" class=\"node\">\n<title>60</title>\n<path fill=\"#e74a5f\" stroke=\"#000000\" d=\"M8479,-68C8479,-68 8221,-68 8221,-68 8215,-68 8209,-62 8209,-56 8209,-56 8209,-12 8209,-12 8209,-6 8215,0 8221,0 8221,0 8479,0 8479,0 8485,0 8491,-6 8491,-12 8491,-12 8491,-56 8491,-56 8491,-62 8485,-68 8479,-68\"/>\n<text text-anchor=\"middle\" x=\"8350\" y=\"-52.8\" font-family=\"Helvetica,sans-Serif\" font-size=\"14.00\" fill=\"#000000\">gini = 0.143</text>\n<text text-anchor=\"middle\" x=\"8350\" y=\"-37.8\" font-family=\"Helvetica,sans-Serif\" font-size=\"14.00\" fill=\"#000000\">samples = 2288</text>\n<text text-anchor=\"middle\" x=\"8350\" y=\"-22.8\" font-family=\"Helvetica,sans-Serif\" font-size=\"14.00\" fill=\"#000000\">value = [0, 177, 0, 0, 0, 0, 0, 0, 0, 0, 2111]</text>\n<text text-anchor=\"middle\" x=\"8350\" y=\"-7.8\" font-family=\"Helvetica,sans-Serif\" font-size=\"14.00\" fill=\"#000000\">class = New Zealand</text>\n</g>\n<!-- 58&#45;&gt;60 -->\n<g id=\"edge60\" class=\"edge\">\n<title>58&#45;&gt;60</title>\n<path fill=\"none\" stroke=\"#000000\" d=\"M8262.1308,-103.9815C8274.1323,-94.4232 8286.8848,-84.2668 8298.8443,-74.7419\"/>\n<polygon fill=\"#000000\" stroke=\"#000000\" points=\"8301.3365,-77.2314 8306.9783,-68.2637 8296.9756,-71.7558 8301.3365,-77.2314\"/>\n</g>\n<!-- 62 -->\n<g id=\"node63\" class=\"node\">\n<title>62</title>\n<path fill=\"#e85166\" stroke=\"#000000\" d=\"M8779,-68C8779,-68 8521,-68 8521,-68 8515,-68 8509,-62 8509,-56 8509,-56 8509,-12 8509,-12 8509,-6 8515,0 8521,0 8521,0 8779,0 8779,0 8785,0 8791,-6 8791,-12 8791,-12 8791,-56 8791,-56 8791,-62 8785,-68 8779,-68\"/>\n<text text-anchor=\"middle\" x=\"8650\" y=\"-52.8\" font-family=\"Helvetica,sans-Serif\" font-size=\"14.00\" fill=\"#000000\">gini = 0.195</text>\n<text text-anchor=\"middle\" x=\"8650\" y=\"-37.8\" font-family=\"Helvetica,sans-Serif\" font-size=\"14.00\" fill=\"#000000\">samples = 1359</text>\n<text text-anchor=\"middle\" x=\"8650\" y=\"-22.8\" font-family=\"Helvetica,sans-Serif\" font-size=\"14.00\" fill=\"#000000\">value = [0, 149, 0, 0, 0, 0, 0, 0, 0, 0, 1210]</text>\n<text text-anchor=\"middle\" x=\"8650\" y=\"-7.8\" font-family=\"Helvetica,sans-Serif\" font-size=\"14.00\" fill=\"#000000\">class = New Zealand</text>\n</g>\n<!-- 61&#45;&gt;62 -->\n<g id=\"edge62\" class=\"edge\">\n<title>61&#45;&gt;62</title>\n<path fill=\"none\" stroke=\"#000000\" d=\"M8650,-103.9815C8650,-95.618 8650,-86.7965 8650,-78.3409\"/>\n<polygon fill=\"#000000\" stroke=\"#000000\" points=\"8653.5001,-78.2636 8650,-68.2637 8646.5001,-78.2637 8653.5001,-78.2636\"/>\n</g>\n<!-- 63 -->\n<g id=\"node64\" class=\"node\">\n<title>63</title>\n<path fill=\"#e74b60\" stroke=\"#000000\" d=\"M9079,-68C9079,-68 8821,-68 8821,-68 8815,-68 8809,-62 8809,-56 8809,-56 8809,-12 8809,-12 8809,-6 8815,0 8821,0 8821,0 9079,0 9079,0 9085,0 9091,-6 9091,-12 9091,-12 9091,-56 9091,-56 9091,-62 9085,-68 9079,-68\"/>\n<text text-anchor=\"middle\" x=\"8950\" y=\"-52.8\" font-family=\"Helvetica,sans-Serif\" font-size=\"14.00\" fill=\"#000000\">gini = 0.154</text>\n<text text-anchor=\"middle\" x=\"8950\" y=\"-37.8\" font-family=\"Helvetica,sans-Serif\" font-size=\"14.00\" fill=\"#000000\">samples = 1557</text>\n<text text-anchor=\"middle\" x=\"8950\" y=\"-22.8\" font-family=\"Helvetica,sans-Serif\" font-size=\"14.00\" fill=\"#000000\">value = [0, 131, 0, 0, 0, 0, 0, 0, 0, 0, 1426]</text>\n<text text-anchor=\"middle\" x=\"8950\" y=\"-7.8\" font-family=\"Helvetica,sans-Serif\" font-size=\"14.00\" fill=\"#000000\">class = New Zealand</text>\n</g>\n<!-- 61&#45;&gt;63 -->\n<g id=\"edge63\" class=\"edge\">\n<title>61&#45;&gt;63</title>\n<path fill=\"none\" stroke=\"#000000\" d=\"M8761.7089,-103.9815C8790.2961,-93.3566 8820.8718,-81.9926 8848.8919,-71.5785\"/>\n<polygon fill=\"#000000\" stroke=\"#000000\" points=\"8850.1356,-74.8503 8858.2898,-68.0856 8847.6969,-68.2888 8850.1356,-74.8503\"/>\n</g>\n<!-- 65 -->\n<g id=\"node66\" class=\"node\">\n<title>65</title>\n<path fill=\"#f6d4bb\" stroke=\"#000000\" d=\"M10477,-544C10477,-544 10169,-544 10169,-544 10163,-544 10157,-538 10157,-532 10157,-532 10157,-473 10157,-473 10157,-467 10163,-461 10169,-461 10169,-461 10477,-461 10477,-461 10483,-461 10489,-467 10489,-473 10489,-473 10489,-532 10489,-532 10489,-538 10483,-544 10477,-544\"/>\n<text text-anchor=\"middle\" x=\"10323\" y=\"-528.8\" font-family=\"Helvetica,sans-Serif\" font-size=\"14.00\" fill=\"#000000\">continent &lt;= 3.5</text>\n<text text-anchor=\"middle\" x=\"10323\" y=\"-513.8\" font-family=\"Helvetica,sans-Serif\" font-size=\"14.00\" fill=\"#000000\">gini = 0.664</text>\n<text text-anchor=\"middle\" x=\"10323\" y=\"-498.8\" font-family=\"Helvetica,sans-Serif\" font-size=\"14.00\" fill=\"#000000\">samples = 8259</text>\n<text text-anchor=\"middle\" x=\"10323\" y=\"-483.8\" font-family=\"Helvetica,sans-Serif\" font-size=\"14.00\" fill=\"#000000\">value = [4072, 0, 0, 1889, 872, 0, 0, 1426, 0, 0, 0]</text>\n<text text-anchor=\"middle\" x=\"10323\" y=\"-468.8\" font-family=\"Helvetica,sans-Serif\" font-size=\"14.00\" fill=\"#000000\">class = United Kingdom</text>\n</g>\n<!-- 64&#45;&gt;65 -->\n<g id=\"edge65\" class=\"edge\">\n<title>64&#45;&gt;65</title>\n<path fill=\"none\" stroke=\"#000000\" d=\"M10323,-579.7296C10323,-571.3452 10323,-562.6158 10323,-554.1714\"/>\n<polygon fill=\"#000000\" stroke=\"#000000\" points=\"10326.5001,-554.0549 10323,-544.055 10319.5001,-554.055 10326.5001,-554.0549\"/>\n</g>\n<!-- 82 -->\n<g id=\"node83\" class=\"node\">\n<title>82</title>\n<path fill=\"#f299d5\" stroke=\"#000000\" d=\"M12777,-544C12777,-544 12453,-544 12453,-544 12447,-544 12441,-538 12441,-532 12441,-532 12441,-473 12441,-473 12441,-467 12447,-461 12453,-461 12453,-461 12777,-461 12777,-461 12783,-461 12789,-467 12789,-473 12789,-473 12789,-532 12789,-532 12789,-538 12783,-544 12777,-544\"/>\n<text text-anchor=\"middle\" x=\"12615\" y=\"-528.8\" font-family=\"Helvetica,sans-Serif\" font-size=\"14.00\" fill=\"#000000\">EXT3 &lt;= 3.5</text>\n<text text-anchor=\"middle\" x=\"12615\" y=\"-513.8\" font-family=\"Helvetica,sans-Serif\" font-size=\"14.00\" fill=\"#000000\">gini = 0.627</text>\n<text text-anchor=\"middle\" x=\"12615\" y=\"-498.8\" font-family=\"Helvetica,sans-Serif\" font-size=\"14.00\" fill=\"#000000\">samples = 9391</text>\n<text text-anchor=\"middle\" x=\"12615\" y=\"-483.8\" font-family=\"Helvetica,sans-Serif\" font-size=\"14.00\" fill=\"#000000\">value = [0, 0, 1014, 0, 0, 991, 1072, 0, 940, 5374, 0]</text>\n<text text-anchor=\"middle\" x=\"12615\" y=\"-468.8\" font-family=\"Helvetica,sans-Serif\" font-size=\"14.00\" fill=\"#000000\">class = Germany</text>\n</g>\n<!-- 64&#45;&gt;82 -->\n<g id=\"edge82\" class=\"edge\">\n<title>64&#45;&gt;82</title>\n<path fill=\"none\" stroke=\"#000000\" d=\"M10532.7305,-617.4246C10977.5292,-592.8752 12009.1731,-535.9368 12430.6209,-512.6762\"/>\n<polygon fill=\"#000000\" stroke=\"#000000\" points=\"12430.9767,-516.162 12440.7686,-512.1162 12430.5909,-509.1727 12430.9767,-516.162\"/>\n</g>\n<!-- 66 -->\n<g id=\"node67\" class=\"node\">\n<title>66</title>\n<path fill=\"#defbdf\" stroke=\"#000000\" d=\"M10311.5,-425C10311.5,-425 10028.5,-425 10028.5,-425 10022.5,-425 10016.5,-419 10016.5,-413 10016.5,-413 10016.5,-354 10016.5,-354 10016.5,-348 10022.5,-342 10028.5,-342 10028.5,-342 10311.5,-342 10311.5,-342 10317.5,-342 10323.5,-348 10323.5,-354 10323.5,-354 10323.5,-413 10323.5,-413 10323.5,-419 10317.5,-425 10311.5,-425\"/>\n<text text-anchor=\"middle\" x=\"10170\" y=\"-409.8\" font-family=\"Helvetica,sans-Serif\" font-size=\"14.00\" fill=\"#000000\">EXT9 &lt;= 3.5</text>\n<text text-anchor=\"middle\" x=\"10170\" y=\"-394.8\" font-family=\"Helvetica,sans-Serif\" font-size=\"14.00\" fill=\"#000000\">gini = 0.637</text>\n<text text-anchor=\"middle\" x=\"10170\" y=\"-379.8\" font-family=\"Helvetica,sans-Serif\" font-size=\"14.00\" fill=\"#000000\">samples = 4187</text>\n<text text-anchor=\"middle\" x=\"10170\" y=\"-364.8\" font-family=\"Helvetica,sans-Serif\" font-size=\"14.00\" fill=\"#000000\">value = [0, 0, 0, 1889, 872, 0, 0, 1426, 0, 0, 0]</text>\n<text text-anchor=\"middle\" x=\"10170\" y=\"-349.8\" font-family=\"Helvetica,sans-Serif\" font-size=\"14.00\" fill=\"#000000\">class = United States</text>\n</g>\n<!-- 65&#45;&gt;66 -->\n<g id=\"edge66\" class=\"edge\">\n<title>65&#45;&gt;66</title>\n<path fill=\"none\" stroke=\"#000000\" d=\"M10269.488,-460.8796C10257.2588,-451.368 10244.1656,-441.1843 10231.6268,-431.432\"/>\n<polygon fill=\"#000000\" stroke=\"#000000\" points=\"10233.5241,-428.4736 10223.4818,-425.0969 10229.2265,-433.9991 10233.5241,-428.4736\"/>\n</g>\n<!-- 81 -->\n<g id=\"node82\" class=\"node\">\n<title>81</title>\n<path fill=\"#e58139\" stroke=\"#000000\" d=\"M10596,-417.5C10596,-417.5 10354,-417.5 10354,-417.5 10348,-417.5 10342,-411.5 10342,-405.5 10342,-405.5 10342,-361.5 10342,-361.5 10342,-355.5 10348,-349.5 10354,-349.5 10354,-349.5 10596,-349.5 10596,-349.5 10602,-349.5 10608,-355.5 10608,-361.5 10608,-361.5 10608,-405.5 10608,-405.5 10608,-411.5 10602,-417.5 10596,-417.5\"/>\n<text text-anchor=\"middle\" x=\"10475\" y=\"-402.3\" font-family=\"Helvetica,sans-Serif\" font-size=\"14.00\" fill=\"#000000\">gini = 0.0</text>\n<text text-anchor=\"middle\" x=\"10475\" y=\"-387.3\" font-family=\"Helvetica,sans-Serif\" font-size=\"14.00\" fill=\"#000000\">samples = 4072</text>\n<text text-anchor=\"middle\" x=\"10475\" y=\"-372.3\" font-family=\"Helvetica,sans-Serif\" font-size=\"14.00\" fill=\"#000000\">value = [4072, 0, 0, 0, 0, 0, 0, 0, 0, 0, 0]</text>\n<text text-anchor=\"middle\" x=\"10475\" y=\"-357.3\" font-family=\"Helvetica,sans-Serif\" font-size=\"14.00\" fill=\"#000000\">class = United Kingdom</text>\n</g>\n<!-- 65&#45;&gt;81 -->\n<g id=\"edge81\" class=\"edge\">\n<title>65&#45;&gt;81</title>\n<path fill=\"none\" stroke=\"#000000\" d=\"M10376.1622,-460.8796C10391.3313,-449.0038 10407.8384,-436.0804 10422.9409,-424.2568\"/>\n<polygon fill=\"#000000\" stroke=\"#000000\" points=\"10425.4528,-426.7353 10431.1692,-417.8149 10421.1376,-421.2236 10425.4528,-426.7353\"/>\n</g>\n<!-- 67 -->\n<g id=\"node68\" class=\"node\">\n<title>67</title>\n<path fill=\"#fdfcff\" stroke=\"#000000\" d=\"M10153,-306C10153,-306 9887,-306 9887,-306 9881,-306 9875,-300 9875,-294 9875,-294 9875,-235 9875,-235 9875,-229 9881,-223 9887,-223 9887,-223 10153,-223 10153,-223 10159,-223 10165,-229 10165,-235 10165,-235 10165,-294 10165,-294 10165,-300 10159,-306 10153,-306\"/>\n<text text-anchor=\"middle\" x=\"10020\" y=\"-290.8\" font-family=\"Helvetica,sans-Serif\" font-size=\"14.00\" fill=\"#000000\">EXT2 &lt;= 3.5</text>\n<text text-anchor=\"middle\" x=\"10020\" y=\"-275.8\" font-family=\"Helvetica,sans-Serif\" font-size=\"14.00\" fill=\"#000000\">gini = 0.652</text>\n<text text-anchor=\"middle\" x=\"10020\" y=\"-260.8\" font-family=\"Helvetica,sans-Serif\" font-size=\"14.00\" fill=\"#000000\">samples = 2413</text>\n<text text-anchor=\"middle\" x=\"10020\" y=\"-245.8\" font-family=\"Helvetica,sans-Serif\" font-size=\"14.00\" fill=\"#000000\">value = [0, 0, 0, 914, 563, 0, 0, 936, 0, 0, 0]</text>\n<text text-anchor=\"middle\" x=\"10020\" y=\"-230.8\" font-family=\"Helvetica,sans-Serif\" font-size=\"14.00\" fill=\"#000000\">class = Canada</text>\n</g>\n<!-- 66&#45;&gt;67 -->\n<g id=\"edge67\" class=\"edge\">\n<title>66&#45;&gt;67</title>\n<path fill=\"none\" stroke=\"#000000\" d=\"M10117.5373,-341.8796C10105.5479,-332.368 10092.7113,-322.1843 10080.4184,-312.432\"/>\n<polygon fill=\"#000000\" stroke=\"#000000\" points=\"10082.4425,-309.5701 10072.4331,-306.0969 10078.0919,-315.054 10082.4425,-309.5701\"/>\n</g>\n<!-- 74 -->\n<g id=\"node75\" class=\"node\">\n<title>74</title>\n<path fill=\"#b4f5b7\" stroke=\"#000000\" d=\"M10741,-306C10741,-306 10475,-306 10475,-306 10469,-306 10463,-300 10463,-294 10463,-294 10463,-235 10463,-235 10463,-229 10469,-223 10475,-223 10475,-223 10741,-223 10741,-223 10747,-223 10753,-229 10753,-235 10753,-235 10753,-294 10753,-294 10753,-300 10747,-306 10741,-306\"/>\n<text text-anchor=\"middle\" x=\"10608\" y=\"-290.8\" font-family=\"Helvetica,sans-Serif\" font-size=\"14.00\" fill=\"#000000\">EXT4 &lt;= 1.5</text>\n<text text-anchor=\"middle\" x=\"10608\" y=\"-275.8\" font-family=\"Helvetica,sans-Serif\" font-size=\"14.00\" fill=\"#000000\">gini = 0.591</text>\n<text text-anchor=\"middle\" x=\"10608\" y=\"-260.8\" font-family=\"Helvetica,sans-Serif\" font-size=\"14.00\" fill=\"#000000\">samples = 1774</text>\n<text text-anchor=\"middle\" x=\"10608\" y=\"-245.8\" font-family=\"Helvetica,sans-Serif\" font-size=\"14.00\" fill=\"#000000\">value = [0, 0, 0, 975, 309, 0, 0, 490, 0, 0, 0]</text>\n<text text-anchor=\"middle\" x=\"10608\" y=\"-230.8\" font-family=\"Helvetica,sans-Serif\" font-size=\"14.00\" fill=\"#000000\">class = United States</text>\n</g>\n<!-- 66&#45;&gt;74 -->\n<g id=\"edge74\" class=\"edge\">\n<title>66&#45;&gt;74</title>\n<path fill=\"none\" stroke=\"#000000\" d=\"M10322.8836,-341.9631C10365.0115,-330.5174 10410.7413,-318.0931 10452.9883,-306.6151\"/>\n<polygon fill=\"#000000\" stroke=\"#000000\" points=\"10454.0615,-309.9504 10462.794,-303.951 10452.2261,-303.1953 10454.0615,-309.9504\"/>\n</g>\n<!-- 68 -->\n<g id=\"node69\" class=\"node\">\n<title>68</title>\n<path fill=\"#ede8fc\" stroke=\"#000000\" d=\"M9695,-187C9695,-187 9429,-187 9429,-187 9423,-187 9417,-181 9417,-175 9417,-175 9417,-116 9417,-116 9417,-110 9423,-104 9429,-104 9429,-104 9695,-104 9695,-104 9701,-104 9707,-110 9707,-116 9707,-116 9707,-175 9707,-175 9707,-181 9701,-187 9695,-187\"/>\n<text text-anchor=\"middle\" x=\"9562\" y=\"-171.8\" font-family=\"Helvetica,sans-Serif\" font-size=\"14.00\" fill=\"#000000\">EXT6 &lt;= 2.5</text>\n<text text-anchor=\"middle\" x=\"9562\" y=\"-156.8\" font-family=\"Helvetica,sans-Serif\" font-size=\"14.00\" fill=\"#000000\">gini = 0.653</text>\n<text text-anchor=\"middle\" x=\"9562\" y=\"-141.8\" font-family=\"Helvetica,sans-Serif\" font-size=\"14.00\" fill=\"#000000\">samples = 1435</text>\n<text text-anchor=\"middle\" x=\"9562\" y=\"-126.8\" font-family=\"Helvetica,sans-Serif\" font-size=\"14.00\" fill=\"#000000\">value = [0, 0, 0, 482, 360, 0, 0, 593, 0, 0, 0]</text>\n<text text-anchor=\"middle\" x=\"9562\" y=\"-111.8\" font-family=\"Helvetica,sans-Serif\" font-size=\"14.00\" fill=\"#000000\">class = Canada</text>\n</g>\n<!-- 67&#45;&gt;68 -->\n<g id=\"edge68\" class=\"edge\">\n<title>67&#45;&gt;68</title>\n<path fill=\"none\" stroke=\"#000000\" d=\"M9874.7714,-226.7659C9824.5593,-213.7195 9768.1147,-199.0538 9717.1388,-185.809\"/>\n<polygon fill=\"#000000\" stroke=\"#000000\" points=\"9717.9128,-182.394 9707.354,-183.2667 9716.1525,-189.169 9717.9128,-182.394\"/>\n</g>\n<!-- 71 -->\n<g id=\"node72\" class=\"node\">\n<title>71</title>\n<path fill=\"#e3fbe4\" stroke=\"#000000\" d=\"M10153,-187C10153,-187 9887,-187 9887,-187 9881,-187 9875,-181 9875,-175 9875,-175 9875,-116 9875,-116 9875,-110 9881,-104 9887,-104 9887,-104 10153,-104 10153,-104 10159,-104 10165,-110 10165,-116 10165,-116 10165,-175 10165,-175 10165,-181 10159,-187 10153,-187\"/>\n<text text-anchor=\"middle\" x=\"10020\" y=\"-171.8\" font-family=\"Helvetica,sans-Serif\" font-size=\"14.00\" fill=\"#000000\">EXT10 &lt;= 4.5</text>\n<text text-anchor=\"middle\" x=\"10020\" y=\"-156.8\" font-family=\"Helvetica,sans-Serif\" font-size=\"14.00\" fill=\"#000000\">gini = 0.639</text>\n<text text-anchor=\"middle\" x=\"10020\" y=\"-141.8\" font-family=\"Helvetica,sans-Serif\" font-size=\"14.00\" fill=\"#000000\">samples = 978</text>\n<text text-anchor=\"middle\" x=\"10020\" y=\"-126.8\" font-family=\"Helvetica,sans-Serif\" font-size=\"14.00\" fill=\"#000000\">value = [0, 0, 0, 432, 203, 0, 0, 343, 0, 0, 0]</text>\n<text text-anchor=\"middle\" x=\"10020\" y=\"-111.8\" font-family=\"Helvetica,sans-Serif\" font-size=\"14.00\" fill=\"#000000\">class = United States</text>\n</g>\n<!-- 67&#45;&gt;71 -->\n<g id=\"edge71\" class=\"edge\">\n<title>67&#45;&gt;71</title>\n<path fill=\"none\" stroke=\"#000000\" d=\"M10020,-222.8796C10020,-214.6838 10020,-205.9891 10020,-197.5013\"/>\n<polygon fill=\"#000000\" stroke=\"#000000\" points=\"10023.5001,-197.298 10020,-187.2981 10016.5001,-197.2981 10023.5001,-197.298\"/>\n</g>\n<!-- 69 -->\n<g id=\"node70\" class=\"node\">\n<title>69</title>\n<path fill=\"#f2fdf2\" stroke=\"#000000\" d=\"M9387,-68C9387,-68 9121,-68 9121,-68 9115,-68 9109,-62 9109,-56 9109,-56 9109,-12 9109,-12 9109,-6 9115,0 9121,0 9121,0 9387,0 9387,0 9393,0 9399,-6 9399,-12 9399,-12 9399,-56 9399,-56 9399,-62 9393,-68 9387,-68\"/>\n<text text-anchor=\"middle\" x=\"9254\" y=\"-52.8\" font-family=\"Helvetica,sans-Serif\" font-size=\"14.00\" fill=\"#000000\">gini = 0.648</text>\n<text text-anchor=\"middle\" x=\"9254\" y=\"-37.8\" font-family=\"Helvetica,sans-Serif\" font-size=\"14.00\" fill=\"#000000\">samples = 680</text>\n<text text-anchor=\"middle\" x=\"9254\" y=\"-22.8\" font-family=\"Helvetica,sans-Serif\" font-size=\"14.00\" fill=\"#000000\">value = [0, 0, 0, 278, 153, 0, 0, 249, 0, 0, 0]</text>\n<text text-anchor=\"middle\" x=\"9254\" y=\"-7.8\" font-family=\"Helvetica,sans-Serif\" font-size=\"14.00\" fill=\"#000000\">class = United States</text>\n</g>\n<!-- 68&#45;&gt;69 -->\n<g id=\"edge69\" class=\"edge\">\n<title>68&#45;&gt;69</title>\n<path fill=\"none\" stroke=\"#000000\" d=\"M9447.3122,-103.9815C9417.9627,-93.3566 9386.5716,-81.9926 9357.8043,-71.5785\"/>\n<polygon fill=\"#000000\" stroke=\"#000000\" points=\"9358.75,-68.1986 9348.1558,-68.0856 9356.3672,-74.7806 9358.75,-68.1986\"/>\n</g>\n<!-- 70 -->\n<g id=\"node71\" class=\"node\">\n<title>70</title>\n<path fill=\"#d8cef8\" stroke=\"#000000\" d=\"M9695,-68C9695,-68 9429,-68 9429,-68 9423,-68 9417,-62 9417,-56 9417,-56 9417,-12 9417,-12 9417,-6 9423,0 9429,0 9429,0 9695,0 9695,0 9701,0 9707,-6 9707,-12 9707,-12 9707,-56 9707,-56 9707,-62 9701,-68 9695,-68\"/>\n<text text-anchor=\"middle\" x=\"9562\" y=\"-52.8\" font-family=\"Helvetica,sans-Serif\" font-size=\"14.00\" fill=\"#000000\">gini = 0.644</text>\n<text text-anchor=\"middle\" x=\"9562\" y=\"-37.8\" font-family=\"Helvetica,sans-Serif\" font-size=\"14.00\" fill=\"#000000\">samples = 755</text>\n<text text-anchor=\"middle\" x=\"9562\" y=\"-22.8\" font-family=\"Helvetica,sans-Serif\" font-size=\"14.00\" fill=\"#000000\">value = [0, 0, 0, 204, 207, 0, 0, 344, 0, 0, 0]</text>\n<text text-anchor=\"middle\" x=\"9562\" y=\"-7.8\" font-family=\"Helvetica,sans-Serif\" font-size=\"14.00\" fill=\"#000000\">class = Canada</text>\n</g>\n<!-- 68&#45;&gt;70 -->\n<g id=\"edge70\" class=\"edge\">\n<title>68&#45;&gt;70</title>\n<path fill=\"none\" stroke=\"#000000\" d=\"M9562,-103.9815C9562,-95.618 9562,-86.7965 9562,-78.3409\"/>\n<polygon fill=\"#000000\" stroke=\"#000000\" points=\"9565.5001,-78.2636 9562,-68.2637 9558.5001,-78.2637 9565.5001,-78.2636\"/>\n</g>\n<!-- 72 -->\n<g id=\"node73\" class=\"node\">\n<title>72</title>\n<path fill=\"#c0f7c3\" stroke=\"#000000\" d=\"M9995,-68C9995,-68 9737,-68 9737,-68 9731,-68 9725,-62 9725,-56 9725,-56 9725,-12 9725,-12 9725,-6 9731,0 9737,0 9737,0 9995,0 9995,0 10001,0 10007,-6 10007,-12 10007,-12 10007,-56 10007,-56 10007,-62 10001,-68 9995,-68\"/>\n<text text-anchor=\"middle\" x=\"9866\" y=\"-52.8\" font-family=\"Helvetica,sans-Serif\" font-size=\"14.00\" fill=\"#000000\">gini = 0.601</text>\n<text text-anchor=\"middle\" x=\"9866\" y=\"-37.8\" font-family=\"Helvetica,sans-Serif\" font-size=\"14.00\" fill=\"#000000\">samples = 460</text>\n<text text-anchor=\"middle\" x=\"9866\" y=\"-22.8\" font-family=\"Helvetica,sans-Serif\" font-size=\"14.00\" fill=\"#000000\">value = [0, 0, 0, 242, 77, 0, 0, 141, 0, 0, 0]</text>\n<text text-anchor=\"middle\" x=\"9866\" y=\"-7.8\" font-family=\"Helvetica,sans-Serif\" font-size=\"14.00\" fill=\"#000000\">class = United States</text>\n</g>\n<!-- 71&#45;&gt;72 -->\n<g id=\"edge72\" class=\"edge\">\n<title>71&#45;&gt;72</title>\n<path fill=\"none\" stroke=\"#000000\" d=\"M9962.6561,-103.9815C9949.2006,-94.2394 9934.8869,-83.8759 9921.5133,-74.193\"/>\n<polygon fill=\"#000000\" stroke=\"#000000\" points=\"9923.4763,-71.2933 9913.3238,-68.2637 9919.3711,-76.9632 9923.4763,-71.2933\"/>\n</g>\n<!-- 73 -->\n<g id=\"node74\" class=\"node\">\n<title>73</title>\n<path fill=\"#f9f8fe\" stroke=\"#000000\" d=\"M10303,-68C10303,-68 10037,-68 10037,-68 10031,-68 10025,-62 10025,-56 10025,-56 10025,-12 10025,-12 10025,-6 10031,0 10037,0 10037,0 10303,0 10303,0 10309,0 10315,-6 10315,-12 10315,-12 10315,-56 10315,-56 10315,-62 10309,-68 10303,-68\"/>\n<text text-anchor=\"middle\" x=\"10170\" y=\"-52.8\" font-family=\"Helvetica,sans-Serif\" font-size=\"14.00\" fill=\"#000000\">gini = 0.654</text>\n<text text-anchor=\"middle\" x=\"10170\" y=\"-37.8\" font-family=\"Helvetica,sans-Serif\" font-size=\"14.00\" fill=\"#000000\">samples = 518</text>\n<text text-anchor=\"middle\" x=\"10170\" y=\"-22.8\" font-family=\"Helvetica,sans-Serif\" font-size=\"14.00\" fill=\"#000000\">value = [0, 0, 0, 190, 126, 0, 0, 202, 0, 0, 0]</text>\n<text text-anchor=\"middle\" x=\"10170\" y=\"-7.8\" font-family=\"Helvetica,sans-Serif\" font-size=\"14.00\" fill=\"#000000\">class = Canada</text>\n</g>\n<!-- 71&#45;&gt;73 -->\n<g id=\"edge73\" class=\"edge\">\n<title>71&#45;&gt;73</title>\n<path fill=\"none\" stroke=\"#000000\" d=\"M10075.8545,-103.9815C10088.8368,-94.3313 10102.6394,-84.0714 10115.5597,-74.4673\"/>\n<polygon fill=\"#000000\" stroke=\"#000000\" points=\"10117.9678,-77.0384 10123.9054,-68.2637 10113.7917,-71.4204 10117.9678,-77.0384\"/>\n</g>\n<!-- 75 -->\n<g id=\"node76\" class=\"node\">\n<title>75</title>\n<path fill=\"#72ed78\" stroke=\"#000000\" d=\"M10733,-187C10733,-187 10483,-187 10483,-187 10477,-187 10471,-181 10471,-175 10471,-175 10471,-116 10471,-116 10471,-110 10477,-104 10483,-104 10483,-104 10733,-104 10733,-104 10739,-104 10745,-110 10745,-116 10745,-116 10745,-175 10745,-175 10745,-181 10739,-187 10733,-187\"/>\n<text text-anchor=\"middle\" x=\"10608\" y=\"-171.8\" font-family=\"Helvetica,sans-Serif\" font-size=\"14.00\" fill=\"#000000\">EXT7 &lt;= 4.5</text>\n<text text-anchor=\"middle\" x=\"10608\" y=\"-156.8\" font-family=\"Helvetica,sans-Serif\" font-size=\"14.00\" fill=\"#000000\">gini = 0.407</text>\n<text text-anchor=\"middle\" x=\"10608\" y=\"-141.8\" font-family=\"Helvetica,sans-Serif\" font-size=\"14.00\" fill=\"#000000\">samples = 223</text>\n<text text-anchor=\"middle\" x=\"10608\" y=\"-126.8\" font-family=\"Helvetica,sans-Serif\" font-size=\"14.00\" fill=\"#000000\">value = [0, 0, 0, 167, 30, 0, 0, 26, 0, 0, 0]</text>\n<text text-anchor=\"middle\" x=\"10608\" y=\"-111.8\" font-family=\"Helvetica,sans-Serif\" font-size=\"14.00\" fill=\"#000000\">class = United States</text>\n</g>\n<!-- 74&#45;&gt;75 -->\n<g id=\"edge75\" class=\"edge\">\n<title>74&#45;&gt;75</title>\n<path fill=\"none\" stroke=\"#000000\" d=\"M10608,-222.8796C10608,-214.6838 10608,-205.9891 10608,-197.5013\"/>\n<polygon fill=\"#000000\" stroke=\"#000000\" points=\"10611.5001,-197.298 10608,-187.2981 10604.5001,-197.2981 10611.5001,-197.298\"/>\n</g>\n<!-- 78 -->\n<g id=\"node79\" class=\"node\">\n<title>78</title>\n<path fill=\"#c0f7c3\" stroke=\"#000000\" d=\"M11179,-187C11179,-187 10913,-187 10913,-187 10907,-187 10901,-181 10901,-175 10901,-175 10901,-116 10901,-116 10901,-110 10907,-104 10913,-104 10913,-104 11179,-104 11179,-104 11185,-104 11191,-110 11191,-116 11191,-116 11191,-175 11191,-175 11191,-181 11185,-187 11179,-187\"/>\n<text text-anchor=\"middle\" x=\"11046\" y=\"-171.8\" font-family=\"Helvetica,sans-Serif\" font-size=\"14.00\" fill=\"#000000\">EXT10 &lt;= 2.5</text>\n<text text-anchor=\"middle\" x=\"11046\" y=\"-156.8\" font-family=\"Helvetica,sans-Serif\" font-size=\"14.00\" fill=\"#000000\">gini = 0.607</text>\n<text text-anchor=\"middle\" x=\"11046\" y=\"-141.8\" font-family=\"Helvetica,sans-Serif\" font-size=\"14.00\" fill=\"#000000\">samples = 1551</text>\n<text text-anchor=\"middle\" x=\"11046\" y=\"-126.8\" font-family=\"Helvetica,sans-Serif\" font-size=\"14.00\" fill=\"#000000\">value = [0, 0, 0, 808, 279, 0, 0, 464, 0, 0, 0]</text>\n<text text-anchor=\"middle\" x=\"11046\" y=\"-111.8\" font-family=\"Helvetica,sans-Serif\" font-size=\"14.00\" fill=\"#000000\">class = United States</text>\n</g>\n<!-- 74&#45;&gt;78 -->\n<g id=\"edge78\" class=\"edge\">\n<title>74&#45;&gt;78</title>\n<path fill=\"none\" stroke=\"#000000\" d=\"M10753.2393,-225.04C10797.4346,-213.0326 10846.1676,-199.7924 10890.9821,-187.6167\"/>\n<polygon fill=\"#000000\" stroke=\"#000000\" points=\"10892.0478,-190.9541 10900.7803,-184.9547 10890.2125,-184.199 10892.0478,-190.9541\"/>\n</g>\n<!-- 76 -->\n<g id=\"node77\" class=\"node\">\n<title>76</title>\n<path fill=\"#65eb6b\" stroke=\"#000000\" d=\"M10595,-68C10595,-68 10345,-68 10345,-68 10339,-68 10333,-62 10333,-56 10333,-56 10333,-12 10333,-12 10333,-6 10339,0 10345,0 10345,0 10595,0 10595,0 10601,0 10607,-6 10607,-12 10607,-12 10607,-56 10607,-56 10607,-62 10601,-68 10595,-68\"/>\n<text text-anchor=\"middle\" x=\"10470\" y=\"-52.8\" font-family=\"Helvetica,sans-Serif\" font-size=\"14.00\" fill=\"#000000\">gini = 0.338</text>\n<text text-anchor=\"middle\" x=\"10470\" y=\"-37.8\" font-family=\"Helvetica,sans-Serif\" font-size=\"14.00\" fill=\"#000000\">samples = 136</text>\n<text text-anchor=\"middle\" x=\"10470\" y=\"-22.8\" font-family=\"Helvetica,sans-Serif\" font-size=\"14.00\" fill=\"#000000\">value = [0, 0, 0, 109, 13, 0, 0, 14, 0, 0, 0]</text>\n<text text-anchor=\"middle\" x=\"10470\" y=\"-7.8\" font-family=\"Helvetica,sans-Serif\" font-size=\"14.00\" fill=\"#000000\">class = United States</text>\n</g>\n<!-- 75&#45;&gt;76 -->\n<g id=\"edge76\" class=\"edge\">\n<title>75&#45;&gt;76</title>\n<path fill=\"none\" stroke=\"#000000\" d=\"M10556.6139,-103.9815C10544.7839,-94.4232 10532.2136,-84.2668 10520.4249,-74.7419\"/>\n<polygon fill=\"#000000\" stroke=\"#000000\" points=\"10522.3851,-71.826 10512.4071,-68.2637 10517.9858,-77.2708 10522.3851,-71.826\"/>\n</g>\n<!-- 77 -->\n<g id=\"node78\" class=\"node\">\n<title>77</title>\n<path fill=\"#8bf090\" stroke=\"#000000\" d=\"M10879,-68C10879,-68 10637,-68 10637,-68 10631,-68 10625,-62 10625,-56 10625,-56 10625,-12 10625,-12 10625,-6 10631,0 10637,0 10637,0 10879,0 10879,0 10885,0 10891,-6 10891,-12 10891,-12 10891,-56 10891,-56 10891,-62 10885,-68 10879,-68\"/>\n<text text-anchor=\"middle\" x=\"10758\" y=\"-52.8\" font-family=\"Helvetica,sans-Serif\" font-size=\"14.00\" fill=\"#000000\">gini = 0.498</text>\n<text text-anchor=\"middle\" x=\"10758\" y=\"-37.8\" font-family=\"Helvetica,sans-Serif\" font-size=\"14.00\" fill=\"#000000\">samples = 87</text>\n<text text-anchor=\"middle\" x=\"10758\" y=\"-22.8\" font-family=\"Helvetica,sans-Serif\" font-size=\"14.00\" fill=\"#000000\">value = [0, 0, 0, 58, 17, 0, 0, 12, 0, 0, 0]</text>\n<text text-anchor=\"middle\" x=\"10758\" y=\"-7.8\" font-family=\"Helvetica,sans-Serif\" font-size=\"14.00\" fill=\"#000000\">class = United States</text>\n</g>\n<!-- 75&#45;&gt;77 -->\n<g id=\"edge77\" class=\"edge\">\n<title>75&#45;&gt;77</title>\n<path fill=\"none\" stroke=\"#000000\" d=\"M10663.8545,-103.9815C10676.8368,-94.3313 10690.6394,-84.0714 10703.5597,-74.4673\"/>\n<polygon fill=\"#000000\" stroke=\"#000000\" points=\"10705.9678,-77.0384 10711.9054,-68.2637 10701.7917,-71.4204 10705.9678,-77.0384\"/>\n</g>\n<!-- 79 -->\n<g id=\"node80\" class=\"node\">\n<title>79</title>\n<path fill=\"#99f29d\" stroke=\"#000000\" d=\"M11171,-68C11171,-68 10921,-68 10921,-68 10915,-68 10909,-62 10909,-56 10909,-56 10909,-12 10909,-12 10909,-6 10915,0 10921,0 10921,0 11171,0 11171,0 11177,0 11183,-6 11183,-12 11183,-12 11183,-56 11183,-56 11183,-62 11177,-68 11171,-68\"/>\n<text text-anchor=\"middle\" x=\"11046\" y=\"-52.8\" font-family=\"Helvetica,sans-Serif\" font-size=\"14.00\" fill=\"#000000\">gini = 0.55</text>\n<text text-anchor=\"middle\" x=\"11046\" y=\"-37.8\" font-family=\"Helvetica,sans-Serif\" font-size=\"14.00\" fill=\"#000000\">samples = 382</text>\n<text text-anchor=\"middle\" x=\"11046\" y=\"-22.8\" font-family=\"Helvetica,sans-Serif\" font-size=\"14.00\" fill=\"#000000\">value = [0, 0, 0, 234, 77, 0, 0, 71, 0, 0, 0]</text>\n<text text-anchor=\"middle\" x=\"11046\" y=\"-7.8\" font-family=\"Helvetica,sans-Serif\" font-size=\"14.00\" fill=\"#000000\">class = United States</text>\n</g>\n<!-- 78&#45;&gt;79 -->\n<g id=\"edge79\" class=\"edge\">\n<title>78&#45;&gt;79</title>\n<path fill=\"none\" stroke=\"#000000\" d=\"M11046,-103.9815C11046,-95.618 11046,-86.7965 11046,-78.3409\"/>\n<polygon fill=\"#000000\" stroke=\"#000000\" points=\"11049.5001,-78.2636 11046,-68.2637 11042.5001,-78.2637 11049.5001,-78.2636\"/>\n</g>\n<!-- 80 -->\n<g id=\"node81\" class=\"node\">\n<title>80</title>\n<path fill=\"#d1f9d3\" stroke=\"#000000\" d=\"M11479,-68C11479,-68 11213,-68 11213,-68 11207,-68 11201,-62 11201,-56 11201,-56 11201,-12 11201,-12 11201,-6 11207,0 11213,0 11213,0 11479,0 11479,0 11485,0 11491,-6 11491,-12 11491,-12 11491,-56 11491,-56 11491,-62 11485,-68 11479,-68\"/>\n<text text-anchor=\"middle\" x=\"11346\" y=\"-52.8\" font-family=\"Helvetica,sans-Serif\" font-size=\"14.00\" fill=\"#000000\">gini = 0.616</text>\n<text text-anchor=\"middle\" x=\"11346\" y=\"-37.8\" font-family=\"Helvetica,sans-Serif\" font-size=\"14.00\" fill=\"#000000\">samples = 1169</text>\n<text text-anchor=\"middle\" x=\"11346\" y=\"-22.8\" font-family=\"Helvetica,sans-Serif\" font-size=\"14.00\" fill=\"#000000\">value = [0, 0, 0, 574, 202, 0, 0, 393, 0, 0, 0]</text>\n<text text-anchor=\"middle\" x=\"11346\" y=\"-7.8\" font-family=\"Helvetica,sans-Serif\" font-size=\"14.00\" fill=\"#000000\">class = United States</text>\n</g>\n<!-- 78&#45;&gt;80 -->\n<g id=\"edge80\" class=\"edge\">\n<title>78&#45;&gt;80</title>\n<path fill=\"none\" stroke=\"#000000\" d=\"M11157.7089,-103.9815C11186.2961,-93.3566 11216.8718,-81.9926 11244.8919,-71.5785\"/>\n<polygon fill=\"#000000\" stroke=\"#000000\" points=\"11246.1356,-74.8503 11254.2898,-68.0856 11243.6969,-68.2888 11246.1356,-74.8503\"/>\n</g>\n<!-- 83 -->\n<g id=\"node84\" class=\"node\">\n<title>83</title>\n<path fill=\"#f193d3\" stroke=\"#000000\" d=\"M12769,-425C12769,-425 12461,-425 12461,-425 12455,-425 12449,-419 12449,-413 12449,-413 12449,-354 12449,-354 12449,-348 12455,-342 12461,-342 12461,-342 12769,-342 12769,-342 12775,-342 12781,-348 12781,-354 12781,-354 12781,-413 12781,-413 12781,-419 12775,-425 12769,-425\"/>\n<text text-anchor=\"middle\" x=\"12615\" y=\"-409.8\" font-family=\"Helvetica,sans-Serif\" font-size=\"14.00\" fill=\"#000000\">EXT10 &lt;= 3.5</text>\n<text text-anchor=\"middle\" x=\"12615\" y=\"-394.8\" font-family=\"Helvetica,sans-Serif\" font-size=\"14.00\" fill=\"#000000\">gini = 0.6</text>\n<text text-anchor=\"middle\" x=\"12615\" y=\"-379.8\" font-family=\"Helvetica,sans-Serif\" font-size=\"14.00\" fill=\"#000000\">samples = 5069</text>\n<text text-anchor=\"middle\" x=\"12615\" y=\"-364.8\" font-family=\"Helvetica,sans-Serif\" font-size=\"14.00\" fill=\"#000000\">value = [0, 0, 599, 0, 0, 431, 508, 0, 490, 3041, 0]</text>\n<text text-anchor=\"middle\" x=\"12615\" y=\"-349.8\" font-family=\"Helvetica,sans-Serif\" font-size=\"14.00\" fill=\"#000000\">class = Germany</text>\n</g>\n<!-- 82&#45;&gt;83 -->\n<g id=\"edge83\" class=\"edge\">\n<title>82&#45;&gt;83</title>\n<path fill=\"none\" stroke=\"#000000\" d=\"M12615,-460.8796C12615,-452.6838 12615,-443.9891 12615,-435.5013\"/>\n<polygon fill=\"#000000\" stroke=\"#000000\" points=\"12618.5001,-435.298 12615,-425.2981 12611.5001,-435.2981 12618.5001,-435.298\"/>\n</g>\n<!-- 98 -->\n<g id=\"node99\" class=\"node\">\n<title>98</title>\n<path fill=\"#f3a2d9\" stroke=\"#000000\" d=\"M14741,-425C14741,-425 14433,-425 14433,-425 14427,-425 14421,-419 14421,-413 14421,-413 14421,-354 14421,-354 14421,-348 14427,-342 14433,-342 14433,-342 14741,-342 14741,-342 14747,-342 14753,-348 14753,-354 14753,-354 14753,-413 14753,-413 14753,-419 14747,-425 14741,-425\"/>\n<text text-anchor=\"middle\" x=\"14587\" y=\"-409.8\" font-family=\"Helvetica,sans-Serif\" font-size=\"14.00\" fill=\"#000000\">EXT8 &lt;= 3.5</text>\n<text text-anchor=\"middle\" x=\"14587\" y=\"-394.8\" font-family=\"Helvetica,sans-Serif\" font-size=\"14.00\" fill=\"#000000\">gini = 0.655</text>\n<text text-anchor=\"middle\" x=\"14587\" y=\"-379.8\" font-family=\"Helvetica,sans-Serif\" font-size=\"14.00\" fill=\"#000000\">samples = 4322</text>\n<text text-anchor=\"middle\" x=\"14587\" y=\"-364.8\" font-family=\"Helvetica,sans-Serif\" font-size=\"14.00\" fill=\"#000000\">value = [0, 0, 415, 0, 0, 560, 564, 0, 450, 2333, 0]</text>\n<text text-anchor=\"middle\" x=\"14587\" y=\"-349.8\" font-family=\"Helvetica,sans-Serif\" font-size=\"14.00\" fill=\"#000000\">class = Germany</text>\n</g>\n<!-- 82&#45;&gt;98 -->\n<g id=\"edge98\" class=\"edge\">\n<title>82&#45;&gt;98</title>\n<path fill=\"none\" stroke=\"#000000\" d=\"M12789.1368,-491.9917C13162.3483,-469.4704 14035.7709,-416.7638 14410.8095,-394.1322\"/>\n<polygon fill=\"#000000\" stroke=\"#000000\" points=\"14411.1696,-397.6169 14420.9406,-393.5208 14410.7479,-390.6296 14411.1696,-397.6169\"/>\n</g>\n<!-- 84 -->\n<g id=\"node85\" class=\"node\">\n<title>84</title>\n<path fill=\"#f29dd7\" stroke=\"#000000\" d=\"M12556.5,-306C12556.5,-306 12257.5,-306 12257.5,-306 12251.5,-306 12245.5,-300 12245.5,-294 12245.5,-294 12245.5,-235 12245.5,-235 12245.5,-229 12251.5,-223 12257.5,-223 12257.5,-223 12556.5,-223 12556.5,-223 12562.5,-223 12568.5,-229 12568.5,-235 12568.5,-235 12568.5,-294 12568.5,-294 12568.5,-300 12562.5,-306 12556.5,-306\"/>\n<text text-anchor=\"middle\" x=\"12407\" y=\"-290.8\" font-family=\"Helvetica,sans-Serif\" font-size=\"14.00\" fill=\"#000000\">EXT7 &lt;= 4.5</text>\n<text text-anchor=\"middle\" x=\"12407\" y=\"-275.8\" font-family=\"Helvetica,sans-Serif\" font-size=\"14.00\" fill=\"#000000\">gini = 0.642</text>\n<text text-anchor=\"middle\" x=\"12407\" y=\"-260.8\" font-family=\"Helvetica,sans-Serif\" font-size=\"14.00\" fill=\"#000000\">samples = 1271</text>\n<text text-anchor=\"middle\" x=\"12407\" y=\"-245.8\" font-family=\"Helvetica,sans-Serif\" font-size=\"14.00\" fill=\"#000000\">value = [0, 0, 144, 0, 0, 142, 129, 0, 150, 706, 0]</text>\n<text text-anchor=\"middle\" x=\"12407\" y=\"-230.8\" font-family=\"Helvetica,sans-Serif\" font-size=\"14.00\" fill=\"#000000\">class = Germany</text>\n</g>\n<!-- 83&#45;&gt;84 -->\n<g id=\"edge84\" class=\"edge\">\n<title>83&#45;&gt;84</title>\n<path fill=\"none\" stroke=\"#000000\" d=\"M12542.2517,-341.8796C12524.993,-332.0056 12506.4685,-321.4075 12488.8355,-311.3193\"/>\n<polygon fill=\"#000000\" stroke=\"#000000\" points=\"12490.1252,-308.0249 12479.7072,-306.0969 12486.649,-314.1008 12490.1252,-308.0249\"/>\n</g>\n<!-- 91 -->\n<g id=\"node92\" class=\"node\">\n<title>91</title>\n<path fill=\"#f090d1\" stroke=\"#000000\" d=\"M13127,-306C13127,-306 12819,-306 12819,-306 12813,-306 12807,-300 12807,-294 12807,-294 12807,-235 12807,-235 12807,-229 12813,-223 12819,-223 12819,-223 13127,-223 13127,-223 13133,-223 13139,-229 13139,-235 13139,-235 13139,-294 13139,-294 13139,-300 13133,-306 13127,-306\"/>\n<text text-anchor=\"middle\" x=\"12973\" y=\"-290.8\" font-family=\"Helvetica,sans-Serif\" font-size=\"14.00\" fill=\"#000000\">EXT1 &lt;= 1.5</text>\n<text text-anchor=\"middle\" x=\"12973\" y=\"-275.8\" font-family=\"Helvetica,sans-Serif\" font-size=\"14.00\" fill=\"#000000\">gini = 0.584</text>\n<text text-anchor=\"middle\" x=\"12973\" y=\"-260.8\" font-family=\"Helvetica,sans-Serif\" font-size=\"14.00\" fill=\"#000000\">samples = 3798</text>\n<text text-anchor=\"middle\" x=\"12973\" y=\"-245.8\" font-family=\"Helvetica,sans-Serif\" font-size=\"14.00\" fill=\"#000000\">value = [0, 0, 455, 0, 0, 289, 379, 0, 340, 2335, 0]</text>\n<text text-anchor=\"middle\" x=\"12973\" y=\"-230.8\" font-family=\"Helvetica,sans-Serif\" font-size=\"14.00\" fill=\"#000000\">class = Germany</text>\n</g>\n<!-- 83&#45;&gt;91 -->\n<g id=\"edge91\" class=\"edge\">\n<title>83&#45;&gt;91</title>\n<path fill=\"none\" stroke=\"#000000\" d=\"M12739.9597,-341.9631C12771.8128,-331.3751 12806.1853,-319.9496 12838.4931,-309.2104\"/>\n<polygon fill=\"#000000\" stroke=\"#000000\" points=\"12839.6104,-312.5274 12847.9959,-306.0516 12837.4024,-305.8847 12839.6104,-312.5274\"/>\n</g>\n<!-- 85 -->\n<g id=\"node86\" class=\"node\">\n<title>85</title>\n<path fill=\"#f3a0d8\" stroke=\"#000000\" d=\"M12124.5,-187C12124.5,-187 11825.5,-187 11825.5,-187 11819.5,-187 11813.5,-181 11813.5,-175 11813.5,-175 11813.5,-116 11813.5,-116 11813.5,-110 11819.5,-104 11825.5,-104 11825.5,-104 12124.5,-104 12124.5,-104 12130.5,-104 12136.5,-110 12136.5,-116 12136.5,-116 12136.5,-175 12136.5,-175 12136.5,-181 12130.5,-187 12124.5,-187\"/>\n<text text-anchor=\"middle\" x=\"11975\" y=\"-171.8\" font-family=\"Helvetica,sans-Serif\" font-size=\"14.00\" fill=\"#000000\">EXT2 &lt;= 4.5</text>\n<text text-anchor=\"middle\" x=\"11975\" y=\"-156.8\" font-family=\"Helvetica,sans-Serif\" font-size=\"14.00\" fill=\"#000000\">gini = 0.653</text>\n<text text-anchor=\"middle\" x=\"11975\" y=\"-141.8\" font-family=\"Helvetica,sans-Serif\" font-size=\"14.00\" fill=\"#000000\">samples = 1128</text>\n<text text-anchor=\"middle\" x=\"11975\" y=\"-126.8\" font-family=\"Helvetica,sans-Serif\" font-size=\"14.00\" fill=\"#000000\">value = [0, 0, 135, 0, 0, 131, 114, 0, 136, 612, 0]</text>\n<text text-anchor=\"middle\" x=\"11975\" y=\"-111.8\" font-family=\"Helvetica,sans-Serif\" font-size=\"14.00\" fill=\"#000000\">class = Germany</text>\n</g>\n<!-- 84&#45;&gt;85 -->\n<g id=\"edge85\" class=\"edge\">\n<title>84&#45;&gt;85</title>\n<path fill=\"none\" stroke=\"#000000\" d=\"M12256.2107,-222.9631C12217.1959,-212.216 12175.0491,-200.6061 12135.5548,-189.7269\"/>\n<polygon fill=\"#000000\" stroke=\"#000000\" points=\"12136.4134,-186.3331 12125.8429,-187.0516 12134.5543,-193.0818 12136.4134,-186.3331\"/>\n</g>\n<!-- 88 -->\n<g id=\"node89\" class=\"node\">\n<title>88</title>\n<path fill=\"#ef85cd\" stroke=\"#000000\" d=\"M12532,-187C12532,-187 12282,-187 12282,-187 12276,-187 12270,-181 12270,-175 12270,-175 12270,-116 12270,-116 12270,-110 12276,-104 12282,-104 12282,-104 12532,-104 12532,-104 12538,-104 12544,-110 12544,-116 12544,-116 12544,-175 12544,-175 12544,-181 12538,-187 12532,-187\"/>\n<text text-anchor=\"middle\" x=\"12407\" y=\"-171.8\" font-family=\"Helvetica,sans-Serif\" font-size=\"14.00\" fill=\"#000000\">EXT9 &lt;= 2.5</text>\n<text text-anchor=\"middle\" x=\"12407\" y=\"-156.8\" font-family=\"Helvetica,sans-Serif\" font-size=\"14.00\" fill=\"#000000\">gini = 0.537</text>\n<text text-anchor=\"middle\" x=\"12407\" y=\"-141.8\" font-family=\"Helvetica,sans-Serif\" font-size=\"14.00\" fill=\"#000000\">samples = 143</text>\n<text text-anchor=\"middle\" x=\"12407\" y=\"-126.8\" font-family=\"Helvetica,sans-Serif\" font-size=\"14.00\" fill=\"#000000\">value = [0, 0, 9, 0, 0, 11, 15, 0, 14, 94, 0]</text>\n<text text-anchor=\"middle\" x=\"12407\" y=\"-111.8\" font-family=\"Helvetica,sans-Serif\" font-size=\"14.00\" fill=\"#000000\">class = Germany</text>\n</g>\n<!-- 84&#45;&gt;88 -->\n<g id=\"edge88\" class=\"edge\">\n<title>84&#45;&gt;88</title>\n<path fill=\"none\" stroke=\"#000000\" d=\"M12407,-222.8796C12407,-214.6838 12407,-205.9891 12407,-197.5013\"/>\n<polygon fill=\"#000000\" stroke=\"#000000\" points=\"12410.5001,-197.298 12407,-187.2981 12403.5001,-197.2981 12410.5001,-197.298\"/>\n</g>\n<!-- 86 -->\n<g id=\"node87\" class=\"node\">\n<title>86</title>\n<path fill=\"#f29ed7\" stroke=\"#000000\" d=\"M11820.5,-68C11820.5,-68 11521.5,-68 11521.5,-68 11515.5,-68 11509.5,-62 11509.5,-56 11509.5,-56 11509.5,-12 11509.5,-12 11509.5,-6 11515.5,0 11521.5,0 11521.5,0 11820.5,0 11820.5,0 11826.5,0 11832.5,-6 11832.5,-12 11832.5,-12 11832.5,-56 11832.5,-56 11832.5,-62 11826.5,-68 11820.5,-68\"/>\n<text text-anchor=\"middle\" x=\"11671\" y=\"-52.8\" font-family=\"Helvetica,sans-Serif\" font-size=\"14.00\" fill=\"#000000\">gini = 0.646</text>\n<text text-anchor=\"middle\" x=\"11671\" y=\"-37.8\" font-family=\"Helvetica,sans-Serif\" font-size=\"14.00\" fill=\"#000000\">samples = 1087</text>\n<text text-anchor=\"middle\" x=\"11671\" y=\"-22.8\" font-family=\"Helvetica,sans-Serif\" font-size=\"14.00\" fill=\"#000000\">value = [0, 0, 126, 0, 0, 123, 108, 0, 132, 598, 0]</text>\n<text text-anchor=\"middle\" x=\"11671\" y=\"-7.8\" font-family=\"Helvetica,sans-Serif\" font-size=\"14.00\" fill=\"#000000\">class = Germany</text>\n</g>\n<!-- 85&#45;&gt;86 -->\n<g id=\"edge86\" class=\"edge\">\n<title>85&#45;&gt;86</title>\n<path fill=\"none\" stroke=\"#000000\" d=\"M11861.8016,-103.9815C11832.8333,-93.3566 11801.8499,-81.9926 11773.4562,-71.5785\"/>\n<polygon fill=\"#000000\" stroke=\"#000000\" points=\"11774.5267,-68.2432 11763.933,-68.0856 11772.1162,-74.8151 11774.5267,-68.2432\"/>\n</g>\n<!-- 87 -->\n<g id=\"node88\" class=\"node\">\n<title>87</title>\n<path fill=\"#fbe0f2\" stroke=\"#000000\" d=\"M12087.5,-68C12087.5,-68 11862.5,-68 11862.5,-68 11856.5,-68 11850.5,-62 11850.5,-56 11850.5,-56 11850.5,-12 11850.5,-12 11850.5,-6 11856.5,0 11862.5,0 11862.5,0 12087.5,0 12087.5,0 12093.5,0 12099.5,-6 12099.5,-12 12099.5,-12 12099.5,-56 12099.5,-56 12099.5,-62 12093.5,-68 12087.5,-68\"/>\n<text text-anchor=\"middle\" x=\"11975\" y=\"-52.8\" font-family=\"Helvetica,sans-Serif\" font-size=\"14.00\" fill=\"#000000\">gini = 0.766</text>\n<text text-anchor=\"middle\" x=\"11975\" y=\"-37.8\" font-family=\"Helvetica,sans-Serif\" font-size=\"14.00\" fill=\"#000000\">samples = 41</text>\n<text text-anchor=\"middle\" x=\"11975\" y=\"-22.8\" font-family=\"Helvetica,sans-Serif\" font-size=\"14.00\" fill=\"#000000\">value = [0, 0, 9, 0, 0, 8, 6, 0, 4, 14, 0]</text>\n<text text-anchor=\"middle\" x=\"11975\" y=\"-7.8\" font-family=\"Helvetica,sans-Serif\" font-size=\"14.00\" fill=\"#000000\">class = Germany</text>\n</g>\n<!-- 85&#45;&gt;87 -->\n<g id=\"edge87\" class=\"edge\">\n<title>85&#45;&gt;87</title>\n<path fill=\"none\" stroke=\"#000000\" d=\"M11975,-103.9815C11975,-95.618 11975,-86.7965 11975,-78.3409\"/>\n<polygon fill=\"#000000\" stroke=\"#000000\" points=\"11978.5001,-78.2636 11975,-68.2637 11971.5001,-78.2637 11978.5001,-78.2636\"/>\n</g>\n<!-- 89 -->\n<g id=\"node90\" class=\"node\">\n<title>89</title>\n<path fill=\"#ea5cbc\" stroke=\"#000000\" d=\"M12354.5,-68C12354.5,-68 12129.5,-68 12129.5,-68 12123.5,-68 12117.5,-62 12117.5,-56 12117.5,-56 12117.5,-12 12117.5,-12 12117.5,-6 12123.5,0 12129.5,0 12129.5,0 12354.5,0 12354.5,0 12360.5,0 12366.5,-6 12366.5,-12 12366.5,-12 12366.5,-56 12366.5,-56 12366.5,-62 12360.5,-68 12354.5,-68\"/>\n<text text-anchor=\"middle\" x=\"12242\" y=\"-52.8\" font-family=\"Helvetica,sans-Serif\" font-size=\"14.00\" fill=\"#000000\">gini = 0.298</text>\n<text text-anchor=\"middle\" x=\"12242\" y=\"-37.8\" font-family=\"Helvetica,sans-Serif\" font-size=\"14.00\" fill=\"#000000\">samples = 30</text>\n<text text-anchor=\"middle\" x=\"12242\" y=\"-22.8\" font-family=\"Helvetica,sans-Serif\" font-size=\"14.00\" fill=\"#000000\">value = [0, 0, 1, 0, 0, 1, 2, 0, 1, 25, 0]</text>\n<text text-anchor=\"middle\" x=\"12242\" y=\"-7.8\" font-family=\"Helvetica,sans-Serif\" font-size=\"14.00\" fill=\"#000000\">class = Germany</text>\n</g>\n<!-- 88&#45;&gt;89 -->\n<g id=\"edge89\" class=\"edge\">\n<title>88&#45;&gt;89</title>\n<path fill=\"none\" stroke=\"#000000\" d=\"M12345.5601,-103.9815C12330.9309,-94.0957 12315.3549,-83.5701 12300.8452,-73.7651\"/>\n<polygon fill=\"#000000\" stroke=\"#000000\" points=\"12302.6859,-70.7848 12292.4406,-68.0856 12298.7665,-76.5847 12302.6859,-70.7848\"/>\n</g>\n<!-- 90 -->\n<g id=\"node91\" class=\"node\">\n<title>90</title>\n<path fill=\"#f090d2\" stroke=\"#000000\" d=\"M12647,-68C12647,-68 12397,-68 12397,-68 12391,-68 12385,-62 12385,-56 12385,-56 12385,-12 12385,-12 12385,-6 12391,0 12397,0 12397,0 12647,0 12647,0 12653,0 12659,-6 12659,-12 12659,-12 12659,-56 12659,-56 12659,-62 12653,-68 12647,-68\"/>\n<text text-anchor=\"middle\" x=\"12522\" y=\"-52.8\" font-family=\"Helvetica,sans-Serif\" font-size=\"14.00\" fill=\"#000000\">gini = 0.588</text>\n<text text-anchor=\"middle\" x=\"12522\" y=\"-37.8\" font-family=\"Helvetica,sans-Serif\" font-size=\"14.00\" fill=\"#000000\">samples = 113</text>\n<text text-anchor=\"middle\" x=\"12522\" y=\"-22.8\" font-family=\"Helvetica,sans-Serif\" font-size=\"14.00\" fill=\"#000000\">value = [0, 0, 8, 0, 0, 10, 13, 0, 13, 69, 0]</text>\n<text text-anchor=\"middle\" x=\"12522\" y=\"-7.8\" font-family=\"Helvetica,sans-Serif\" font-size=\"14.00\" fill=\"#000000\">class = Germany</text>\n</g>\n<!-- 88&#45;&gt;90 -->\n<g id=\"edge90\" class=\"edge\">\n<title>88&#45;&gt;90</title>\n<path fill=\"none\" stroke=\"#000000\" d=\"M12449.8218,-103.9815C12459.4905,-94.607 12469.7527,-84.6572 12479.4118,-75.2921\"/>\n<polygon fill=\"#000000\" stroke=\"#000000\" points=\"12481.9176,-77.7375 12486.6608,-68.2637 12477.0449,-72.7118 12481.9176,-77.7375\"/>\n</g>\n<!-- 92 -->\n<g id=\"node93\" class=\"node\">\n<title>92</title>\n<path fill=\"#f299d5\" stroke=\"#000000\" d=\"M13122.5,-187C13122.5,-187 12823.5,-187 12823.5,-187 12817.5,-187 12811.5,-181 12811.5,-175 12811.5,-175 12811.5,-116 12811.5,-116 12811.5,-110 12817.5,-104 12823.5,-104 12823.5,-104 13122.5,-104 13122.5,-104 13128.5,-104 13134.5,-110 13134.5,-116 13134.5,-116 13134.5,-175 13134.5,-175 13134.5,-181 13128.5,-187 13122.5,-187\"/>\n<text text-anchor=\"middle\" x=\"12973\" y=\"-171.8\" font-family=\"Helvetica,sans-Serif\" font-size=\"14.00\" fill=\"#000000\">EXT9 &lt;= 1.5</text>\n<text text-anchor=\"middle\" x=\"12973\" y=\"-156.8\" font-family=\"Helvetica,sans-Serif\" font-size=\"14.00\" fill=\"#000000\">gini = 0.613</text>\n<text text-anchor=\"middle\" x=\"12973\" y=\"-141.8\" font-family=\"Helvetica,sans-Serif\" font-size=\"14.00\" fill=\"#000000\">samples = 1589</text>\n<text text-anchor=\"middle\" x=\"12973\" y=\"-126.8\" font-family=\"Helvetica,sans-Serif\" font-size=\"14.00\" fill=\"#000000\">value = [0, 0, 224, 0, 0, 112, 147, 0, 178, 928, 0]</text>\n<text text-anchor=\"middle\" x=\"12973\" y=\"-111.8\" font-family=\"Helvetica,sans-Serif\" font-size=\"14.00\" fill=\"#000000\">class = Germany</text>\n</g>\n<!-- 91&#45;&gt;92 -->\n<g id=\"edge92\" class=\"edge\">\n<title>91&#45;&gt;92</title>\n<path fill=\"none\" stroke=\"#000000\" d=\"M12973,-222.8796C12973,-214.6838 12973,-205.9891 12973,-197.5013\"/>\n<polygon fill=\"#000000\" stroke=\"#000000\" points=\"12976.5001,-197.298 12973,-187.2981 12969.5001,-197.2981 12976.5001,-197.298\"/>\n</g>\n<!-- 95 -->\n<g id=\"node96\" class=\"node\">\n<title>95</title>\n<path fill=\"#f089cf\" stroke=\"#000000\" d=\"M13623,-187C13623,-187 13315,-187 13315,-187 13309,-187 13303,-181 13303,-175 13303,-175 13303,-116 13303,-116 13303,-110 13309,-104 13315,-104 13315,-104 13623,-104 13623,-104 13629,-104 13635,-110 13635,-116 13635,-116 13635,-175 13635,-175 13635,-181 13629,-187 13623,-187\"/>\n<text text-anchor=\"middle\" x=\"13469\" y=\"-171.8\" font-family=\"Helvetica,sans-Serif\" font-size=\"14.00\" fill=\"#000000\">EXT5 &lt;= 3.5</text>\n<text text-anchor=\"middle\" x=\"13469\" y=\"-156.8\" font-family=\"Helvetica,sans-Serif\" font-size=\"14.00\" fill=\"#000000\">gini = 0.561</text>\n<text text-anchor=\"middle\" x=\"13469\" y=\"-141.8\" font-family=\"Helvetica,sans-Serif\" font-size=\"14.00\" fill=\"#000000\">samples = 2209</text>\n<text text-anchor=\"middle\" x=\"13469\" y=\"-126.8\" font-family=\"Helvetica,sans-Serif\" font-size=\"14.00\" fill=\"#000000\">value = [0, 0, 231, 0, 0, 177, 232, 0, 162, 1407, 0]</text>\n<text text-anchor=\"middle\" x=\"13469\" y=\"-111.8\" font-family=\"Helvetica,sans-Serif\" font-size=\"14.00\" fill=\"#000000\">class = Germany</text>\n</g>\n<!-- 91&#45;&gt;95 -->\n<g id=\"edge95\" class=\"edge\">\n<title>91&#45;&gt;95</title>\n<path fill=\"none\" stroke=\"#000000\" d=\"M13139.1954,-224.6265C13188.5508,-212.7852 13242.774,-199.776 13292.745,-187.787\"/>\n<polygon fill=\"#000000\" stroke=\"#000000\" points=\"13293.7724,-191.1399 13302.6799,-185.4034 13292.1392,-184.3331 13293.7724,-191.1399\"/>\n</g>\n<!-- 93 -->\n<g id=\"node94\" class=\"node\">\n<title>93</title>\n<path fill=\"#f08bd0\" stroke=\"#000000\" d=\"M12955,-68C12955,-68 12689,-68 12689,-68 12683,-68 12677,-62 12677,-56 12677,-56 12677,-12 12677,-12 12677,-6 12683,0 12689,0 12689,0 12955,0 12955,0 12961,0 12967,-6 12967,-12 12967,-12 12967,-56 12967,-56 12967,-62 12961,-68 12955,-68\"/>\n<text text-anchor=\"middle\" x=\"12822\" y=\"-52.8\" font-family=\"Helvetica,sans-Serif\" font-size=\"14.00\" fill=\"#000000\">gini = 0.568</text>\n<text text-anchor=\"middle\" x=\"12822\" y=\"-37.8\" font-family=\"Helvetica,sans-Serif\" font-size=\"14.00\" fill=\"#000000\">samples = 735</text>\n<text text-anchor=\"middle\" x=\"12822\" y=\"-22.8\" font-family=\"Helvetica,sans-Serif\" font-size=\"14.00\" fill=\"#000000\">value = [0, 0, 78, 0, 0, 53, 62, 0, 79, 463, 0]</text>\n<text text-anchor=\"middle\" x=\"12822\" y=\"-7.8\" font-family=\"Helvetica,sans-Serif\" font-size=\"14.00\" fill=\"#000000\">class = Germany</text>\n</g>\n<!-- 92&#45;&gt;93 -->\n<g id=\"edge93\" class=\"edge\">\n<title>92&#45;&gt;93</title>\n<path fill=\"none\" stroke=\"#000000\" d=\"M12916.7732,-103.9815C12903.7043,-94.3313 12889.8097,-84.0714 12876.8032,-74.4673\"/>\n<polygon fill=\"#000000\" stroke=\"#000000\" points=\"12878.5255,-71.3883 12868.4019,-68.2637 12874.3674,-77.0195 12878.5255,-71.3883\"/>\n</g>\n<!-- 94 -->\n<g id=\"node95\" class=\"node\">\n<title>94</title>\n<path fill=\"#f3a6db\" stroke=\"#000000\" d=\"M13272.5,-68C13272.5,-68 12997.5,-68 12997.5,-68 12991.5,-68 12985.5,-62 12985.5,-56 12985.5,-56 12985.5,-12 12985.5,-12 12985.5,-6 12991.5,0 12997.5,0 12997.5,0 13272.5,0 13272.5,0 13278.5,0 13284.5,-6 13284.5,-12 13284.5,-12 13284.5,-56 13284.5,-56 13284.5,-62 13278.5,-68 13272.5,-68\"/>\n<text text-anchor=\"middle\" x=\"13135\" y=\"-52.8\" font-family=\"Helvetica,sans-Serif\" font-size=\"14.00\" fill=\"#000000\">gini = 0.646</text>\n<text text-anchor=\"middle\" x=\"13135\" y=\"-37.8\" font-family=\"Helvetica,sans-Serif\" font-size=\"14.00\" fill=\"#000000\">samples = 854</text>\n<text text-anchor=\"middle\" x=\"13135\" y=\"-22.8\" font-family=\"Helvetica,sans-Serif\" font-size=\"14.00\" fill=\"#000000\">value = [0, 0, 146, 0, 0, 59, 85, 0, 99, 465, 0]</text>\n<text text-anchor=\"middle\" x=\"13135\" y=\"-7.8\" font-family=\"Helvetica,sans-Serif\" font-size=\"14.00\" fill=\"#000000\">class = Germany</text>\n</g>\n<!-- 92&#45;&gt;94 -->\n<g id=\"edge94\" class=\"edge\">\n<title>92&#45;&gt;94</title>\n<path fill=\"none\" stroke=\"#000000\" d=\"M13033.3228,-103.9815C13047.686,-94.0957 13062.9788,-83.5701 13077.2247,-73.7651\"/>\n<polygon fill=\"#000000\" stroke=\"#000000\" points=\"13079.2234,-76.6384 13085.4765,-68.0856 13075.2546,-70.8722 13079.2234,-76.6384\"/>\n</g>\n<!-- 96 -->\n<g id=\"node97\" class=\"node\">\n<title>96</title>\n<path fill=\"#f090d1\" stroke=\"#000000\" d=\"M13623,-68C13623,-68 13315,-68 13315,-68 13309,-68 13303,-62 13303,-56 13303,-56 13303,-12 13303,-12 13303,-6 13309,0 13315,0 13315,0 13623,0 13623,0 13629,0 13635,-6 13635,-12 13635,-12 13635,-56 13635,-56 13635,-62 13629,-68 13623,-68\"/>\n<text text-anchor=\"middle\" x=\"13469\" y=\"-52.8\" font-family=\"Helvetica,sans-Serif\" font-size=\"14.00\" fill=\"#000000\">gini = 0.586</text>\n<text text-anchor=\"middle\" x=\"13469\" y=\"-37.8\" font-family=\"Helvetica,sans-Serif\" font-size=\"14.00\" fill=\"#000000\">samples = 1664</text>\n<text text-anchor=\"middle\" x=\"13469\" y=\"-22.8\" font-family=\"Helvetica,sans-Serif\" font-size=\"14.00\" fill=\"#000000\">value = [0, 0, 191, 0, 0, 146, 181, 0, 126, 1020, 0]</text>\n<text text-anchor=\"middle\" x=\"13469\" y=\"-7.8\" font-family=\"Helvetica,sans-Serif\" font-size=\"14.00\" fill=\"#000000\">class = Germany</text>\n</g>\n<!-- 95&#45;&gt;96 -->\n<g id=\"edge96\" class=\"edge\">\n<title>95&#45;&gt;96</title>\n<path fill=\"none\" stroke=\"#000000\" d=\"M13469,-103.9815C13469,-95.618 13469,-86.7965 13469,-78.3409\"/>\n<polygon fill=\"#000000\" stroke=\"#000000\" points=\"13472.5001,-78.2636 13469,-68.2637 13465.5001,-78.2637 13472.5001,-78.2636\"/>\n</g>\n<!-- 97 -->\n<g id=\"node98\" class=\"node\">\n<title>97</title>\n<path fill=\"#ed78c8\" stroke=\"#000000\" d=\"M13931,-68C13931,-68 13665,-68 13665,-68 13659,-68 13653,-62 13653,-56 13653,-56 13653,-12 13653,-12 13653,-6 13659,0 13665,0 13665,0 13931,0 13931,0 13937,0 13943,-6 13943,-12 13943,-12 13943,-56 13943,-56 13943,-62 13937,-68 13931,-68\"/>\n<text text-anchor=\"middle\" x=\"13798\" y=\"-52.8\" font-family=\"Helvetica,sans-Serif\" font-size=\"14.00\" fill=\"#000000\">gini = 0.474</text>\n<text text-anchor=\"middle\" x=\"13798\" y=\"-37.8\" font-family=\"Helvetica,sans-Serif\" font-size=\"14.00\" fill=\"#000000\">samples = 545</text>\n<text text-anchor=\"middle\" x=\"13798\" y=\"-22.8\" font-family=\"Helvetica,sans-Serif\" font-size=\"14.00\" fill=\"#000000\">value = [0, 0, 40, 0, 0, 31, 51, 0, 36, 387, 0]</text>\n<text text-anchor=\"middle\" x=\"13798\" y=\"-7.8\" font-family=\"Helvetica,sans-Serif\" font-size=\"14.00\" fill=\"#000000\">class = Germany</text>\n</g>\n<!-- 95&#45;&gt;97 -->\n<g id=\"edge97\" class=\"edge\">\n<title>95&#45;&gt;97</title>\n<path fill=\"none\" stroke=\"#000000\" d=\"M13591.5075,-103.9815C13623.1307,-93.2642 13656.9727,-81.795 13687.9191,-71.3071\"/>\n<polygon fill=\"#000000\" stroke=\"#000000\" points=\"13689.077,-74.6102 13697.4245,-68.0856 13686.8302,-67.9806 13689.077,-74.6102\"/>\n</g>\n<!-- 99 -->\n<g id=\"node100\" class=\"node\">\n<title>99</title>\n<path fill=\"#f3a7db\" stroke=\"#000000\" d=\"M14741,-306C14741,-306 14433,-306 14433,-306 14427,-306 14421,-300 14421,-294 14421,-294 14421,-235 14421,-235 14421,-229 14427,-223 14433,-223 14433,-223 14741,-223 14741,-223 14747,-223 14753,-229 14753,-235 14753,-235 14753,-294 14753,-294 14753,-300 14747,-306 14741,-306\"/>\n<text text-anchor=\"middle\" x=\"14587\" y=\"-290.8\" font-family=\"Helvetica,sans-Serif\" font-size=\"14.00\" fill=\"#000000\">EXT4 &lt;= 4.5</text>\n<text text-anchor=\"middle\" x=\"14587\" y=\"-275.8\" font-family=\"Helvetica,sans-Serif\" font-size=\"14.00\" fill=\"#000000\">gini = 0.674</text>\n<text text-anchor=\"middle\" x=\"14587\" y=\"-260.8\" font-family=\"Helvetica,sans-Serif\" font-size=\"14.00\" fill=\"#000000\">samples = 2758</text>\n<text text-anchor=\"middle\" x=\"14587\" y=\"-245.8\" font-family=\"Helvetica,sans-Serif\" font-size=\"14.00\" fill=\"#000000\">value = [0, 0, 302, 0, 0, 363, 341, 0, 324, 1428, 0]</text>\n<text text-anchor=\"middle\" x=\"14587\" y=\"-230.8\" font-family=\"Helvetica,sans-Serif\" font-size=\"14.00\" fill=\"#000000\">class = Germany</text>\n</g>\n<!-- 98&#45;&gt;99 -->\n<g id=\"edge99\" class=\"edge\">\n<title>98&#45;&gt;99</title>\n<path fill=\"none\" stroke=\"#000000\" d=\"M14587,-341.8796C14587,-333.6838 14587,-324.9891 14587,-316.5013\"/>\n<polygon fill=\"#000000\" stroke=\"#000000\" points=\"14590.5001,-316.298 14587,-306.2981 14583.5001,-316.2981 14590.5001,-316.298\"/>\n</g>\n<!-- 106 -->\n<g id=\"node107\" class=\"node\">\n<title>106</title>\n<path fill=\"#f29ad6\" stroke=\"#000000\" d=\"M15573.5,-306C15573.5,-306 15274.5,-306 15274.5,-306 15268.5,-306 15262.5,-300 15262.5,-294 15262.5,-294 15262.5,-235 15262.5,-235 15262.5,-229 15268.5,-223 15274.5,-223 15274.5,-223 15573.5,-223 15573.5,-223 15579.5,-223 15585.5,-229 15585.5,-235 15585.5,-235 15585.5,-294 15585.5,-294 15585.5,-300 15579.5,-306 15573.5,-306\"/>\n<text text-anchor=\"middle\" x=\"15424\" y=\"-290.8\" font-family=\"Helvetica,sans-Serif\" font-size=\"14.00\" fill=\"#000000\">EXT5 &lt;= 3.5</text>\n<text text-anchor=\"middle\" x=\"15424\" y=\"-275.8\" font-family=\"Helvetica,sans-Serif\" font-size=\"14.00\" fill=\"#000000\">gini = 0.617</text>\n<text text-anchor=\"middle\" x=\"15424\" y=\"-260.8\" font-family=\"Helvetica,sans-Serif\" font-size=\"14.00\" fill=\"#000000\">samples = 1564</text>\n<text text-anchor=\"middle\" x=\"15424\" y=\"-245.8\" font-family=\"Helvetica,sans-Serif\" font-size=\"14.00\" fill=\"#000000\">value = [0, 0, 113, 0, 0, 197, 223, 0, 126, 905, 0]</text>\n<text text-anchor=\"middle\" x=\"15424\" y=\"-230.8\" font-family=\"Helvetica,sans-Serif\" font-size=\"14.00\" fill=\"#000000\">class = Germany</text>\n</g>\n<!-- 98&#45;&gt;106 -->\n<g id=\"edge106\" class=\"edge\">\n<title>98&#45;&gt;106</title>\n<path fill=\"none\" stroke=\"#000000\" d=\"M14753.1146,-359.8827C14897.6786,-339.3294 15106.3752,-309.6581 15252.5032,-288.8825\"/>\n<polygon fill=\"#000000\" stroke=\"#000000\" points=\"15253.0675,-292.3375 15262.4753,-287.4647 15252.0822,-285.4072 15253.0675,-292.3375\"/>\n</g>\n<!-- 100 -->\n<g id=\"node101\" class=\"node\">\n<title>100</title>\n<path fill=\"#f3a7db\" stroke=\"#000000\" d=\"M14583,-187C14583,-187 14275,-187 14275,-187 14269,-187 14263,-181 14263,-175 14263,-175 14263,-116 14263,-116 14263,-110 14269,-104 14275,-104 14275,-104 14583,-104 14583,-104 14589,-104 14595,-110 14595,-116 14595,-116 14595,-175 14595,-175 14595,-181 14589,-187 14583,-187\"/>\n<text text-anchor=\"middle\" x=\"14429\" y=\"-171.8\" font-family=\"Helvetica,sans-Serif\" font-size=\"14.00\" fill=\"#000000\">EXT10 &lt;= 4.5</text>\n<text text-anchor=\"middle\" x=\"14429\" y=\"-156.8\" font-family=\"Helvetica,sans-Serif\" font-size=\"14.00\" fill=\"#000000\">gini = 0.672</text>\n<text text-anchor=\"middle\" x=\"14429\" y=\"-141.8\" font-family=\"Helvetica,sans-Serif\" font-size=\"14.00\" fill=\"#000000\">samples = 2711</text>\n<text text-anchor=\"middle\" x=\"14429\" y=\"-126.8\" font-family=\"Helvetica,sans-Serif\" font-size=\"14.00\" fill=\"#000000\">value = [0, 0, 290, 0, 0, 363, 335, 0, 314, 1409, 0]</text>\n<text text-anchor=\"middle\" x=\"14429\" y=\"-111.8\" font-family=\"Helvetica,sans-Serif\" font-size=\"14.00\" fill=\"#000000\">class = Germany</text>\n</g>\n<!-- 99&#45;&gt;100 -->\n<g id=\"edge100\" class=\"edge\">\n<title>99&#45;&gt;100</title>\n<path fill=\"none\" stroke=\"#000000\" d=\"M14531.7393,-222.8796C14518.9901,-213.2774 14505.3317,-202.9903 14492.2709,-193.1534\"/>\n<polygon fill=\"#000000\" stroke=\"#000000\" points=\"14494.3231,-190.3174 14484.2295,-187.0969 14490.1117,-195.9089 14494.3231,-190.3174\"/>\n</g>\n<!-- 103 -->\n<g id=\"node104\" class=\"node\">\n<title>103</title>\n<path fill=\"#fad7ef\" stroke=\"#000000\" d=\"M14867,-187C14867,-187 14625,-187 14625,-187 14619,-187 14613,-181 14613,-175 14613,-175 14613,-116 14613,-116 14613,-110 14619,-104 14625,-104 14625,-104 14867,-104 14867,-104 14873,-104 14879,-110 14879,-116 14879,-116 14879,-175 14879,-175 14879,-181 14873,-187 14867,-187\"/>\n<text text-anchor=\"middle\" x=\"14746\" y=\"-171.8\" font-family=\"Helvetica,sans-Serif\" font-size=\"14.00\" fill=\"#000000\">EXT7 &lt;= 4.5</text>\n<text text-anchor=\"middle\" x=\"14746\" y=\"-156.8\" font-family=\"Helvetica,sans-Serif\" font-size=\"14.00\" fill=\"#000000\">gini = 0.71</text>\n<text text-anchor=\"middle\" x=\"14746\" y=\"-141.8\" font-family=\"Helvetica,sans-Serif\" font-size=\"14.00\" fill=\"#000000\">samples = 47</text>\n<text text-anchor=\"middle\" x=\"14746\" y=\"-126.8\" font-family=\"Helvetica,sans-Serif\" font-size=\"14.00\" fill=\"#000000\">value = [0, 0, 12, 0, 0, 0, 6, 0, 10, 19, 0]</text>\n<text text-anchor=\"middle\" x=\"14746\" y=\"-111.8\" font-family=\"Helvetica,sans-Serif\" font-size=\"14.00\" fill=\"#000000\">class = Germany</text>\n</g>\n<!-- 99&#45;&gt;103 -->\n<g id=\"edge103\" class=\"edge\">\n<title>99&#45;&gt;103</title>\n<path fill=\"none\" stroke=\"#000000\" d=\"M14642.6105,-222.8796C14655.4403,-213.2774 14669.1852,-202.9903 14682.3286,-193.1534\"/>\n<polygon fill=\"#000000\" stroke=\"#000000\" points=\"14684.5121,-195.891 14690.4209,-187.0969 14680.3177,-190.2868 14684.5121,-195.891\"/>\n</g>\n<!-- 101 -->\n<g id=\"node102\" class=\"node\">\n<title>101</title>\n<path fill=\"#f4a8db\" stroke=\"#000000\" d=\"M14281,-68C14281,-68 13973,-68 13973,-68 13967,-68 13961,-62 13961,-56 13961,-56 13961,-12 13961,-12 13961,-6 13967,0 13973,0 13973,0 14281,0 14281,0 14287,0 14293,-6 14293,-12 14293,-12 14293,-56 14293,-56 14293,-62 14287,-68 14281,-68\"/>\n<text text-anchor=\"middle\" x=\"14127\" y=\"-52.8\" font-family=\"Helvetica,sans-Serif\" font-size=\"14.00\" fill=\"#000000\">gini = 0.673</text>\n<text text-anchor=\"middle\" x=\"14127\" y=\"-37.8\" font-family=\"Helvetica,sans-Serif\" font-size=\"14.00\" fill=\"#000000\">samples = 2559</text>\n<text text-anchor=\"middle\" x=\"14127\" y=\"-22.8\" font-family=\"Helvetica,sans-Serif\" font-size=\"14.00\" fill=\"#000000\">value = [0, 0, 271, 0, 0, 359, 308, 0, 294, 1327, 0]</text>\n<text text-anchor=\"middle\" x=\"14127\" y=\"-7.8\" font-family=\"Helvetica,sans-Serif\" font-size=\"14.00\" fill=\"#000000\">class = Germany</text>\n</g>\n<!-- 100&#45;&gt;101 -->\n<g id=\"edge101\" class=\"edge\">\n<title>100&#45;&gt;101</title>\n<path fill=\"none\" stroke=\"#000000\" d=\"M14316.5463,-103.9815C14287.7686,-93.3566 14256.989,-81.9926 14228.7822,-71.5785\"/>\n<polygon fill=\"#000000\" stroke=\"#000000\" points=\"14229.9149,-68.2659 14219.3216,-68.0856 14227.4904,-74.8326 14229.9149,-68.2659\"/>\n</g>\n<!-- 102 -->\n<g id=\"node103\" class=\"node\">\n<title>102</title>\n<path fill=\"#f4a8db\" stroke=\"#000000\" d=\"M14573,-68C14573,-68 14323,-68 14323,-68 14317,-68 14311,-62 14311,-56 14311,-56 14311,-12 14311,-12 14311,-6 14317,0 14323,0 14323,0 14573,0 14573,0 14579,0 14585,-6 14585,-12 14585,-12 14585,-56 14585,-56 14585,-62 14579,-68 14573,-68\"/>\n<text text-anchor=\"middle\" x=\"14448\" y=\"-52.8\" font-family=\"Helvetica,sans-Serif\" font-size=\"14.00\" fill=\"#000000\">gini = 0.644</text>\n<text text-anchor=\"middle\" x=\"14448\" y=\"-37.8\" font-family=\"Helvetica,sans-Serif\" font-size=\"14.00\" fill=\"#000000\">samples = 152</text>\n<text text-anchor=\"middle\" x=\"14448\" y=\"-22.8\" font-family=\"Helvetica,sans-Serif\" font-size=\"14.00\" fill=\"#000000\">value = [0, 0, 19, 0, 0, 4, 27, 0, 20, 82, 0]</text>\n<text text-anchor=\"middle\" x=\"14448\" y=\"-7.8\" font-family=\"Helvetica,sans-Serif\" font-size=\"14.00\" fill=\"#000000\">class = Germany</text>\n</g>\n<!-- 100&#45;&gt;102 -->\n<g id=\"edge102\" class=\"edge\">\n<title>100&#45;&gt;102</title>\n<path fill=\"none\" stroke=\"#000000\" d=\"M14436.0749,-103.9815C14437.5001,-95.618 14439.0033,-86.7965 14440.4442,-78.3409\"/>\n<polygon fill=\"#000000\" stroke=\"#000000\" points=\"14443.9317,-78.7095 14442.1613,-68.2637 14437.0312,-77.5336 14443.9317,-78.7095\"/>\n</g>\n<!-- 104 -->\n<g id=\"node105\" class=\"node\">\n<title>104</title>\n<path fill=\"#f5b4e0\" stroke=\"#000000\" d=\"M14840.5,-68C14840.5,-68 14615.5,-68 14615.5,-68 14609.5,-68 14603.5,-62 14603.5,-56 14603.5,-56 14603.5,-12 14603.5,-12 14603.5,-6 14609.5,0 14615.5,0 14615.5,0 14840.5,0 14840.5,0 14846.5,0 14852.5,-6 14852.5,-12 14852.5,-12 14852.5,-56 14852.5,-56 14852.5,-62 14846.5,-68 14840.5,-68\"/>\n<text text-anchor=\"middle\" x=\"14728\" y=\"-52.8\" font-family=\"Helvetica,sans-Serif\" font-size=\"14.00\" fill=\"#000000\">gini = 0.64</text>\n<text text-anchor=\"middle\" x=\"14728\" y=\"-37.8\" font-family=\"Helvetica,sans-Serif\" font-size=\"14.00\" fill=\"#000000\">samples = 37</text>\n<text text-anchor=\"middle\" x=\"14728\" y=\"-22.8\" font-family=\"Helvetica,sans-Serif\" font-size=\"14.00\" fill=\"#000000\">value = [0, 0, 8, 0, 0, 0, 2, 0, 8, 19, 0]</text>\n<text text-anchor=\"middle\" x=\"14728\" y=\"-7.8\" font-family=\"Helvetica,sans-Serif\" font-size=\"14.00\" fill=\"#000000\">class = Germany</text>\n</g>\n<!-- 103&#45;&gt;104 -->\n<g id=\"edge104\" class=\"edge\">\n<title>103&#45;&gt;104</title>\n<path fill=\"none\" stroke=\"#000000\" d=\"M14739.2975,-103.9815C14737.9473,-95.618 14736.5232,-86.7965 14735.1582,-78.3409\"/>\n<polygon fill=\"#000000\" stroke=\"#000000\" points=\"14738.5804,-77.578 14733.5314,-68.2637 14731.6699,-78.6937 14738.5804,-77.578\"/>\n</g>\n<!-- 105 -->\n<g id=\"node106\" class=\"node\">\n<title>105</title>\n<path fill=\"#ffffff\" stroke=\"#000000\" d=\"M15099.5,-68C15099.5,-68 14882.5,-68 14882.5,-68 14876.5,-68 14870.5,-62 14870.5,-56 14870.5,-56 14870.5,-12 14870.5,-12 14870.5,-6 14876.5,0 14882.5,0 14882.5,0 15099.5,0 15099.5,0 15105.5,0 15111.5,-6 15111.5,-12 15111.5,-12 15111.5,-56 15111.5,-56 15111.5,-62 15105.5,-68 15099.5,-68\"/>\n<text text-anchor=\"middle\" x=\"14991\" y=\"-52.8\" font-family=\"Helvetica,sans-Serif\" font-size=\"14.00\" fill=\"#000000\">gini = 0.64</text>\n<text text-anchor=\"middle\" x=\"14991\" y=\"-37.8\" font-family=\"Helvetica,sans-Serif\" font-size=\"14.00\" fill=\"#000000\">samples = 10</text>\n<text text-anchor=\"middle\" x=\"14991\" y=\"-22.8\" font-family=\"Helvetica,sans-Serif\" font-size=\"14.00\" fill=\"#000000\">value = [0, 0, 4, 0, 0, 0, 4, 0, 2, 0, 0]</text>\n<text text-anchor=\"middle\" x=\"14991\" y=\"-7.8\" font-family=\"Helvetica,sans-Serif\" font-size=\"14.00\" fill=\"#000000\">class = Sweden</text>\n</g>\n<!-- 103&#45;&gt;105 -->\n<g id=\"edge105\" class=\"edge\">\n<title>103&#45;&gt;105</title>\n<path fill=\"none\" stroke=\"#000000\" d=\"M14837.229,-103.9815C14860.0676,-93.5876 14884.4604,-82.4864 14906.9331,-72.259\"/>\n<polygon fill=\"#000000\" stroke=\"#000000\" points=\"14908.4514,-75.4135 14916.1033,-68.0856 14905.5518,-69.0423 14908.4514,-75.4135\"/>\n</g>\n<!-- 107 -->\n<g id=\"node108\" class=\"node\">\n<title>107</title>\n<path fill=\"#f29fd8\" stroke=\"#000000\" d=\"M15557,-187C15557,-187 15291,-187 15291,-187 15285,-187 15279,-181 15279,-175 15279,-175 15279,-116 15279,-116 15279,-110 15285,-104 15291,-104 15291,-104 15557,-104 15557,-104 15563,-104 15569,-110 15569,-116 15569,-116 15569,-175 15569,-175 15569,-181 15563,-187 15557,-187\"/>\n<text text-anchor=\"middle\" x=\"15424\" y=\"-171.8\" font-family=\"Helvetica,sans-Serif\" font-size=\"14.00\" fill=\"#000000\">EXT1 &lt;= 2.5</text>\n<text text-anchor=\"middle\" x=\"15424\" y=\"-156.8\" font-family=\"Helvetica,sans-Serif\" font-size=\"14.00\" fill=\"#000000\">gini = 0.647</text>\n<text text-anchor=\"middle\" x=\"15424\" y=\"-141.8\" font-family=\"Helvetica,sans-Serif\" font-size=\"14.00\" fill=\"#000000\">samples = 643</text>\n<text text-anchor=\"middle\" x=\"15424\" y=\"-126.8\" font-family=\"Helvetica,sans-Serif\" font-size=\"14.00\" fill=\"#000000\">value = [0, 0, 72, 0, 0, 81, 77, 0, 60, 353, 0]</text>\n<text text-anchor=\"middle\" x=\"15424\" y=\"-111.8\" font-family=\"Helvetica,sans-Serif\" font-size=\"14.00\" fill=\"#000000\">class = Germany</text>\n</g>\n<!-- 106&#45;&gt;107 -->\n<g id=\"edge107\" class=\"edge\">\n<title>106&#45;&gt;107</title>\n<path fill=\"none\" stroke=\"#000000\" d=\"M15424,-222.8796C15424,-214.6838 15424,-205.9891 15424,-197.5013\"/>\n<polygon fill=\"#000000\" stroke=\"#000000\" points=\"15427.5001,-197.298 15424,-187.2981 15420.5001,-197.2981 15427.5001,-197.298\"/>\n</g>\n<!-- 110 -->\n<g id=\"node111\" class=\"node\">\n<title>110</title>\n<path fill=\"#f197d5\" stroke=\"#000000\" d=\"M16032.5,-187C16032.5,-187 15749.5,-187 15749.5,-187 15743.5,-187 15737.5,-181 15737.5,-175 15737.5,-175 15737.5,-116 15737.5,-116 15737.5,-110 15743.5,-104 15749.5,-104 15749.5,-104 16032.5,-104 16032.5,-104 16038.5,-104 16044.5,-110 16044.5,-116 16044.5,-116 16044.5,-175 16044.5,-175 16044.5,-181 16038.5,-187 16032.5,-187\"/>\n<text text-anchor=\"middle\" x=\"15891\" y=\"-171.8\" font-family=\"Helvetica,sans-Serif\" font-size=\"14.00\" fill=\"#000000\">EXT6 &lt;= 2.5</text>\n<text text-anchor=\"middle\" x=\"15891\" y=\"-156.8\" font-family=\"Helvetica,sans-Serif\" font-size=\"14.00\" fill=\"#000000\">gini = 0.593</text>\n<text text-anchor=\"middle\" x=\"15891\" y=\"-141.8\" font-family=\"Helvetica,sans-Serif\" font-size=\"14.00\" fill=\"#000000\">samples = 921</text>\n<text text-anchor=\"middle\" x=\"15891\" y=\"-126.8\" font-family=\"Helvetica,sans-Serif\" font-size=\"14.00\" fill=\"#000000\">value = [0, 0, 41, 0, 0, 116, 146, 0, 66, 552, 0]</text>\n<text text-anchor=\"middle\" x=\"15891\" y=\"-111.8\" font-family=\"Helvetica,sans-Serif\" font-size=\"14.00\" fill=\"#000000\">class = Germany</text>\n</g>\n<!-- 106&#45;&gt;110 -->\n<g id=\"edge110\" class=\"edge\">\n<title>106&#45;&gt;110</title>\n<path fill=\"none\" stroke=\"#000000\" d=\"M15585.696,-223.2969C15631.5824,-211.6043 15681.5672,-198.8672 15727.5562,-187.1484\"/>\n<polygon fill=\"#000000\" stroke=\"#000000\" points=\"15728.4802,-190.5249 15737.3062,-184.6639 15726.7516,-183.7417 15728.4802,-190.5249\"/>\n</g>\n<!-- 108 -->\n<g id=\"node109\" class=\"node\">\n<title>108</title>\n<path fill=\"#f29cd6\" stroke=\"#000000\" d=\"M15408,-68C15408,-68 15142,-68 15142,-68 15136,-68 15130,-62 15130,-56 15130,-56 15130,-12 15130,-12 15130,-6 15136,0 15142,0 15142,0 15408,0 15408,0 15414,0 15420,-6 15420,-12 15420,-12 15420,-56 15420,-56 15420,-62 15414,-68 15408,-68\"/>\n<text text-anchor=\"middle\" x=\"15275\" y=\"-52.8\" font-family=\"Helvetica,sans-Serif\" font-size=\"14.00\" fill=\"#000000\">gini = 0.636</text>\n<text text-anchor=\"middle\" x=\"15275\" y=\"-37.8\" font-family=\"Helvetica,sans-Serif\" font-size=\"14.00\" fill=\"#000000\">samples = 342</text>\n<text text-anchor=\"middle\" x=\"15275\" y=\"-22.8\" font-family=\"Helvetica,sans-Serif\" font-size=\"14.00\" fill=\"#000000\">value = [0, 0, 42, 0, 0, 30, 36, 0, 42, 192, 0]</text>\n<text text-anchor=\"middle\" x=\"15275\" y=\"-7.8\" font-family=\"Helvetica,sans-Serif\" font-size=\"14.00\" fill=\"#000000\">class = Germany</text>\n</g>\n<!-- 107&#45;&gt;108 -->\n<g id=\"edge108\" class=\"edge\">\n<title>107&#45;&gt;108</title>\n<path fill=\"none\" stroke=\"#000000\" d=\"M15368.5179,-103.9815C15355.6221,-94.3313 15341.9116,-84.0714 15329.0773,-74.4673\"/>\n<polygon fill=\"#000000\" stroke=\"#000000\" points=\"15330.8908,-71.4528 15320.7873,-68.2637 15326.6968,-77.0574 15330.8908,-71.4528\"/>\n</g>\n<!-- 109 -->\n<g id=\"node110\" class=\"node\">\n<title>109</title>\n<path fill=\"#f4a8db\" stroke=\"#000000\" d=\"M15716,-68C15716,-68 15450,-68 15450,-68 15444,-68 15438,-62 15438,-56 15438,-56 15438,-12 15438,-12 15438,-6 15444,0 15450,0 15450,0 15716,0 15716,0 15722,0 15728,-6 15728,-12 15728,-12 15728,-56 15728,-56 15728,-62 15722,-68 15716,-68\"/>\n<text text-anchor=\"middle\" x=\"15583\" y=\"-52.8\" font-family=\"Helvetica,sans-Serif\" font-size=\"14.00\" fill=\"#000000\">gini = 0.653</text>\n<text text-anchor=\"middle\" x=\"15583\" y=\"-37.8\" font-family=\"Helvetica,sans-Serif\" font-size=\"14.00\" fill=\"#000000\">samples = 301</text>\n<text text-anchor=\"middle\" x=\"15583\" y=\"-22.8\" font-family=\"Helvetica,sans-Serif\" font-size=\"14.00\" fill=\"#000000\">value = [0, 0, 30, 0, 0, 51, 41, 0, 18, 161, 0]</text>\n<text text-anchor=\"middle\" x=\"15583\" y=\"-7.8\" font-family=\"Helvetica,sans-Serif\" font-size=\"14.00\" fill=\"#000000\">class = Germany</text>\n</g>\n<!-- 107&#45;&gt;109 -->\n<g id=\"edge109\" class=\"edge\">\n<title>107&#45;&gt;109</title>\n<path fill=\"none\" stroke=\"#000000\" d=\"M15483.2057,-103.9815C15497.1712,-94.1881 15512.0321,-83.7668 15525.9023,-74.0402\"/>\n<polygon fill=\"#000000\" stroke=\"#000000\" points=\"15528.2156,-76.6928 15534.3936,-68.0856 15524.1965,-70.9616 15528.2156,-76.6928\"/>\n</g>\n<!-- 111 -->\n<g id=\"node112\" class=\"node\">\n<title>111</title>\n<path fill=\"#f08fd1\" stroke=\"#000000\" d=\"M16024,-68C16024,-68 15758,-68 15758,-68 15752,-68 15746,-62 15746,-56 15746,-56 15746,-12 15746,-12 15746,-6 15752,0 15758,0 15758,0 16024,0 16024,0 16030,0 16036,-6 16036,-12 16036,-12 16036,-56 16036,-56 16036,-62 16030,-68 16024,-68\"/>\n<text text-anchor=\"middle\" x=\"15891\" y=\"-52.8\" font-family=\"Helvetica,sans-Serif\" font-size=\"14.00\" fill=\"#000000\">gini = 0.565</text>\n<text text-anchor=\"middle\" x=\"15891\" y=\"-37.8\" font-family=\"Helvetica,sans-Serif\" font-size=\"14.00\" fill=\"#000000\">samples = 666</text>\n<text text-anchor=\"middle\" x=\"15891\" y=\"-22.8\" font-family=\"Helvetica,sans-Serif\" font-size=\"14.00\" fill=\"#000000\">value = [0, 0, 27, 0, 0, 82, 92, 0, 47, 418, 0]</text>\n<text text-anchor=\"middle\" x=\"15891\" y=\"-7.8\" font-family=\"Helvetica,sans-Serif\" font-size=\"14.00\" fill=\"#000000\">class = Germany</text>\n</g>\n<!-- 110&#45;&gt;111 -->\n<g id=\"edge111\" class=\"edge\">\n<title>110&#45;&gt;111</title>\n<path fill=\"none\" stroke=\"#000000\" d=\"M15891,-103.9815C15891,-95.618 15891,-86.7965 15891,-78.3409\"/>\n<polygon fill=\"#000000\" stroke=\"#000000\" points=\"15894.5001,-78.2636 15891,-68.2637 15887.5001,-78.2637 15894.5001,-78.2636\"/>\n</g>\n<!-- 112 -->\n<g id=\"node113\" class=\"node\">\n<title>112</title>\n<path fill=\"#f5b0df\" stroke=\"#000000\" d=\"M16332,-68C16332,-68 16066,-68 16066,-68 16060,-68 16054,-62 16054,-56 16054,-56 16054,-12 16054,-12 16054,-6 16060,0 16066,0 16066,0 16332,0 16332,0 16338,0 16344,-6 16344,-12 16344,-12 16344,-56 16344,-56 16344,-62 16338,-68 16332,-68\"/>\n<text text-anchor=\"middle\" x=\"16199\" y=\"-52.8\" font-family=\"Helvetica,sans-Serif\" font-size=\"14.00\" fill=\"#000000\">gini = 0.653</text>\n<text text-anchor=\"middle\" x=\"16199\" y=\"-37.8\" font-family=\"Helvetica,sans-Serif\" font-size=\"14.00\" fill=\"#000000\">samples = 255</text>\n<text text-anchor=\"middle\" x=\"16199\" y=\"-22.8\" font-family=\"Helvetica,sans-Serif\" font-size=\"14.00\" fill=\"#000000\">value = [0, 0, 14, 0, 0, 34, 54, 0, 19, 134, 0]</text>\n<text text-anchor=\"middle\" x=\"16199\" y=\"-7.8\" font-family=\"Helvetica,sans-Serif\" font-size=\"14.00\" fill=\"#000000\">class = Germany</text>\n</g>\n<!-- 110&#45;&gt;112 -->\n<g id=\"edge112\" class=\"edge\">\n<title>110&#45;&gt;112</title>\n<path fill=\"none\" stroke=\"#000000\" d=\"M16005.6878,-103.9815C16035.0373,-93.3566 16066.4284,-81.9926 16095.1957,-71.5785\"/>\n<polygon fill=\"#000000\" stroke=\"#000000\" points=\"16096.6328,-74.7806 16104.8442,-68.0856 16094.25,-68.1986 16096.6328,-74.7806\"/>\n</g>\n</g>\n</svg>\n"
          },
          "metadata": {
            "tags": []
          },
          "execution_count": 26
        }
      ]
    },
    {
      "cell_type": "code",
      "metadata": {
        "id": "SkBBHrzKGT6J",
        "colab_type": "code",
        "colab": {
          "base_uri": "https://localhost:8080/",
          "height": 34
        },
        "outputId": "b7f29e6a-f709-4988-8d72-b9a5c693a897"
      },
      "source": [
        "pred = modelo.predict([[1,1,1,1,1,1,1,1,1,1,3,2]])\n",
        "print(\"Previsão: \"+ pred[0])"
      ],
      "execution_count": 33,
      "outputs": [
        {
          "output_type": "stream",
          "text": [
            "Previsão: United States\n"
          ],
          "name": "stdout"
        }
      ]
    },
    {
      "cell_type": "code",
      "metadata": {
        "id": "MH9__RCvulCl",
        "colab_type": "code",
        "colab": {
          "base_uri": "https://localhost:8080/",
          "height": 34
        },
        "outputId": "89dafe04-5946-47a2-89c2-e1216c86102e"
      },
      "source": [
        "centr = kmeans.predict([[1,1,1,1,1,1,1,1,1,1]])\n",
        "print(\"Centroide: \"+ str(centr[0]))"
      ],
      "execution_count": 28,
      "outputs": [
        {
          "output_type": "stream",
          "text": [
            "Centroide: 2\n"
          ],
          "name": "stdout"
        }
      ]
    },
    {
      "cell_type": "code",
      "metadata": {
        "id": "F6VnBXlmnuFl",
        "colab_type": "code",
        "colab": {}
      },
      "source": [
        ""
      ],
      "execution_count": null,
      "outputs": []
    }
  ]
}